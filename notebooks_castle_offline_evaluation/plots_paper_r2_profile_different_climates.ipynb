{
 "cells": [
  {
   "cell_type": "markdown",
   "id": "cbeb9298-8766-4f38-89e9-07f671d4c3fb",
   "metadata": {},
   "source": [
    "# Paper Plot R2, Profile for different climates"
   ]
  },
  {
   "cell_type": "code",
   "execution_count": 1,
   "id": "f0d7d1da-6a32-4267-81fe-1a027e7f8808",
   "metadata": {},
   "outputs": [],
   "source": [
    "%load_ext autoreload\n",
    "%autoreload 2"
   ]
  },
  {
   "cell_type": "code",
   "execution_count": 2,
   "id": "b2668804-a2a1-4167-9f3e-b3d520d1f738",
   "metadata": {},
   "outputs": [],
   "source": [
    "import sys\n",
    "import os"
   ]
  },
  {
   "cell_type": "code",
   "execution_count": 3,
   "id": "4e434b3e-7fe7-44c5-9523-f2e64a09f844",
   "metadata": {},
   "outputs": [],
   "source": [
    "module_path = os.path.abspath(os.path.join('..'))\n",
    "# Relative imports\n",
    "if module_path not in sys.path:\n",
    "    sys.path.append(module_path)"
   ]
  },
  {
   "cell_type": "code",
   "execution_count": 4,
   "id": "fa5639d2-c707-4dba-a505-ff88a0414eb3",
   "metadata": {},
   "outputs": [
    {
     "name": "stderr",
     "output_type": "stream",
     "text": [
      "2024-04-07 08:05:04.681526: I tensorflow/core/platform/cpu_feature_guard.cc:182] This TensorFlow binary is optimized to use available CPU instructions in performance-critical operations.\n",
      "To enable the following instructions: AVX2 FMA, in other operations, rebuild TensorFlow with the appropriate compiler flags.\n",
      "IProgress not found. Please update jupyter and ipywidgets. See https://ipywidgets.readthedocs.io/en/stable/user_install.html\n"
     ]
    }
   ],
   "source": [
    "from utils.setup import SetupDiagnostics\n",
    "from neural_networks.load_models import load_models, get_save_plot_folder, load_single_model\n",
    "from neural_networks.model_diagnostics import ModelDiagnostics\n",
    "from utils.utils import read_ancilaries, find_closest_value, find_closest_longitude  # , get_pressure\n",
    "from pathlib import Path\n",
    "from utils.variable import Variable_Lev_Metadata\n",
    "from neural_networks.cbrain.cam_constants import *\n",
    "import matplotlib.pyplot as plt\n",
    "import gc\n",
    "import pickle\n",
    "import seaborn as sns\n",
    "import pandas as pd\n",
    "import numpy as np\n",
    "\n",
    "import matplotlib.pyplot as plt\n",
    "import cmocean\n",
    "import seaborn as sns\n",
    "\n",
    "import matplotlib as mpl\n",
    "mpl.rcParams.update(mpl.rcParamsDefault)"
   ]
  },
  {
   "cell_type": "code",
   "execution_count": 6,
   "id": "ce0a51c0-ce9b-4f63-b2a7-56d76d688fad",
   "metadata": {},
   "outputs": [],
   "source": [
    "# PROJECT_ROOT = Path.cwd().parent.resolve()\n",
    "PROJECT_ROOT = Path(\"/p/scratch/icon-a-ml/kuehbacher1\")\n",
    "\n",
    "# training_92_mask_net_prediction_thresholds_spars1e-4\n",
    "# training_93_mask_net_prediction_thresholds_spars1e-5\n",
    "# training_109_mask_net_prediction_thresholds_spars0.001_plus4k_ref2_train\n",
    "# training_110_mask_net_prediction_thresholds_spars0.001_plus4k_ref2_val\n",
    "# training_111_mask_net_prediction_thresholds_spars0.001_minus4k_ref2_train\n",
    "# training_112_mask_net_prediction_thresholds_spars0.001_minus4k_ref2_val\n",
    "\n",
    "training_runs = {\n",
    "    \"plus4k\": \"training_103_mask_net_prediction_thresholds_spars0.001_plus4k\",\n",
    "    \"minus4k\": \"training_104_mask_net_prediction_thresholds_spars0.001_minus4k\",\n",
    "    \"plus4k_ref\": \"training_105_mask_net_prediction_thresholds_spars0.001_plus4k_ref\",\n",
    "    \"minus4k_ref\": \"training_106_mask_net_prediction_thresholds_spars0.001_minus4k_ref\",\n",
    "    \"plus4k_ref2\": \"training_109_mask_net_prediction_thresholds_spars0.001_plus4k_ref2_train\",\n",
    "    \"minus4k_ref2\": \"training_111_mask_net_prediction_thresholds_spars0.001_minus4k_ref2_train\",}\n",
    "\n",
    "train_val = \"_train\"\n",
    "\n",
    "outputs_list_file = os.path.join(PROJECT_ROOT, \"output_castle\", \"training_103_mask_net_prediction_thresholds_spars0.001_plus4k\", \n",
    "                                 \"outputs_list.txt\")\n",
    "ANCIL_FILE = os.path.join(Path.cwd().parent.resolve(), \"data\", \"ancil_spcam.nc\")"
   ]
  },
  {
   "cell_type": "code",
   "execution_count": 7,
   "id": "29f03f86-32cb-451f-a8c3-bd5c01623c23",
   "metadata": {},
   "outputs": [],
   "source": [
    "def get_base_dir(d):\n",
    "    return os.path.join(PROJECT_ROOT, \"output_castle\", d)\n",
    "\n",
    "def get_plots_dir(d):\n",
    "    return os.path.join(PROJECT_ROOT, \"output_castle\", d, \"plots_offline_evaluation\")\n",
    "\n",
    "def get_cfg(d):\n",
    "    return os.path.join(PROJECT_ROOT, \"output_castle\", d, f\"cfg_mask_net_thresholds{train_val}.yml\")\n",
    "    "
   ]
  },
  {
   "cell_type": "code",
   "execution_count": null,
   "id": "ddbf765f-7644-4a2a-badb-301be67c9918",
   "metadata": {},
   "outputs": [],
   "source": []
  },
  {
   "cell_type": "code",
   "execution_count": null,
   "id": "5a71fb4c-3dc1-4245-8730-4c1d70e45c95",
   "metadata": {},
   "outputs": [],
   "source": []
  },
  {
   "cell_type": "code",
   "execution_count": 97,
   "id": "cdfd9f5b-777d-45e2-8d07-47af1d2d80fb",
   "metadata": {},
   "outputs": [],
   "source": [
    "climate = \"minus4k\" # plus4k, minus4k\n",
    "variable = \"phq\" # tphystnd, phq \n",
    "stats = \"r2\""
   ]
  },
  {
   "cell_type": "code",
   "execution_count": 98,
   "id": "51685240-7040-435a-b0ec-0d742f0ba952",
   "metadata": {},
   "outputs": [],
   "source": [
    "def get_profiles_dir():\n",
    "    profiles_dirs = dict()\n",
    "    \n",
    "    for key in [climate, climate + \"_ref\"]:     \n",
    "        plots_dir = get_plots_dir(training_runs[key])\n",
    "        profile_dir = os.path.join(plots_dir, \"plots_profiles\" + train_val, \n",
    "                                   f\"range-1440_lats-90_90_lons0.0_359.0_stats-{stats}\")\n",
    "\n",
    "        profiles_dirs[key] = profile_dir\n",
    "\n",
    "    key = climate + \"_ref2\"\n",
    "    plots_dir = get_plots_dir(training_runs[key])\n",
    "    profile_dir = os.path.join(plots_dir, \"plots_profiles\", f\"range-1440_lats-90_90_lons0.0_359.0_stats-{stats}\")\n",
    "    profiles_dirs[key] = profile_dir\n",
    "    \n",
    "    return profiles_dirs\n",
    "        "
   ]
  },
  {
   "cell_type": "code",
   "execution_count": 99,
   "id": "ca103206-0bd2-423f-be63-c799ea869ad7",
   "metadata": {},
   "outputs": [],
   "source": [
    "def load_pickle(f_name):\n",
    "    with open(f_name, \"rb\") as f:\n",
    "        values = pickle.load(f)\n",
    "    return values"
   ]
  },
  {
   "cell_type": "code",
   "execution_count": 100,
   "id": "d972087c-f40d-4b99-8910-382faca0c181",
   "metadata": {},
   "outputs": [],
   "source": [
    "profiles_dirs = get_profiles_dir()"
   ]
  },
  {
   "cell_type": "code",
   "execution_count": 101,
   "id": "3f7b4e72-4a5c-496c-a126-40675fb44d23",
   "metadata": {},
   "outputs": [],
   "source": [
    "profiles = {key: {} for key in profiles_dirs.keys()}\n",
    "\n",
    "for key, pd in profiles_dirs.items():\n",
    "    profiles[key][\"truth\"] = load_pickle(os.path.join(pd, f\"{variable}_profile_truth.p\"))\n",
    "    profiles[key][\"pred\"] = load_pickle(os.path.join(pd, f\"{variable}_profile_pred.p\"))\n",
    "    profiles[key][stats] = load_pickle(os.path.join(pd, f\"{variable}_stats-{stats}.p\"))"
   ]
  },
  {
   "cell_type": "code",
   "execution_count": null,
   "id": "e7e0d8ff-8027-45bc-a950-9820aaaf82e4",
   "metadata": {},
   "outputs": [],
   "source": []
  },
  {
   "cell_type": "code",
   "execution_count": 102,
   "id": "bc0f63c7-d797-4241-b589-2d5d318ce5cb",
   "metadata": {},
   "outputs": [],
   "source": [
    "def parse_label(l): \n",
    "    if l == \"plus4k\":\n",
    "        return \"+4K\"\n",
    "    elif l == \"plus4k_ref\":\n",
    "        return \"+4K ref\" \n",
    "    elif l == \"minus4k\":\n",
    "        return \"-4K\" \n",
    "    elif l == \"minus4k_ref\":\n",
    "        return \"-4K ref\" \n",
    "    elif l == \"plus4k_ref2\":\n",
    "        return \"+4K ref2\" \n",
    "    elif l == \"minus4k_ref2\":\n",
    "        return \"-4K ref2\" \n",
    "    else: \n",
    "        raise ValueError(f\"Cannot parse unknown label {l}\")"
   ]
  },
  {
   "cell_type": "code",
   "execution_count": 103,
   "id": "6bbb820b-dc59-40f5-8d54-b487b12df3f4",
   "metadata": {},
   "outputs": [],
   "source": [
    "def parse_txt_to_list(txt_file):\n",
    "    line_list = list()\n",
    "    with open(txt_file, 'r') as f:\n",
    "        for line in f:\n",
    "            line_list.append(line.rstrip())\n",
    "    return line_list"
   ]
  },
  {
   "cell_type": "code",
   "execution_count": 104,
   "id": "fff666b7-cff6-468f-9796-61a72dc3ca5a",
   "metadata": {},
   "outputs": [],
   "source": [
    "outputs_list = parse_txt_to_list(outputs_list_file)"
   ]
  },
  {
   "cell_type": "code",
   "execution_count": 114,
   "id": "cf1011a6-12b6-4e81-aacf-f1ee6156c6cd",
   "metadata": {},
   "outputs": [],
   "source": [
    "\n",
    "def plot_profile_r2(ax1, which_ref): \n",
    "    blue = '#3b4cc0' #\"#1E88E5\"\n",
    "    red = '#b40426' #\"#D81B60\"\n",
    "    orange = '#cc5500'\n",
    "\n",
    "    units = {\"tphystnd\": \"K/s\", \"phq\": \"kg/(kg*s)\"}\n",
    "\n",
    "    keys = [climate, climate + \"_ref\", climate + \"_ref2\"]\n",
    "\n",
    "    vmin = np.min([np.min(profiles[k][p]) for p in [\"truth\", \"pred\"] for k in keys])\n",
    "    vmax = np.max([np.max(profiles[k][p]) for p in [\"truth\", \"pred\"] for k in keys])\n",
    "        \n",
    "    vlim = np.max([np.abs(vmin), np.abs(vmax)]) / 2.\n",
    "    vmin = -vlim;\n",
    "    vmax = vlim\n",
    "    \n",
    "    # Plotting on the primary X-axis (bottom)\n",
    "    line_truth, = ax1.plot(np.mean(profiles[climate][\"truth\"], axis=0), P, \n",
    "                             label=f\"{parse_label(climate)} SPCAM\", color=blue)\n",
    "    \n",
    "    line_pred_1, = ax1.plot(np.mean(profiles[climate][\"pred\"], axis=0), P, \n",
    "                            label=f\"{parse_label(climate)} Prediction\", linestyle=\"dashed\", color=blue)\n",
    "    line_pred_2, = ax1.plot(np.mean(profiles[climate + which_ref][\"pred\"], axis=0), P, \n",
    "                            label=f\"{parse_label(climate + which_ref)} Prediction\", linestyle=\"dotted\", color=blue)\n",
    "    \n",
    "    ax1.set_xlim(vmin, vmax)\n",
    "    \n",
    "    ax1.set_xlabel(f'{variable} ({units[variable]})', color=blue)\n",
    "    ax1.tick_params(axis='x', colors=blue) \n",
    "    \n",
    "    ax1.set_ylabel('Pressure (hPa)')\n",
    "    \n",
    "    \n",
    "    # Invert the Y-axis\n",
    "    ax1.invert_yaxis()\n",
    "    \n",
    "    # Set the Y-axis labels\n",
    "    ax1.set_yticks([1000, 600, 300, 0])\n",
    "    \n",
    "    # Create a secondary X-axis (top)\n",
    "    ax2 = ax1.twiny()  # Share the same Y-axis\n",
    "    \n",
    "    arr_1 = np.mean(profiles[climate][stats], axis=1)\n",
    "    arr_2 = np.mean(profiles[climate + which_ref][stats], axis=1)\n",
    "\n",
    "    if variable == \"phq\": \n",
    "\n",
    "        last_neg_index = np.max([np.where(arr_1 < 0)[0][-1], np.where(arr_2 < 0)[0][-1]])\n",
    "        last_neg_index -= 1\n",
    "    \n",
    "        print(f\"Last negative index: {last_neg_index} ({outputs_list[30 + last_neg_index]})\")\n",
    "        print(f\"Start plot from index {last_neg_index + 1} ({outputs_list[30 + last_neg_index +1]})\")\n",
    "\n",
    "        line_r2_1, = ax2.plot(arr_1[last_neg_index+1:], P[last_neg_index + 1:], \n",
    "                          label=f\"{parse_label(climate)} R2\", linestyle=\"dashed\", color=red)  \n",
    "        line_r2_2, = ax2.plot(arr_2[last_neg_index+1:], P[last_neg_index + 1:], \n",
    "                          label=f\"{parse_label(climate + which_ref)} R2\", linestyle=\"dotted\", color=red)  \n",
    "\n",
    "    else:     \n",
    "        line_r2_1, = ax2.plot(arr_1, P, \n",
    "                              label=f\"{parse_label(climate)} R2\", linestyle=\"dashed\", color=red)  \n",
    "        line_r2_2, = ax2.plot(arr_2, P, \n",
    "                              label=f\"{parse_label(climate + which_ref)} R2\", linestyle=\"dotted\", color=red)  \n",
    "        \n",
    "\n",
    "    ax2.set_xlim(-0.05, 1.05)\n",
    "    ax2.set_xlabel('R2 score', color=red)\n",
    "    ax2.tick_params(axis='x', colors=red)  # Set color of ticks and labels to red\n",
    "    \n",
    "    ax2.spines['top'].set_color(red)  \n",
    "    ax2.spines['bottom'].set_color(blue)\n",
    "    \n",
    "    ax1.set_ylabel('Pressure (hPa)', labelpad=15, color='#333333')\n",
    "    ax1.set_xlabel(f\"{variable} ({units[variable]})\", labelpad=15, color='#333333')\n",
    "    \n",
    "    ax1.set_rasterized(True)\n",
    "    ax2.set_rasterized(True)\n",
    "    \n",
    "    plt.legend(handles=[line_truth, line_pred_1, line_pred_2, line_r2_1, line_r2_2], \n",
    "               prop={'size': 11}, loc=\"lower left\")\n",
    "\n"
   ]
  },
  {
   "cell_type": "code",
   "execution_count": 116,
   "id": "b5e3af89-a427-47f6-9d0e-2b86449d3241",
   "metadata": {},
   "outputs": [
    {
     "name": "stdout",
     "output_type": "stream",
     "text": [
      "Last negative index: 10 (phq-142.99)\n",
      "Start plot from index 11 (phq-168.23)\n",
      "Saved figure /p/scratch/icon-a-ml/kuehbacher1/output_castle/training_104_mask_net_prediction_thresholds_spars0.001_minus4k/plots_offline_evaluation/plots_paper_train/phq_profile_r2_minus4k_ref2_cutoff_142.pdf\n"
     ]
    },
    {
     "data": {
      "image/png": "[encoded data removed]",
      "text/plain": [
       "<Figure size 700x450 with 2 Axes>"
      ]
     },
     "metadata": {},
     "output_type": "display_data"
    }
   ],
   "source": [
    "plt.close()\n",
    "\n",
    "which_ref = \"_ref2\" # _ref, _ref2\n",
    "\n",
    "fig, ax1 = plt.subplots(figsize=(7, 4.5))\n",
    "plot_profile_r2(ax1, which_ref)\n",
    "\n",
    "output_dir = os.path.join(get_plots_dir(training_runs[climate]), \"plots_paper\" + train_val)\n",
    "Path(output_dir).mkdir(parents=True, exist_ok=True)\n",
    "\n",
    "# 142, 168\n",
    "f_path = os.path.join(output_dir, f\"{variable}_profile_r2_{climate}{which_ref}_cutoff_142.pdf\") \n",
    "# f_path = os.path.join(output_dir, f\"{variable}_profile_r2_{climate}{which_ref}.pdf\")\n",
    "\n",
    "fig.savefig(f_path, format=\"pdf\", bbox_inches=\"tight\", transparent=True)\n",
    "print(f\"Saved figure {f_path}\")\n",
    "\n",
    "plt.show()"
   ]
  },
  {
   "cell_type": "code",
   "execution_count": null,
   "id": "d1810d11-09ea-472c-a6d2-d04065c63b5b",
   "metadata": {},
   "outputs": [],
   "source": []
  },
  {
   "cell_type": "code",
   "execution_count": null,
   "id": "52625838-dca0-4637-bb0d-4cf5efeddc5e",
   "metadata": {},
   "outputs": [],
   "source": []
  },
  {
   "cell_type": "code",
   "execution_count": null,
   "id": "571c6876-fa8d-4259-a536-e29ec3806789",
   "metadata": {},
   "outputs": [],
   "source": []
  },
  {
   "cell_type": "code",
   "execution_count": null,
   "id": "86a2892a-a5c0-4009-928b-2c589160b896",
   "metadata": {},
   "outputs": [],
   "source": []
  },
  {
   "cell_type": "code",
   "execution_count": null,
   "id": "ba0aea72-63c6-43bf-88a8-68ecb64f52ce",
   "metadata": {},
   "outputs": [],
   "source": []
  },
  {
   "cell_type": "code",
   "execution_count": null,
   "id": "b5bd904a-6a91-450e-aad7-4a0ee2d99f6d",
   "metadata": {},
   "outputs": [],
   "source": []
  },
  {
   "cell_type": "code",
   "execution_count": null,
   "id": "58e23aeb-9dbd-429e-ab90-8cc9bdcb9993",
   "metadata": {},
   "outputs": [],
   "source": []
  }
 ],
 "metadata": {
  "kernelspec": {
   "display_name": "Python 3 (ipykernel)",
   "language": "python",
   "name": "python3"
  },
  "language_info": {
   "codemirror_mode": {
    "name": "ipython",
    "version": 3
   },
   "file_extension": ".py",
   "mimetype": "text/x-python",
   "name": "python",
   "nbconvert_exporter": "python",
   "pygments_lexer": "ipython3",
   "version": "3.9.18"
  }
 },
 "nbformat": 4,
 "nbformat_minor": 5
}
