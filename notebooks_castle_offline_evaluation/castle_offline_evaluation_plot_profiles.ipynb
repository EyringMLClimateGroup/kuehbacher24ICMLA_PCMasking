{
 "cells": [
  {
   "cell_type": "markdown",
   "id": "5e12c5fb-bdc3-455a-96b1-3c685c16b014",
   "metadata": {},
   "source": [
    "# Offline diagnostics for the CASTLE single output networks following Rasp et al. (2018) architecture"
   ]
  },
  {
   "cell_type": "markdown",
   "id": "681699c5-4496-426b-9631-76b19da91b02",
   "metadata": {},
   "source": [
    "# Profile Plots"
   ]
  },
  {
   "cell_type": "code",
   "execution_count": 1,
   "id": "80663586-b976-4036-bf61-041ac57da701",
   "metadata": {},
   "outputs": [],
   "source": [
    "%load_ext autoreload\n",
    "%autoreload 2"
   ]
  },
  {
   "cell_type": "code",
   "execution_count": 2,
   "id": "de40201b-2959-4f57-9333-4c61fd4e5c9f",
   "metadata": {},
   "outputs": [],
   "source": [
    "import sys\n",
    "import os\n",
    "\n",
    "# 0 = all messages are logged (default behavior)\n",
    "# 1 = INFO messages are not printed\n",
    "# 2 = INFO and WARNING messages are not printed\n",
    "# 3 = INFO, WARNING, and ERROR messages are not printe\n",
    "os.environ['TF_CPP_MIN_LOG_LEVEL'] = '1' "
   ]
  },
  {
   "cell_type": "code",
   "execution_count": 3,
   "id": "c8d0f2ce-f43e-480e-a529-5d1871609cce",
   "metadata": {},
   "outputs": [],
   "source": [
    "module_path = os.path.abspath(os.path.join('..'))\n",
    "# Relative imports\n",
    "if module_path not in sys.path:\n",
    "    sys.path.append(module_path)"
   ]
  },
  {
   "cell_type": "code",
   "execution_count": 4,
   "id": "199be6c2-7473-4798-acf8-e0bc5b289502",
   "metadata": {},
   "outputs": [
    {
     "name": "stdout",
     "output_type": "stream",
     "text": [
      "Num GPUs Available:  0\n"
     ]
    }
   ],
   "source": [
    "import tensorflow as tf\n",
    "\n",
    "print(\"Num GPUs Available: \", len(tf.config.list_physical_devices('GPU')))"
   ]
  },
  {
   "cell_type": "code",
   "execution_count": 7,
   "id": "caea0847-9d0e-4704-85a2-6550d7a921e0",
   "metadata": {},
   "outputs": [],
   "source": [
    "from utils.setup import SetupDiagnostics\n",
    "from neural_networks.load_models import load_models, get_save_plot_folder\n",
    "from neural_networks.model_diagnostics import ModelDiagnostics\n",
    "from pathlib import Path"
   ]
  },
  {
   "cell_type": "code",
   "execution_count": 6,
   "id": "329a0d6e-1643-405e-a259-8deb682948df",
   "metadata": {},
   "outputs": [],
   "source": []
  },
  {
   "cell_type": "code",
   "execution_count": null,
   "id": "05a6faf5-18dc-4a5f-8106-3b9a0300ed09",
   "metadata": {},
   "outputs": [],
   "source": []
  },
  {
   "cell_type": "markdown",
   "id": "adec015f-d0c4-4eda-ae03-1fbc8ef29eab",
   "metadata": {},
   "source": [
    "## Load trained CASTLE models"
   ]
  },
  {
   "cell_type": "code",
   "execution_count": 8,
   "id": "4909bf5d-3e49-41a3-acc8-10a596a395c3",
   "metadata": {},
   "outputs": [],
   "source": [
    "argv  = [\"-c\", \"../output_castle/training_7_mirrored/cfg_castle_NN_Creation.yml\"]\n",
    "plot_dir = Path(\"../output_castle/training_7_mirrored/plots_offline_evaluation/plots_profiles/\")"
   ]
  },
  {
   "cell_type": "code",
   "execution_count": 9,
   "id": "b8c0764f-66dd-4ebc-a1de-48376d040b03",
   "metadata": {},
   "outputs": [],
   "source": [
    "castle_setup = SetupDiagnostics(argv)"
   ]
  },
  {
   "cell_type": "code",
   "execution_count": 10,
   "id": "56f4b85e-f044-4ff4-904e-97c427ffccc0",
   "metadata": {
    "tags": []
   },
   "outputs": [
    {
     "name": "stdout",
     "output_type": "stream",
     "text": [
      "\n",
      "Load model: /work/bd1179/b309247/pycharm_projects/iglesias-suarez2yxx_spuriouslinks/output_castle/training_7_mirrored/models_castle/castleNN/r1.0-a1.0-b1.0-l1.0-distributed/hl_256_256_256_256_256_256_256_256_256-act_ReLU-e_18/1_0_model.h5\n",
      "\n",
      "Load model: /work/bd1179/b309247/pycharm_projects/iglesias-suarez2yxx_spuriouslinks/output_castle/training_7_mirrored/models_castle/castleNN/r1.0-a1.0-b1.0-l1.0-distributed/hl_256_256_256_256_256_256_256_256_256-act_ReLU-e_18/1_1_model.h5\n",
      "\n",
      "Load model: /work/bd1179/b309247/pycharm_projects/iglesias-suarez2yxx_spuriouslinks/output_castle/training_7_mirrored/models_castle/castleNN/r1.0-a1.0-b1.0-l1.0-distributed/hl_256_256_256_256_256_256_256_256_256-act_ReLU-e_18/1_2_model.h5\n",
      "\n",
      "Load model: /work/bd1179/b309247/pycharm_projects/iglesias-suarez2yxx_spuriouslinks/output_castle/training_7_mirrored/models_castle/castleNN/r1.0-a1.0-b1.0-l1.0-distributed/hl_256_256_256_256_256_256_256_256_256-act_ReLU-e_18/1_3_model.h5\n",
      "\n",
      "Load model: /work/bd1179/b309247/pycharm_projects/iglesias-suarez2yxx_spuriouslinks/output_castle/training_7_mirrored/models_castle/castleNN/r1.0-a1.0-b1.0-l1.0-distributed/hl_256_256_256_256_256_256_256_256_256-act_ReLU-e_18/1_4_model.h5\n",
      "\n",
      "Load model: /work/bd1179/b309247/pycharm_projects/iglesias-suarez2yxx_spuriouslinks/output_castle/training_7_mirrored/models_castle/castleNN/r1.0-a1.0-b1.0-l1.0-distributed/hl_256_256_256_256_256_256_256_256_256-act_ReLU-e_18/1_5_model.h5\n",
      "\n",
      "Load model: /work/bd1179/b309247/pycharm_projects/iglesias-suarez2yxx_spuriouslinks/output_castle/training_7_mirrored/models_castle/castleNN/r1.0-a1.0-b1.0-l1.0-distributed/hl_256_256_256_256_256_256_256_256_256-act_ReLU-e_18/1_6_model.h5\n",
      "\n",
      "Load model: /work/bd1179/b309247/pycharm_projects/iglesias-suarez2yxx_spuriouslinks/output_castle/training_7_mirrored/models_castle/castleNN/r1.0-a1.0-b1.0-l1.0-distributed/hl_256_256_256_256_256_256_256_256_256-act_ReLU-e_18/1_7_model.h5\n",
      "\n",
      "Load model: /work/bd1179/b309247/pycharm_projects/iglesias-suarez2yxx_spuriouslinks/output_castle/training_7_mirrored/models_castle/castleNN/r1.0-a1.0-b1.0-l1.0-distributed/hl_256_256_256_256_256_256_256_256_256-act_ReLU-e_18/1_8_model.h5\n",
      "\n",
      "Load model: /work/bd1179/b309247/pycharm_projects/iglesias-suarez2yxx_spuriouslinks/output_castle/training_7_mirrored/models_castle/castleNN/r1.0-a1.0-b1.0-l1.0-distributed/hl_256_256_256_256_256_256_256_256_256-act_ReLU-e_18/1_9_model.h5\n",
      "\n",
      "Load model: /work/bd1179/b309247/pycharm_projects/iglesias-suarez2yxx_spuriouslinks/output_castle/training_7_mirrored/models_castle/castleNN/r1.0-a1.0-b1.0-l1.0-distributed/hl_256_256_256_256_256_256_256_256_256-act_ReLU-e_18/1_10_model.h5\n",
      "\n",
      "Load model: /work/bd1179/b309247/pycharm_projects/iglesias-suarez2yxx_spuriouslinks/output_castle/training_7_mirrored/models_castle/castleNN/r1.0-a1.0-b1.0-l1.0-distributed/hl_256_256_256_256_256_256_256_256_256-act_ReLU-e_18/1_11_model.h5\n",
      "\n",
      "Load model: /work/bd1179/b309247/pycharm_projects/iglesias-suarez2yxx_spuriouslinks/output_castle/training_7_mirrored/models_castle/castleNN/r1.0-a1.0-b1.0-l1.0-distributed/hl_256_256_256_256_256_256_256_256_256-act_ReLU-e_18/1_12_model.h5\n",
      "\n",
      "Load model: /work/bd1179/b309247/pycharm_projects/iglesias-suarez2yxx_spuriouslinks/output_castle/training_7_mirrored/models_castle/castleNN/r1.0-a1.0-b1.0-l1.0-distributed/hl_256_256_256_256_256_256_256_256_256-act_ReLU-e_18/1_13_model.h5\n",
      "\n",
      "Load model: /work/bd1179/b309247/pycharm_projects/iglesias-suarez2yxx_spuriouslinks/output_castle/training_7_mirrored/models_castle/castleNN/r1.0-a1.0-b1.0-l1.0-distributed/hl_256_256_256_256_256_256_256_256_256-act_ReLU-e_18/1_14_model.h5\n",
      "\n",
      "Load model: /work/bd1179/b309247/pycharm_projects/iglesias-suarez2yxx_spuriouslinks/output_castle/training_7_mirrored/models_castle/castleNN/r1.0-a1.0-b1.0-l1.0-distributed/hl_256_256_256_256_256_256_256_256_256-act_ReLU-e_18/1_15_model.h5\n",
      "\n",
      "Load model: /work/bd1179/b309247/pycharm_projects/iglesias-suarez2yxx_spuriouslinks/output_castle/training_7_mirrored/models_castle/castleNN/r1.0-a1.0-b1.0-l1.0-distributed/hl_256_256_256_256_256_256_256_256_256-act_ReLU-e_18/1_16_model.h5\n",
      "\n",
      "Load model: /work/bd1179/b309247/pycharm_projects/iglesias-suarez2yxx_spuriouslinks/output_castle/training_7_mirrored/models_castle/castleNN/r1.0-a1.0-b1.0-l1.0-distributed/hl_256_256_256_256_256_256_256_256_256-act_ReLU-e_18/1_17_model.h5\n",
      "\n",
      "Load model: /work/bd1179/b309247/pycharm_projects/iglesias-suarez2yxx_spuriouslinks/output_castle/training_7_mirrored/models_castle/castleNN/r1.0-a1.0-b1.0-l1.0-distributed/hl_256_256_256_256_256_256_256_256_256-act_ReLU-e_18/1_18_model.h5\n",
      "\n",
      "Load model: /work/bd1179/b309247/pycharm_projects/iglesias-suarez2yxx_spuriouslinks/output_castle/training_7_mirrored/models_castle/castleNN/r1.0-a1.0-b1.0-l1.0-distributed/hl_256_256_256_256_256_256_256_256_256-act_ReLU-e_18/1_19_model.h5\n",
      "\n",
      "Load model: /work/bd1179/b309247/pycharm_projects/iglesias-suarez2yxx_spuriouslinks/output_castle/training_7_mirrored/models_castle/castleNN/r1.0-a1.0-b1.0-l1.0-distributed/hl_256_256_256_256_256_256_256_256_256-act_ReLU-e_18/1_20_model.h5\n",
      "\n",
      "Load model: /work/bd1179/b309247/pycharm_projects/iglesias-suarez2yxx_spuriouslinks/output_castle/training_7_mirrored/models_castle/castleNN/r1.0-a1.0-b1.0-l1.0-distributed/hl_256_256_256_256_256_256_256_256_256-act_ReLU-e_18/1_21_model.h5\n",
      "\n",
      "Load model: /work/bd1179/b309247/pycharm_projects/iglesias-suarez2yxx_spuriouslinks/output_castle/training_7_mirrored/models_castle/castleNN/r1.0-a1.0-b1.0-l1.0-distributed/hl_256_256_256_256_256_256_256_256_256-act_ReLU-e_18/1_22_model.h5\n",
      "\n",
      "Load model: /work/bd1179/b309247/pycharm_projects/iglesias-suarez2yxx_spuriouslinks/output_castle/training_7_mirrored/models_castle/castleNN/r1.0-a1.0-b1.0-l1.0-distributed/hl_256_256_256_256_256_256_256_256_256-act_ReLU-e_18/1_23_model.h5\n",
      "\n",
      "Load model: /work/bd1179/b309247/pycharm_projects/iglesias-suarez2yxx_spuriouslinks/output_castle/training_7_mirrored/models_castle/castleNN/r1.0-a1.0-b1.0-l1.0-distributed/hl_256_256_256_256_256_256_256_256_256-act_ReLU-e_18/1_24_model.h5\n",
      "\n",
      "Load model: /work/bd1179/b309247/pycharm_projects/iglesias-suarez2yxx_spuriouslinks/output_castle/training_7_mirrored/models_castle/castleNN/r1.0-a1.0-b1.0-l1.0-distributed/hl_256_256_256_256_256_256_256_256_256-act_ReLU-e_18/1_25_model.h5\n",
      "\n",
      "Load model: /work/bd1179/b309247/pycharm_projects/iglesias-suarez2yxx_spuriouslinks/output_castle/training_7_mirrored/models_castle/castleNN/r1.0-a1.0-b1.0-l1.0-distributed/hl_256_256_256_256_256_256_256_256_256-act_ReLU-e_18/1_26_model.h5\n",
      "\n",
      "Load model: /work/bd1179/b309247/pycharm_projects/iglesias-suarez2yxx_spuriouslinks/output_castle/training_7_mirrored/models_castle/castleNN/r1.0-a1.0-b1.0-l1.0-distributed/hl_256_256_256_256_256_256_256_256_256-act_ReLU-e_18/1_27_model.h5\n",
      "\n",
      "Load model: /work/bd1179/b309247/pycharm_projects/iglesias-suarez2yxx_spuriouslinks/output_castle/training_7_mirrored/models_castle/castleNN/r1.0-a1.0-b1.0-l1.0-distributed/hl_256_256_256_256_256_256_256_256_256-act_ReLU-e_18/1_28_model.h5\n",
      "\n",
      "Load model: /work/bd1179/b309247/pycharm_projects/iglesias-suarez2yxx_spuriouslinks/output_castle/training_7_mirrored/models_castle/castleNN/r1.0-a1.0-b1.0-l1.0-distributed/hl_256_256_256_256_256_256_256_256_256-act_ReLU-e_18/1_29_model.h5\n",
      "\n",
      "Load model: /work/bd1179/b309247/pycharm_projects/iglesias-suarez2yxx_spuriouslinks/output_castle/training_7_mirrored/models_castle/castleNN/r1.0-a1.0-b1.0-l1.0-distributed/hl_256_256_256_256_256_256_256_256_256-act_ReLU-e_18/0_0_model.h5\n",
      "\n",
      "Load model: /work/bd1179/b309247/pycharm_projects/iglesias-suarez2yxx_spuriouslinks/output_castle/training_7_mirrored/models_castle/castleNN/r1.0-a1.0-b1.0-l1.0-distributed/hl_256_256_256_256_256_256_256_256_256-act_ReLU-e_18/0_1_model.h5\n",
      "\n",
      "Load model: /work/bd1179/b309247/pycharm_projects/iglesias-suarez2yxx_spuriouslinks/output_castle/training_7_mirrored/models_castle/castleNN/r1.0-a1.0-b1.0-l1.0-distributed/hl_256_256_256_256_256_256_256_256_256-act_ReLU-e_18/0_2_model.h5\n",
      "\n",
      "Load model: /work/bd1179/b309247/pycharm_projects/iglesias-suarez2yxx_spuriouslinks/output_castle/training_7_mirrored/models_castle/castleNN/r1.0-a1.0-b1.0-l1.0-distributed/hl_256_256_256_256_256_256_256_256_256-act_ReLU-e_18/0_3_model.h5\n",
      "\n",
      "Load model: /work/bd1179/b309247/pycharm_projects/iglesias-suarez2yxx_spuriouslinks/output_castle/training_7_mirrored/models_castle/castleNN/r1.0-a1.0-b1.0-l1.0-distributed/hl_256_256_256_256_256_256_256_256_256-act_ReLU-e_18/0_4_model.h5\n",
      "\n",
      "Load model: /work/bd1179/b309247/pycharm_projects/iglesias-suarez2yxx_spuriouslinks/output_castle/training_7_mirrored/models_castle/castleNN/r1.0-a1.0-b1.0-l1.0-distributed/hl_256_256_256_256_256_256_256_256_256-act_ReLU-e_18/0_5_model.h5\n",
      "\n",
      "Load model: /work/bd1179/b309247/pycharm_projects/iglesias-suarez2yxx_spuriouslinks/output_castle/training_7_mirrored/models_castle/castleNN/r1.0-a1.0-b1.0-l1.0-distributed/hl_256_256_256_256_256_256_256_256_256-act_ReLU-e_18/0_6_model.h5\n",
      "\n",
      "Load model: /work/bd1179/b309247/pycharm_projects/iglesias-suarez2yxx_spuriouslinks/output_castle/training_7_mirrored/models_castle/castleNN/r1.0-a1.0-b1.0-l1.0-distributed/hl_256_256_256_256_256_256_256_256_256-act_ReLU-e_18/0_7_model.h5\n",
      "\n",
      "Load model: /work/bd1179/b309247/pycharm_projects/iglesias-suarez2yxx_spuriouslinks/output_castle/training_7_mirrored/models_castle/castleNN/r1.0-a1.0-b1.0-l1.0-distributed/hl_256_256_256_256_256_256_256_256_256-act_ReLU-e_18/0_8_model.h5\n",
      "\n",
      "Load model: /work/bd1179/b309247/pycharm_projects/iglesias-suarez2yxx_spuriouslinks/output_castle/training_7_mirrored/models_castle/castleNN/r1.0-a1.0-b1.0-l1.0-distributed/hl_256_256_256_256_256_256_256_256_256-act_ReLU-e_18/0_9_model.h5\n",
      "\n",
      "Load model: /work/bd1179/b309247/pycharm_projects/iglesias-suarez2yxx_spuriouslinks/output_castle/training_7_mirrored/models_castle/castleNN/r1.0-a1.0-b1.0-l1.0-distributed/hl_256_256_256_256_256_256_256_256_256-act_ReLU-e_18/0_10_model.h5\n",
      "\n",
      "Load model: /work/bd1179/b309247/pycharm_projects/iglesias-suarez2yxx_spuriouslinks/output_castle/training_7_mirrored/models_castle/castleNN/r1.0-a1.0-b1.0-l1.0-distributed/hl_256_256_256_256_256_256_256_256_256-act_ReLU-e_18/0_11_model.h5\n",
      "\n",
      "Load model: /work/bd1179/b309247/pycharm_projects/iglesias-suarez2yxx_spuriouslinks/output_castle/training_7_mirrored/models_castle/castleNN/r1.0-a1.0-b1.0-l1.0-distributed/hl_256_256_256_256_256_256_256_256_256-act_ReLU-e_18/0_12_model.h5\n",
      "\n",
      "Load model: /work/bd1179/b309247/pycharm_projects/iglesias-suarez2yxx_spuriouslinks/output_castle/training_7_mirrored/models_castle/castleNN/r1.0-a1.0-b1.0-l1.0-distributed/hl_256_256_256_256_256_256_256_256_256-act_ReLU-e_18/0_13_model.h5\n",
      "\n",
      "Load model: /work/bd1179/b309247/pycharm_projects/iglesias-suarez2yxx_spuriouslinks/output_castle/training_7_mirrored/models_castle/castleNN/r1.0-a1.0-b1.0-l1.0-distributed/hl_256_256_256_256_256_256_256_256_256-act_ReLU-e_18/0_14_model.h5\n",
      "\n",
      "Load model: /work/bd1179/b309247/pycharm_projects/iglesias-suarez2yxx_spuriouslinks/output_castle/training_7_mirrored/models_castle/castleNN/r1.0-a1.0-b1.0-l1.0-distributed/hl_256_256_256_256_256_256_256_256_256-act_ReLU-e_18/0_15_model.h5\n",
      "\n",
      "Load model: /work/bd1179/b309247/pycharm_projects/iglesias-suarez2yxx_spuriouslinks/output_castle/training_7_mirrored/models_castle/castleNN/r1.0-a1.0-b1.0-l1.0-distributed/hl_256_256_256_256_256_256_256_256_256-act_ReLU-e_18/0_16_model.h5\n",
      "\n",
      "Load model: /work/bd1179/b309247/pycharm_projects/iglesias-suarez2yxx_spuriouslinks/output_castle/training_7_mirrored/models_castle/castleNN/r1.0-a1.0-b1.0-l1.0-distributed/hl_256_256_256_256_256_256_256_256_256-act_ReLU-e_18/0_17_model.h5\n",
      "\n",
      "Load model: /work/bd1179/b309247/pycharm_projects/iglesias-suarez2yxx_spuriouslinks/output_castle/training_7_mirrored/models_castle/castleNN/r1.0-a1.0-b1.0-l1.0-distributed/hl_256_256_256_256_256_256_256_256_256-act_ReLU-e_18/0_18_model.h5\n",
      "\n",
      "Load model: /work/bd1179/b309247/pycharm_projects/iglesias-suarez2yxx_spuriouslinks/output_castle/training_7_mirrored/models_castle/castleNN/r1.0-a1.0-b1.0-l1.0-distributed/hl_256_256_256_256_256_256_256_256_256-act_ReLU-e_18/0_19_model.h5\n",
      "\n",
      "Load model: /work/bd1179/b309247/pycharm_projects/iglesias-suarez2yxx_spuriouslinks/output_castle/training_7_mirrored/models_castle/castleNN/r1.0-a1.0-b1.0-l1.0-distributed/hl_256_256_256_256_256_256_256_256_256-act_ReLU-e_18/0_20_model.h5\n",
      "\n",
      "Load model: /work/bd1179/b309247/pycharm_projects/iglesias-suarez2yxx_spuriouslinks/output_castle/training_7_mirrored/models_castle/castleNN/r1.0-a1.0-b1.0-l1.0-distributed/hl_256_256_256_256_256_256_256_256_256-act_ReLU-e_18/0_21_model.h5\n",
      "\n",
      "Load model: /work/bd1179/b309247/pycharm_projects/iglesias-suarez2yxx_spuriouslinks/output_castle/training_7_mirrored/models_castle/castleNN/r1.0-a1.0-b1.0-l1.0-distributed/hl_256_256_256_256_256_256_256_256_256-act_ReLU-e_18/0_22_model.h5\n",
      "\n",
      "Load model: /work/bd1179/b309247/pycharm_projects/iglesias-suarez2yxx_spuriouslinks/output_castle/training_7_mirrored/models_castle/castleNN/r1.0-a1.0-b1.0-l1.0-distributed/hl_256_256_256_256_256_256_256_256_256-act_ReLU-e_18/0_23_model.h5\n",
      "\n",
      "Load model: /work/bd1179/b309247/pycharm_projects/iglesias-suarez2yxx_spuriouslinks/output_castle/training_7_mirrored/models_castle/castleNN/r1.0-a1.0-b1.0-l1.0-distributed/hl_256_256_256_256_256_256_256_256_256-act_ReLU-e_18/0_24_model.h5\n",
      "\n",
      "Load model: /work/bd1179/b309247/pycharm_projects/iglesias-suarez2yxx_spuriouslinks/output_castle/training_7_mirrored/models_castle/castleNN/r1.0-a1.0-b1.0-l1.0-distributed/hl_256_256_256_256_256_256_256_256_256-act_ReLU-e_18/0_25_model.h5\n",
      "\n",
      "Load model: /work/bd1179/b309247/pycharm_projects/iglesias-suarez2yxx_spuriouslinks/output_castle/training_7_mirrored/models_castle/castleNN/r1.0-a1.0-b1.0-l1.0-distributed/hl_256_256_256_256_256_256_256_256_256-act_ReLU-e_18/0_26_model.h5\n",
      "\n",
      "Load model: /work/bd1179/b309247/pycharm_projects/iglesias-suarez2yxx_spuriouslinks/output_castle/training_7_mirrored/models_castle/castleNN/r1.0-a1.0-b1.0-l1.0-distributed/hl_256_256_256_256_256_256_256_256_256-act_ReLU-e_18/0_27_model.h5\n",
      "\n",
      "Load model: /work/bd1179/b309247/pycharm_projects/iglesias-suarez2yxx_spuriouslinks/output_castle/training_7_mirrored/models_castle/castleNN/r1.0-a1.0-b1.0-l1.0-distributed/hl_256_256_256_256_256_256_256_256_256-act_ReLU-e_18/0_28_model.h5\n",
      "\n",
      "Load model: /work/bd1179/b309247/pycharm_projects/iglesias-suarez2yxx_spuriouslinks/output_castle/training_7_mirrored/models_castle/castleNN/r1.0-a1.0-b1.0-l1.0-distributed/hl_256_256_256_256_256_256_256_256_256-act_ReLU-e_18/0_29_model.h5\n",
      "\n",
      "Load model: /work/bd1179/b309247/pycharm_projects/iglesias-suarez2yxx_spuriouslinks/output_castle/training_7_mirrored/models_castle/castleNN/r1.0-a1.0-b1.0-l1.0-distributed/hl_256_256_256_256_256_256_256_256_256-act_ReLU-e_18/2_0_model.h5\n",
      "\n",
      "Load model: /work/bd1179/b309247/pycharm_projects/iglesias-suarez2yxx_spuriouslinks/output_castle/training_7_mirrored/models_castle/castleNN/r1.0-a1.0-b1.0-l1.0-distributed/hl_256_256_256_256_256_256_256_256_256-act_ReLU-e_18/3_0_model.h5\n",
      "\n",
      "Load model: /work/bd1179/b309247/pycharm_projects/iglesias-suarez2yxx_spuriouslinks/output_castle/training_7_mirrored/models_castle/castleNN/r1.0-a1.0-b1.0-l1.0-distributed/hl_256_256_256_256_256_256_256_256_256-act_ReLU-e_18/4_0_model.h5\n",
      "\n",
      "Load model: /work/bd1179/b309247/pycharm_projects/iglesias-suarez2yxx_spuriouslinks/output_castle/training_7_mirrored/models_castle/castleNN/r1.0-a1.0-b1.0-l1.0-distributed/hl_256_256_256_256_256_256_256_256_256-act_ReLU-e_18/5_0_model.h5\n",
      "\n",
      "Load model: /work/bd1179/b309247/pycharm_projects/iglesias-suarez2yxx_spuriouslinks/output_castle/training_7_mirrored/models_castle/castleNN/r1.0-a1.0-b1.0-l1.0-distributed/hl_256_256_256_256_256_256_256_256_256-act_ReLU-e_18/6_0_model.h5\n"
     ]
    }
   ],
   "source": [
    "castle_models = load_models(castle_setup)"
   ]
  },
  {
   "cell_type": "code",
   "execution_count": 11,
   "id": "63903c6b-30f6-45b8-814c-3dcafdd324b4",
   "metadata": {},
   "outputs": [
    {
     "data": {
      "text/plain": [
       "1"
      ]
     },
     "execution_count": 11,
     "metadata": {},
     "output_type": "execute_result"
    }
   ],
   "source": [
    "len(castle_models)"
   ]
  },
  {
   "cell_type": "code",
   "execution_count": 12,
   "id": "fd816040-95d0-4ae1-8cb9-419edfa1f061",
   "metadata": {},
   "outputs": [
    {
     "data": {
      "text/plain": [
       "65"
      ]
     },
     "execution_count": 12,
     "metadata": {},
     "output_type": "execute_result"
    }
   ],
   "source": [
    "len(castle_models['castleNN'])"
   ]
  },
  {
   "cell_type": "code",
   "execution_count": 13,
   "id": "6d1e649c-4be5-4d8c-91a6-40886b2f841b",
   "metadata": {},
   "outputs": [
    {
     "data": {
      "text/plain": [
       "dict_keys(['tphystnd-3.64', 'tphystnd-7.59', 'tphystnd-14.36', 'tphystnd-24.61', 'tphystnd-38.27', 'tphystnd-54.6', 'tphystnd-72.01', 'tphystnd-87.82', 'tphystnd-103.32', 'tphystnd-121.55', 'tphystnd-142.99', 'tphystnd-168.23', 'tphystnd-197.91', 'tphystnd-232.83', 'tphystnd-273.91', 'tphystnd-322.24', 'tphystnd-379.1', 'tphystnd-445.99', 'tphystnd-524.69', 'tphystnd-609.78', 'tphystnd-691.39', 'tphystnd-763.4', 'tphystnd-820.86', 'tphystnd-859.53', 'tphystnd-887.02', 'tphystnd-912.64', 'tphystnd-936.2', 'tphystnd-957.49', 'tphystnd-976.33', 'tphystnd-992.56', 'phq-3.64', 'phq-7.59', 'phq-14.36', 'phq-24.61', 'phq-38.27', 'phq-54.6', 'phq-72.01', 'phq-87.82', 'phq-103.32', 'phq-121.55', 'phq-142.99', 'phq-168.23', 'phq-197.91', 'phq-232.83', 'phq-273.91', 'phq-322.24', 'phq-379.1', 'phq-445.99', 'phq-524.69', 'phq-609.78', 'phq-691.39', 'phq-763.4', 'phq-820.86', 'phq-859.53', 'phq-887.02', 'phq-912.64', 'phq-936.2', 'phq-957.49', 'phq-976.33', 'phq-992.56', 'fsnt', 'fsns', 'flnt', 'flns', 'prect'])"
      ]
     },
     "execution_count": 13,
     "metadata": {},
     "output_type": "execute_result"
    }
   ],
   "source": [
    "# Note: keys are variables not strings\n",
    "castle_models['castleNN'].keys()"
   ]
  },
  {
   "cell_type": "code",
   "execution_count": null,
   "id": "c0ff2444-c218-418b-ac41-e473e7b72f2b",
   "metadata": {},
   "outputs": [],
   "source": []
  },
  {
   "cell_type": "markdown",
   "id": "5b31e8a0-944a-4960-b1b6-36086ce65bea",
   "metadata": {},
   "source": [
    "## Vertical cross-section plots"
   ]
  },
  {
   "cell_type": "code",
   "execution_count": 14,
   "id": "f974457f-d977-47f4-a154-d0368853e83c",
   "metadata": {},
   "outputs": [],
   "source": [
    "# This variable does not exist in the code (but key nn_type is the same)\n",
    "castle_model_type = \"castleNN\"\n",
    "castle_setup.model_type = castle_model_type"
   ]
  },
  {
   "cell_type": "code",
   "execution_count": 15,
   "id": "71536011-6de3-4246-b639-de2aa7c02988",
   "metadata": {},
   "outputs": [],
   "source": [
    "castle_md = ModelDiagnostics(setup=castle_setup, \n",
    "                             models=castle_models[castle_model_type]) "
   ]
  },
  {
   "cell_type": "code",
   "execution_count": 16,
   "id": "9156eba5-d684-4549-b2a9-0311d1ab9f47",
   "metadata": {},
   "outputs": [
    {
     "data": {
      "text/plain": [
       "<neural_networks.model_diagnostics.ModelDiagnostics at 0x7ff8cc73efd0>"
      ]
     },
     "execution_count": 16,
     "metadata": {},
     "output_type": "execute_result"
    }
   ],
   "source": [
    "castle_md"
   ]
  },
  {
   "cell_type": "code",
   "execution_count": 17,
   "id": "03e3532d-8051-4c44-89ce-e45420722134",
   "metadata": {},
   "outputs": [],
   "source": [
    "dict_keys = castle_models['castleNN'].keys()"
   ]
  },
  {
   "cell_type": "markdown",
   "id": "118fcc29-b445-4807-8e64-cdbecc0d7206",
   "metadata": {},
   "source": [
    "### Single Variable"
   ]
  },
  {
   "cell_type": "code",
   "execution_count": 18,
   "id": "c752dcac-8e72-48e5-97cb-25c460ed19a3",
   "metadata": {},
   "outputs": [],
   "source": [
    "from utils.variable import Variable_Lev_Metadata"
   ]
  },
  {
   "cell_type": "code",
   "execution_count": 19,
   "id": "2e1e170b-176f-494d-b99b-20fd538926a3",
   "metadata": {},
   "outputs": [],
   "source": [
    "var = Variable_Lev_Metadata.parse_var_name(\"tphystnd-0\")\n",
    "var_keys = [k for k in dict_keys if var.var.value in str(k)]\n",
    "unit = \"K/s\"\n",
    "# phq unit \"kg/(kg*s)\""
   ]
  },
  {
   "cell_type": "code",
   "execution_count": 20,
   "id": "5ee0ea93-0abc-4bd6-a4ba-09736293b695",
   "metadata": {},
   "outputs": [
    {
     "name": "stdout",
     "output_type": "stream",
     "text": [
      "\n",
      "Plotting double_profiles for variable tphystnd\n",
      "\n",
      "Validation batch size = 8192.\n",
      "Time samples: 5\n",
      "Validation batch size = 8192.\n",
      "Time samples: 5\n",
      "Validation batch size = 8192.\n",
      "Time samples: 5\n",
      "Validation batch size = 8192.\n",
      "Time samples: 5\n",
      "Validation batch size = 8192.\n",
      "Time samples: 5\n",
      "Validation batch size = 8192.\n",
      "Time samples: 5\n",
      "Validation batch size = 8192.\n",
      "Time samples: 5\n",
      "Validation batch size = 8192.\n",
      "Time samples: 5\n",
      "Validation batch size = 8192.\n",
      "Time samples: 5\n",
      "Validation batch size = 8192.\n",
      "Time samples: 5\n",
      "Validation batch size = 8192.\n",
      "Time samples: 5\n",
      "Validation batch size = 8192.\n",
      "Time samples: 5\n",
      "Validation batch size = 8192.\n",
      "Time samples: 5\n",
      "Validation batch size = 8192.\n",
      "Time samples: 5\n",
      "Validation batch size = 8192.\n",
      "Time samples: 5\n",
      "Validation batch size = 8192.\n",
      "Time samples: 5\n",
      "Validation batch size = 8192.\n",
      "Time samples: 5\n",
      "Validation batch size = 8192.\n",
      "Time samples: 5\n",
      "Validation batch size = 8192.\n",
      "Time samples: 5\n",
      "Validation batch size = 8192.\n",
      "Time samples: 5\n",
      "Validation batch size = 8192.\n",
      "Time samples: 5\n",
      "Validation batch size = 8192.\n",
      "Time samples: 5\n",
      "Validation batch size = 8192.\n",
      "Time samples: 5\n",
      "Validation batch size = 8192.\n",
      "Time samples: 5\n",
      "Validation batch size = 8192.\n",
      "Time samples: 5\n",
      "Validation batch size = 8192.\n",
      "Time samples: 5\n",
      "Validation batch size = 8192.\n",
      "Time samples: 5\n",
      "Validation batch size = 8192.\n",
      "Time samples: 5\n",
      "Validation batch size = 8192.\n",
      "Time samples: 5\n",
      "Validation batch size = 8192.\n",
      "Time samples: 5\n",
      "Validation batch size = 8192.\n",
      "Time samples: 5\n"
     ]
    },
    {
     "data": {
      "image/png": "[encoded data removed]",
      "text/plain": [
       "<Figure size 1200x500 with 2 Axes>"
      ]
     },
     "metadata": {},
     "output_type": "display_data"
    }
   ],
   "source": [
    "i_time = \"range\"\n",
    "n_time = 5\n",
    "stats = \"mse\"\n",
    "fig = castle_md. plot_double_profile(var, var_keys, itime=i_time, nTime=n_time, \n",
    "                                     lats=[-90, 90], lons=[0., 359.], save=False, \n",
    "                                     stats=stats, show_plot=True, unit=unit)\n",
    "fig.show()"
   ]
  },
  {
   "cell_type": "code",
   "execution_count": 21,
   "id": "902b8f08-4be4-4953-a39b-d9b70b43c3a4",
   "metadata": {},
   "outputs": [
    {
     "name": "stdout",
     "output_type": "stream",
     "text": [
      "\n",
      "Plotting double_profiles for variable tphystnd\n",
      "\n",
      "Validation batch size = 8192.\n",
      "Time samples: 5\n",
      "Validation batch size = 8192.\n",
      "Time samples: 5\n",
      "Validation batch size = 8192.\n",
      "Time samples: 5\n",
      "Validation batch size = 8192.\n",
      "Time samples: 5\n",
      "Validation batch size = 8192.\n",
      "Time samples: 5\n",
      "Validation batch size = 8192.\n",
      "Time samples: 5\n",
      "Validation batch size = 8192.\n",
      "Time samples: 5\n",
      "Validation batch size = 8192.\n",
      "Time samples: 5\n",
      "Validation batch size = 8192.\n",
      "Time samples: 5\n",
      "Validation batch size = 8192.\n",
      "Time samples: 5\n",
      "Validation batch size = 8192.\n",
      "Time samples: 5\n",
      "Validation batch size = 8192.\n",
      "Time samples: 5\n",
      "Validation batch size = 8192.\n",
      "Time samples: 5\n",
      "Validation batch size = 8192.\n",
      "Time samples: 5\n",
      "Validation batch size = 8192.\n",
      "Time samples: 5\n",
      "Validation batch size = 8192.\n",
      "Time samples: 5\n",
      "Validation batch size = 8192.\n",
      "Time samples: 5\n",
      "Validation batch size = 8192.\n",
      "Time samples: 5\n",
      "Validation batch size = 8192.\n",
      "Time samples: 5\n",
      "Validation batch size = 8192.\n",
      "Time samples: 5\n",
      "Validation batch size = 8192.\n",
      "Time samples: 5\n",
      "Validation batch size = 8192.\n",
      "Time samples: 5\n",
      "Validation batch size = 8192.\n",
      "Time samples: 5\n",
      "Validation batch size = 8192.\n",
      "Time samples: 5\n",
      "Validation batch size = 8192.\n",
      "Time samples: 5\n",
      "Validation batch size = 8192.\n",
      "Time samples: 5\n",
      "Validation batch size = 8192.\n",
      "Time samples: 5\n",
      "Validation batch size = 8192.\n",
      "Time samples: 5\n",
      "Validation batch size = 8192.\n",
      "Time samples: 5\n",
      "Validation batch size = 8192.\n",
      "Time samples: 5\n",
      "Validation batch size = 8192.\n",
      "Time samples: 5\n"
     ]
    },
    {
     "data": {
      "image/png": "[encoded data removed]",
      "text/plain": [
       "<Figure size 1200x500 with 2 Axes>"
      ]
     },
     "metadata": {},
     "output_type": "display_data"
    }
   ],
   "source": [
    "i_time = \"range\"\n",
    "n_time = 5\n",
    "stats = \"r2\"\n",
    "fig = castle_md. plot_double_profile(var, var_keys, itime=i_time, nTime=n_time, \n",
    "                                     lats=[-90, 90], lons=[0., 359.], save=False, \n",
    "                                     stats=stats, show_plot=True, unit=unit)\n",
    "fig.show()"
   ]
  },
  {
   "cell_type": "code",
   "execution_count": 22,
   "id": "a8a93a1b-8499-4ce5-8c57-b2e83c26db33",
   "metadata": {
    "collapsed": true,
    "jupyter": {
     "outputs_hidden": true
    },
    "tags": []
   },
   "outputs": [
    {
     "name": "stdout",
     "output_type": "stream",
     "text": [
      "\n",
      "Plotting double_profiles for variable tphystnd\n",
      "\n",
      "Validation batch size = 8192.\n",
      "Time samples: 5\n",
      "Validation batch size = 8192.\n",
      "Time samples: 5\n",
      "Validation batch size = 8192.\n",
      "Time samples: 5\n",
      "Validation batch size = 8192.\n",
      "Time samples: 5\n",
      "Validation batch size = 8192.\n",
      "Time samples: 5\n",
      "Validation batch size = 8192.\n",
      "Time samples: 5\n",
      "Validation batch size = 8192.\n",
      "Time samples: 5\n",
      "Validation batch size = 8192.\n",
      "Time samples: 5\n",
      "Validation batch size = 8192.\n",
      "Time samples: 5\n",
      "Validation batch size = 8192.\n",
      "Time samples: 5\n",
      "Validation batch size = 8192.\n",
      "Time samples: 5\n",
      "Validation batch size = 8192.\n",
      "Time samples: 5\n",
      "Validation batch size = 8192.\n",
      "Time samples: 5\n",
      "Validation batch size = 8192.\n",
      "Time samples: 5\n",
      "Validation batch size = 8192.\n",
      "Time samples: 5\n",
      "Validation batch size = 8192.\n",
      "Time samples: 5\n",
      "Validation batch size = 8192.\n",
      "Time samples: 5\n",
      "Validation batch size = 8192.\n",
      "Time samples: 5\n",
      "Validation batch size = 8192.\n",
      "Time samples: 5\n",
      "Validation batch size = 8192.\n",
      "Time samples: 5\n",
      "Validation batch size = 8192.\n",
      "Time samples: 5\n",
      "Validation batch size = 8192.\n",
      "Time samples: 5\n",
      "Validation batch size = 8192.\n",
      "Time samples: 5\n",
      "Validation batch size = 8192.\n",
      "Time samples: 5\n",
      "Validation batch size = 8192.\n",
      "Time samples: 5\n",
      "Validation batch size = 8192.\n",
      "Time samples: 5\n",
      "Validation batch size = 8192.\n",
      "Time samples: 5\n",
      "Validation batch size = 8192.\n",
      "Time samples: 5\n",
      "Validation batch size = 8192.\n",
      "Time samples: 5\n",
      "Validation batch size = 8192.\n",
      "Time samples: 5\n",
      "Validation batch size = 8192.\n",
      "Time samples: 5\n",
      "\n",
      "Saved profile plot tphystnd_profile_time-range.png\n",
      "\n",
      "Closed plot for variable tphystnd-992.56\n",
      "\n"
     ]
    }
   ],
   "source": [
    "i_time = \"range\"\n",
    "n_time = 5\n",
    "stats = \"r2\"\n",
    "_ = castle_md.plot_double_profile(var, var_keys, itime=i_time, nTime=n_time, \n",
    "                                     lats=[-90, 90], lons=[0., 359.], save=plot_dir, \n",
    "                                     stats=stats, show_plot=False, unit=unit)"
   ]
  },
  {
   "cell_type": "markdown",
   "id": "a693c4ea-a45f-4fba-adbb-266ab1de0214",
   "metadata": {
    "tags": []
   },
   "source": [
    "### All variables 3d variables"
   ]
  },
  {
   "cell_type": "code",
   "execution_count": 23,
   "id": "998c1fc7-143f-4a05-a4c0-eccbca6e8bfb",
   "metadata": {},
   "outputs": [],
   "source": [
    "def get_save_str(idx_time, num_time=False, latitudes=False, \n",
    "                 longitudes=False, statistics=False):\n",
    "    if type(idx_time) is int:\n",
    "        idx_time_str = f\"step-{idx_time}\"\n",
    "    elif type(idx_time) is str:\n",
    "        if num_time:\n",
    "            idx_time_str = f\"{idx_time}-{num_time}\"\n",
    "        else:\n",
    "            idx_time_str = f\"{idx_time}-all\"\n",
    "    else:\n",
    "        raise ValueError(f\"Unkown value for idx_time: {idx_time}\")\n",
    "\n",
    "    lats_str = f\"_lats_{latitudes[0]}_{latitudes[1]}\" if latitudes else \"\"\n",
    "    lons_str = f\"_lats_{longitudes[0]}_{longitudes[1]}\" if longitudes else \"\"\n",
    "    stats_str =  f\"_stats-{statistics}\" if statistics else \"\"\n",
    "    \n",
    "    return idx_time_str + lats_str + lons_str + stats_str\n",
    "        "
   ]
  },
  {
   "cell_type": "code",
   "execution_count": 24,
   "id": "1fe15dc8-4015-4367-9cc8-1a0a8202e4fd",
   "metadata": {},
   "outputs": [],
   "source": [
    "# only 3d\n",
    "# tphystnd unit \"K/s\"\n",
    "# phq unit \"kg/(kg*s)\"\n",
    "var_unit_str_three_d = [(\"tphystnd-3.64\", \"K/s\"), (\"phq-3.64\", \"kg/(kg*s)\")] \n",
    "three_d_keys = [(Variable_Lev_Metadata.parse_var_name(var_str), unit) for var_str, unit in var_unit_str_three_d]\n",
    "\n",
    "dict_keys = castle_models['castleNN'].keys()"
   ]
  },
  {
   "cell_type": "code",
   "execution_count": 25,
   "id": "43203b62-0dc4-4aa3-a5df-0de4ebea50b7",
   "metadata": {},
   "outputs": [],
   "source": [
    "# Not function parameters, uses variables that are set in Notebook cells!!\n",
    "def run_plot_profiles():\n",
    "    save_dir = Path(plot_dir, get_save_str(i_time, num_time=n_time, latitudes=lats, \n",
    "                                           longitudes=lons, statistics=stats))\n",
    "    Path(save_dir).mkdir(parents=True, exist_ok=True)\n",
    "\n",
    "\n",
    "    for var, unit in three_d_keys:\n",
    "        print(var)\n",
    "        var_keys = [k for k in dict_keys if var.var.value in str(k)]\n",
    "        \n",
    "        _ = castle_md.plot_double_profile(var, var_keys, itime=i_time, nTime=n_time, \n",
    "                                          lats=lats, lons=lons, save=save_dir, \n",
    "                                          stats=stats, show_plot=False, unit=unit)"
   ]
  },
  {
   "cell_type": "markdown",
   "id": "71d2c2cd-6b4b-42ab-b296-38b730d75347",
   "metadata": {},
   "source": [
    "#### Time range, 5 steps, mse"
   ]
  },
  {
   "cell_type": "code",
   "execution_count": 26,
   "id": "6b0bcdb4-d7df-405d-83ec-f5ac2d4684bf",
   "metadata": {
    "tags": []
   },
   "outputs": [
    {
     "name": "stdout",
     "output_type": "stream",
     "text": [
      "tphystnd-3.64\n",
      "\n",
      "Plotting double_profiles for variable tphystnd\n",
      "\n",
      "Validation batch size = 8192.\n",
      "Time samples: 5\n",
      "Validation batch size = 8192.\n",
      "Time samples: 5\n",
      "Validation batch size = 8192.\n",
      "Time samples: 5\n",
      "Validation batch size = 8192.\n",
      "Time samples: 5\n",
      "Validation batch size = 8192.\n",
      "Time samples: 5\n",
      "Validation batch size = 8192.\n",
      "Time samples: 5\n",
      "Validation batch size = 8192.\n",
      "Time samples: 5\n",
      "Validation batch size = 8192.\n",
      "Time samples: 5\n",
      "Validation batch size = 8192.\n",
      "Time samples: 5\n",
      "Validation batch size = 8192.\n",
      "Time samples: 5\n",
      "Validation batch size = 8192.\n",
      "Time samples: 5\n",
      "Validation batch size = 8192.\n",
      "Time samples: 5\n",
      "Validation batch size = 8192.\n",
      "Time samples: 5\n",
      "Validation batch size = 8192.\n",
      "Time samples: 5\n",
      "Validation batch size = 8192.\n",
      "Time samples: 5\n",
      "Validation batch size = 8192.\n",
      "Time samples: 5\n",
      "Validation batch size = 8192.\n",
      "Time samples: 5\n",
      "Validation batch size = 8192.\n",
      "Time samples: 5\n",
      "Validation batch size = 8192.\n",
      "Time samples: 5\n",
      "Validation batch size = 8192.\n",
      "Time samples: 5\n",
      "Validation batch size = 8192.\n",
      "Time samples: 5\n",
      "Validation batch size = 8192.\n",
      "Time samples: 5\n",
      "Validation batch size = 8192.\n",
      "Time samples: 5\n",
      "Validation batch size = 8192.\n",
      "Time samples: 5\n",
      "Validation batch size = 8192.\n",
      "Time samples: 5\n",
      "Validation batch size = 8192.\n",
      "Time samples: 5\n",
      "Validation batch size = 8192.\n",
      "Time samples: 5\n",
      "Validation batch size = 8192.\n",
      "Time samples: 5\n",
      "Validation batch size = 8192.\n",
      "Time samples: 5\n",
      "Validation batch size = 8192.\n",
      "Time samples: 5\n",
      "Validation batch size = 8192.\n",
      "Time samples: 5\n",
      "\n",
      "Saved profile plot tphystnd_profile_time-range.png\n",
      "\n",
      "Closed plot for variable tphystnd-992.56\n",
      "\n",
      "phq-3.64\n",
      "\n",
      "Plotting double_profiles for variable phq\n",
      "\n",
      "Validation batch size = 8192.\n",
      "Time samples: 5\n",
      "Validation batch size = 8192.\n",
      "Time samples: 5\n",
      "Validation batch size = 8192.\n"
     ]
    },
    {
     "name": "stderr",
     "output_type": "stream",
     "text": [
      "divide by zero encountered in divide\n",
      "divide by zero encountered in double_scalars\n"
     ]
    },
    {
     "name": "stdout",
     "output_type": "stream",
     "text": [
      "Time samples: 5\n",
      "Validation batch size = 8192.\n"
     ]
    },
    {
     "name": "stderr",
     "output_type": "stream",
     "text": [
      "divide by zero encountered in divide\n",
      "divide by zero encountered in double_scalars\n"
     ]
    },
    {
     "name": "stdout",
     "output_type": "stream",
     "text": [
      "Time samples: 5\n",
      "Validation batch size = 8192.\n",
      "Time samples: 5\n",
      "Validation batch size = 8192.\n",
      "Time samples: 5\n",
      "Validation batch size = 8192.\n",
      "Time samples: 5\n",
      "Validation batch size = 8192.\n",
      "Time samples: 5\n",
      "Validation batch size = 8192.\n",
      "Time samples: 5\n",
      "Validation batch size = 8192.\n",
      "Time samples: 5\n",
      "Validation batch size = 8192.\n",
      "Time samples: 5\n",
      "Validation batch size = 8192.\n",
      "Time samples: 5\n",
      "Validation batch size = 8192.\n",
      "Time samples: 5\n",
      "Validation batch size = 8192.\n",
      "Time samples: 5\n",
      "Validation batch size = 8192.\n",
      "Time samples: 5\n",
      "Validation batch size = 8192.\n",
      "Time samples: 5\n",
      "Validation batch size = 8192.\n",
      "Time samples: 5\n",
      "Validation batch size = 8192.\n",
      "Time samples: 5\n",
      "Validation batch size = 8192.\n",
      "Time samples: 5\n",
      "Validation batch size = 8192.\n",
      "Time samples: 5\n",
      "Validation batch size = 8192.\n",
      "Time samples: 5\n",
      "Validation batch size = 8192.\n",
      "Time samples: 5\n",
      "Validation batch size = 8192.\n",
      "Time samples: 5\n",
      "Validation batch size = 8192.\n",
      "Time samples: 5\n",
      "Validation batch size = 8192.\n",
      "Time samples: 5\n",
      "Validation batch size = 8192.\n",
      "Time samples: 5\n",
      "Validation batch size = 8192.\n",
      "Time samples: 5\n",
      "Validation batch size = 8192.\n",
      "Time samples: 5\n",
      "Validation batch size = 8192.\n",
      "Time samples: 5\n",
      "Validation batch size = 8192.\n",
      "Time samples: 5\n",
      "Validation batch size = 8192.\n",
      "Time samples: 5\n",
      "\n",
      "Saved profile plot phq_profile_time-range.png\n",
      "\n",
      "Closed plot for variable phq-992.56\n",
      "\n"
     ]
    }
   ],
   "source": [
    "i_time = \"range\"\n",
    "n_time = 5\n",
    "lats=[-90, 90]\n",
    "lons=[0., 359.]\n",
    "stats = \"mse\"\n",
    "\n",
    "run_plot_profiles()"
   ]
  },
  {
   "cell_type": "markdown",
   "id": "36f467c5-ecbf-4782-99bf-92ee410933ec",
   "metadata": {},
   "source": [
    "#### Time range, 5 steps, r2"
   ]
  },
  {
   "cell_type": "code",
   "execution_count": 27,
   "id": "5475a32e-b486-4793-a559-9ce94eb9f626",
   "metadata": {
    "tags": []
   },
   "outputs": [
    {
     "name": "stdout",
     "output_type": "stream",
     "text": [
      "tphystnd-3.64\n",
      "\n",
      "Plotting double_profiles for variable tphystnd\n",
      "\n",
      "Validation batch size = 8192.\n",
      "Time samples: 5\n",
      "Validation batch size = 8192.\n",
      "Time samples: 5\n",
      "Validation batch size = 8192.\n",
      "Time samples: 5\n",
      "Validation batch size = 8192.\n",
      "Time samples: 5\n",
      "Validation batch size = 8192.\n",
      "Time samples: 5\n",
      "Validation batch size = 8192.\n",
      "Time samples: 5\n",
      "Validation batch size = 8192.\n",
      "Time samples: 5\n",
      "Validation batch size = 8192.\n",
      "Time samples: 5\n",
      "Validation batch size = 8192.\n",
      "Time samples: 5\n",
      "Validation batch size = 8192.\n",
      "Time samples: 5\n",
      "Validation batch size = 8192.\n",
      "Time samples: 5\n",
      "Validation batch size = 8192.\n",
      "Time samples: 5\n",
      "Validation batch size = 8192.\n",
      "Time samples: 5\n",
      "Validation batch size = 8192.\n",
      "Time samples: 5\n",
      "Validation batch size = 8192.\n",
      "Time samples: 5\n",
      "Validation batch size = 8192.\n",
      "Time samples: 5\n",
      "Validation batch size = 8192.\n",
      "Time samples: 5\n",
      "Validation batch size = 8192.\n",
      "Time samples: 5\n",
      "Validation batch size = 8192.\n",
      "Time samples: 5\n",
      "Validation batch size = 8192.\n",
      "Time samples: 5\n",
      "Validation batch size = 8192.\n",
      "Time samples: 5\n",
      "Validation batch size = 8192.\n",
      "Time samples: 5\n",
      "Validation batch size = 8192.\n",
      "Time samples: 5\n",
      "Validation batch size = 8192.\n",
      "Time samples: 5\n",
      "Validation batch size = 8192.\n",
      "Time samples: 5\n",
      "Validation batch size = 8192.\n",
      "Time samples: 5\n",
      "Validation batch size = 8192.\n",
      "Time samples: 5\n",
      "Validation batch size = 8192.\n",
      "Time samples: 5\n",
      "Validation batch size = 8192.\n",
      "Time samples: 5\n",
      "Validation batch size = 8192.\n",
      "Time samples: 5\n",
      "Validation batch size = 8192.\n",
      "Time samples: 5\n",
      "\n",
      "Saved profile plot tphystnd_profile_time-range.png\n",
      "\n",
      "Closed plot for variable tphystnd-992.56\n",
      "\n",
      "phq-3.64\n",
      "\n",
      "Plotting double_profiles for variable phq\n",
      "\n",
      "Validation batch size = 8192.\n",
      "Time samples: 5\n",
      "Validation batch size = 8192.\n",
      "Time samples: 5\n",
      "Validation batch size = 8192.\n"
     ]
    },
    {
     "name": "stderr",
     "output_type": "stream",
     "text": [
      "divide by zero encountered in divide\n",
      "divide by zero encountered in double_scalars\n"
     ]
    },
    {
     "name": "stdout",
     "output_type": "stream",
     "text": [
      "Time samples: 5\n",
      "Validation batch size = 8192.\n"
     ]
    },
    {
     "name": "stderr",
     "output_type": "stream",
     "text": [
      "divide by zero encountered in divide\n",
      "divide by zero encountered in double_scalars\n"
     ]
    },
    {
     "name": "stdout",
     "output_type": "stream",
     "text": [
      "Time samples: 5\n",
      "Validation batch size = 8192.\n",
      "Time samples: 5\n",
      "Validation batch size = 8192.\n",
      "Time samples: 5\n",
      "Validation batch size = 8192.\n",
      "Time samples: 5\n",
      "Validation batch size = 8192.\n",
      "Time samples: 5\n",
      "Validation batch size = 8192.\n",
      "Time samples: 5\n",
      "Validation batch size = 8192.\n",
      "Time samples: 5\n",
      "Validation batch size = 8192.\n",
      "Time samples: 5\n",
      "Validation batch size = 8192.\n",
      "Time samples: 5\n",
      "Validation batch size = 8192.\n",
      "Time samples: 5\n",
      "Validation batch size = 8192.\n",
      "Time samples: 5\n",
      "Validation batch size = 8192.\n",
      "Time samples: 5\n",
      "Validation batch size = 8192.\n",
      "Time samples: 5\n",
      "Validation batch size = 8192.\n",
      "Time samples: 5\n",
      "Validation batch size = 8192.\n",
      "Time samples: 5\n",
      "Validation batch size = 8192.\n",
      "Time samples: 5\n",
      "Validation batch size = 8192.\n",
      "Time samples: 5\n",
      "Validation batch size = 8192.\n",
      "Time samples: 5\n",
      "Validation batch size = 8192.\n",
      "Time samples: 5\n",
      "Validation batch size = 8192.\n",
      "Time samples: 5\n",
      "Validation batch size = 8192.\n",
      "Time samples: 5\n",
      "Validation batch size = 8192.\n",
      "Time samples: 5\n",
      "Validation batch size = 8192.\n",
      "Time samples: 5\n",
      "Validation batch size = 8192.\n",
      "Time samples: 5\n",
      "Validation batch size = 8192.\n",
      "Time samples: 5\n",
      "Validation batch size = 8192.\n",
      "Time samples: 5\n",
      "Validation batch size = 8192.\n",
      "Time samples: 5\n",
      "Validation batch size = 8192.\n",
      "Time samples: 5\n",
      "\n",
      "Saved profile plot phq_profile_time-range.png\n",
      "\n",
      "Closed plot for variable phq-992.56\n",
      "\n"
     ]
    }
   ],
   "source": [
    "i_time = \"range\"\n",
    "n_time = 5\n",
    "lats=[-90, 90]\n",
    "lons=[0., 359.]\n",
    "stats = \"r2\"\n",
    "\n",
    "run_plot_profiles()"
   ]
  },
  {
   "cell_type": "markdown",
   "id": "9369e372-8a63-4a81-8ff3-4a62b2f003fe",
   "metadata": {},
   "source": [
    "#### Time range, 1440 steps, mse\n",
    "\n",
    "**These don't work for some reason*"
   ]
  },
  {
   "cell_type": "code",
   "execution_count": 28,
   "id": "cd77192e-e58e-4334-9ae9-826ce5edafe3",
   "metadata": {
    "tags": []
   },
   "outputs": [
    {
     "name": "stdout",
     "output_type": "stream",
     "text": [
      "tphystnd-3.64\n",
      "\n",
      "Plotting double_profiles for variable tphystnd\n",
      "\n",
      "Validation batch size = 8192.\n",
      "Time samples: 1440\n",
      "Validation batch size = 8192.\n",
      "Time samples: 1440\n"
     ]
    },
    {
     "ename": "ValueError",
     "evalue": "could not broadcast input array from shape (64,) into shape (1440,)",
     "output_type": "error",
     "traceback": [
      "\u001b[0;31m---------------------------------------------------------------------------\u001b[0m",
      "\u001b[0;31mValueError\u001b[0m                                Traceback (most recent call last)",
      "Cell \u001b[0;32mIn[28], line 11\u001b[0m\n\u001b[1;32m      8\u001b[0m lons\u001b[38;5;241m=\u001b[39m[\u001b[38;5;241m0.\u001b[39m, \u001b[38;5;241m359.\u001b[39m]\n\u001b[1;32m      9\u001b[0m \u001b[38;5;66;03m# stats = \"mse\" --> does not work with stats turned on \u001b[39;00m\n\u001b[0;32m---> 11\u001b[0m \u001b[43mrun_plot_profiles\u001b[49m\u001b[43m(\u001b[49m\u001b[43m)\u001b[49m\n",
      "Cell \u001b[0;32mIn[25], line 12\u001b[0m, in \u001b[0;36mrun_plot_profiles\u001b[0;34m()\u001b[0m\n\u001b[1;32m      9\u001b[0m \u001b[38;5;28mprint\u001b[39m(var)\n\u001b[1;32m     10\u001b[0m var_keys \u001b[38;5;241m=\u001b[39m [k \u001b[38;5;28;01mfor\u001b[39;00m k \u001b[38;5;129;01min\u001b[39;00m dict_keys \u001b[38;5;28;01mif\u001b[39;00m var\u001b[38;5;241m.\u001b[39mvar\u001b[38;5;241m.\u001b[39mvalue \u001b[38;5;129;01min\u001b[39;00m \u001b[38;5;28mstr\u001b[39m(k)]\n\u001b[0;32m---> 12\u001b[0m _ \u001b[38;5;241m=\u001b[39m \u001b[43mcastle_md\u001b[49m\u001b[38;5;241;43m.\u001b[39;49m\u001b[43mplot_double_profile\u001b[49m\u001b[43m(\u001b[49m\u001b[43mvar\u001b[49m\u001b[43m,\u001b[49m\u001b[43m \u001b[49m\u001b[43mvar_keys\u001b[49m\u001b[43m,\u001b[49m\u001b[43m \u001b[49m\u001b[43mitime\u001b[49m\u001b[38;5;241;43m=\u001b[39;49m\u001b[43mi_time\u001b[49m\u001b[43m,\u001b[49m\u001b[43m \u001b[49m\u001b[43mnTime\u001b[49m\u001b[38;5;241;43m=\u001b[39;49m\u001b[43mn_time\u001b[49m\u001b[43m,\u001b[49m\u001b[43m \u001b[49m\n\u001b[1;32m     13\u001b[0m \u001b[43m                                  \u001b[49m\u001b[43mlats\u001b[49m\u001b[38;5;241;43m=\u001b[39;49m\u001b[43mlats\u001b[49m\u001b[43m,\u001b[49m\u001b[43m \u001b[49m\u001b[43mlons\u001b[49m\u001b[38;5;241;43m=\u001b[39;49m\u001b[43mlons\u001b[49m\u001b[43m,\u001b[49m\u001b[43m \u001b[49m\u001b[43msave\u001b[49m\u001b[38;5;241;43m=\u001b[39;49m\u001b[43msave_dir\u001b[49m\u001b[43m,\u001b[49m\u001b[43m \u001b[49m\n\u001b[1;32m     14\u001b[0m \u001b[43m                                  \u001b[49m\u001b[43mstats\u001b[49m\u001b[38;5;241;43m=\u001b[39;49m\u001b[43mstats\u001b[49m\u001b[43m,\u001b[49m\u001b[43m \u001b[49m\u001b[43mshow_plot\u001b[49m\u001b[38;5;241;43m=\u001b[39;49m\u001b[38;5;28;43;01mFalse\u001b[39;49;00m\u001b[43m,\u001b[49m\u001b[43m \u001b[49m\u001b[43munit\u001b[49m\u001b[38;5;241;43m=\u001b[39;49m\u001b[43munit\u001b[49m\u001b[43m)\u001b[49m\n",
      "File \u001b[0;32m/work/bd1179/b309247/pycharm_projects/iglesias-suarez2yxx_spuriouslinks/neural_networks/model_diagnostics.py:618\u001b[0m, in \u001b[0;36mModelDiagnostics.plot_double_profile\u001b[0;34m(self, var, varkeys, itime, nTime, lats, lons, save, stats, show_plot, unit, **kwargs)\u001b[0m\n\u001b[1;32m    615\u001b[0m iLev \u001b[38;5;241m=\u001b[39m ModelDiagnostics\u001b[38;5;241m.\u001b[39m_build_vars_dict([var])[var\u001b[38;5;241m.\u001b[39mvar\u001b[38;5;241m.\u001b[39mvalue\u001b[38;5;241m.\u001b[39mupper()][\u001b[38;5;241m0\u001b[39m]\n\u001b[1;32m    616\u001b[0m t, p \u001b[38;5;241m=\u001b[39m \u001b[38;5;28mself\u001b[39m\u001b[38;5;241m.\u001b[39mget_truth_pred(itime, var, nTime\u001b[38;5;241m=\u001b[39mnTime)\n\u001b[0;32m--> 618\u001b[0m \u001b[43mtruth\u001b[49m\u001b[43m[\u001b[49m\u001b[43m:\u001b[49m\u001b[43m,\u001b[49m\u001b[43m \u001b[49m\u001b[43miLev\u001b[49m\u001b[43m]\u001b[49m \u001b[38;5;241m=\u001b[39m np\u001b[38;5;241m.\u001b[39maverage(\n\u001b[1;32m    619\u001b[0m     np\u001b[38;5;241m.\u001b[39mmean(t[idx_lats[\u001b[38;5;241m0\u001b[39m]:idx_lats[\u001b[38;5;241m-\u001b[39m\u001b[38;5;241m1\u001b[39m] \u001b[38;5;241m+\u001b[39m \u001b[38;5;241m1\u001b[39m, idx_lons[\u001b[38;5;241m0\u001b[39m]:idx_lons[\u001b[38;5;241m-\u001b[39m\u001b[38;5;241m1\u001b[39m] \u001b[38;5;241m+\u001b[39m \u001b[38;5;241m1\u001b[39m], axis\u001b[38;5;241m=\u001b[39m\u001b[38;5;241m2\u001b[39m),\n\u001b[1;32m    620\u001b[0m     weights\u001b[38;5;241m=\u001b[39m\u001b[38;5;28mself\u001b[39m\u001b[38;5;241m.\u001b[39mlat_weights[idx_lats[\u001b[38;5;241m0\u001b[39m]:idx_lats[\u001b[38;5;241m-\u001b[39m\u001b[38;5;241m1\u001b[39m] \u001b[38;5;241m+\u001b[39m \u001b[38;5;241m1\u001b[39m], axis\u001b[38;5;241m=\u001b[39m\u001b[38;5;241m1\u001b[39m\n\u001b[1;32m    621\u001b[0m )\n\u001b[1;32m    622\u001b[0m pred[:, iLev] \u001b[38;5;241m=\u001b[39m np\u001b[38;5;241m.\u001b[39maverage(\n\u001b[1;32m    623\u001b[0m     np\u001b[38;5;241m.\u001b[39mmean(p[idx_lats[\u001b[38;5;241m0\u001b[39m]:idx_lats[\u001b[38;5;241m-\u001b[39m\u001b[38;5;241m1\u001b[39m] \u001b[38;5;241m+\u001b[39m \u001b[38;5;241m1\u001b[39m, idx_lons[\u001b[38;5;241m0\u001b[39m]:idx_lons[\u001b[38;5;241m-\u001b[39m\u001b[38;5;241m1\u001b[39m] \u001b[38;5;241m+\u001b[39m \u001b[38;5;241m1\u001b[39m], axis\u001b[38;5;241m=\u001b[39m\u001b[38;5;241m2\u001b[39m),\n\u001b[1;32m    624\u001b[0m     weights\u001b[38;5;241m=\u001b[39m\u001b[38;5;28mself\u001b[39m\u001b[38;5;241m.\u001b[39mlat_weights[idx_lats[\u001b[38;5;241m0\u001b[39m]:idx_lats[\u001b[38;5;241m-\u001b[39m\u001b[38;5;241m1\u001b[39m] \u001b[38;5;241m+\u001b[39m \u001b[38;5;241m1\u001b[39m], axis\u001b[38;5;241m=\u001b[39m\u001b[38;5;241m1\u001b[39m\n\u001b[1;32m    625\u001b[0m )\n\u001b[1;32m    627\u001b[0m \u001b[38;5;28;01mif\u001b[39;00m stats \u001b[38;5;129;01mis\u001b[39;00m \u001b[38;5;129;01mnot\u001b[39;00m \u001b[38;5;28;01mFalse\u001b[39;00m:\n",
      "\u001b[0;31mValueError\u001b[0m: could not broadcast input array from shape (64,) into shape (1440,)"
     ]
    }
   ],
   "source": [
    "# Time step CAM=30min\n",
    "# Time step SRM=20sec\n",
    "# (30*60sec)/20sec = 90 \n",
    "# Or: 120 as Nando did\n",
    "i_time = \"range\"\n",
    "n_time = 1440\n",
    "lats=[-90, 90]\n",
    "lons=[0., 359.]\n",
    "# stats = \"mse\" --> does not work with stats turned on \n",
    "\n",
    "run_plot_profiles()"
   ]
  },
  {
   "cell_type": "markdown",
   "id": "ff86c625-c59a-475b-ab99-ffa1bf4782db",
   "metadata": {},
   "source": [
    "#### Time range, 1440 steps, r2"
   ]
  },
  {
   "cell_type": "code",
   "execution_count": null,
   "id": "f622a3eb-b3f3-42c7-89e3-caa3de8eb55a",
   "metadata": {
    "tags": []
   },
   "outputs": [],
   "source": [
    "# Time step CAM=30min\n",
    "# Time step SRM=20sec\n",
    "# (30*60sec)/20sec = 90 \n",
    "# Or: 120 as Nando did\n",
    "i_time = \"range\"\n",
    "n_time = 1440\n",
    "lats=[-90, 90]\n",
    "lons=[0., 359.]\n",
    "stats = \"r2\"\n",
    "\n",
    "run_plot_profiles()"
   ]
  },
  {
   "cell_type": "code",
   "execution_count": null,
   "id": "4962413b-baf7-46a6-b989-3ea88940af74",
   "metadata": {},
   "outputs": [],
   "source": []
  }
 ],
 "metadata": {
  "kernelspec": {
   "display_name": "Tensorflow Kernel",
   "language": "python",
   "name": "tensorflow-kernel"
  },
  "language_info": {
   "codemirror_mode": {
    "name": "ipython",
    "version": 3
   },
   "file_extension": ".py",
   "mimetype": "text/x-python",
   "name": "python",
   "nbconvert_exporter": "python",
   "pygments_lexer": "ipython3",
   "version": "3.9.16"
  }
 },
 "nbformat": 4,
 "nbformat_minor": 5
}
