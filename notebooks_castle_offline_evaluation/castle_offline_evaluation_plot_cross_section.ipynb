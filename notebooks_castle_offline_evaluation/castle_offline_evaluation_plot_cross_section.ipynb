{
 "cells": [
  {
   "cell_type": "markdown",
   "id": "5e12c5fb-bdc3-455a-96b1-3c685c16b014",
   "metadata": {},
   "source": [
    "# Offline diagnostics for the CASTLE single output networks following Rasp et al. (2018) architecture"
   ]
  },
  {
   "cell_type": "markdown",
   "id": "681699c5-4496-426b-9631-76b19da91b02",
   "metadata": {},
   "source": [
    "# Cross Section Plots"
   ]
  },
  {
   "cell_type": "code",
   "execution_count": 1,
   "id": "80663586-b976-4036-bf61-041ac57da701",
   "metadata": {},
   "outputs": [],
   "source": [
    "%load_ext autoreload\n",
    "%autoreload 2"
   ]
  },
  {
   "cell_type": "code",
   "execution_count": 2,
   "id": "de40201b-2959-4f57-9333-4c61fd4e5c9f",
   "metadata": {},
   "outputs": [],
   "source": [
    "import sys\n",
    "import os\n",
    "\n",
    "# 0 = all messages are logged (default behavior)\n",
    "# 1 = INFO messages are not printed\n",
    "# 2 = INFO and WARNING messages are not printed\n",
    "# 3 = INFO, WARNING, and ERROR messages are not printe\n",
    "os.environ['TF_CPP_MIN_LOG_LEVEL'] = '1' "
   ]
  },
  {
   "cell_type": "code",
   "execution_count": 3,
   "id": "c8d0f2ce-f43e-480e-a529-5d1871609cce",
   "metadata": {},
   "outputs": [],
   "source": [
    "module_path = os.path.abspath(os.path.join('..'))\n",
    "# Relative imports\n",
    "if module_path not in sys.path:\n",
    "    sys.path.append(module_path)"
   ]
  },
  {
   "cell_type": "code",
   "execution_count": 4,
   "id": "199be6c2-7473-4798-acf8-e0bc5b289502",
   "metadata": {},
   "outputs": [
    {
     "name": "stdout",
     "output_type": "stream",
     "text": [
      "Num GPUs Available:  4\n"
     ]
    }
   ],
   "source": [
    "import tensorflow as tf\n",
    "\n",
    "print(\"Num GPUs Available: \", len(tf.config.list_physical_devices('GPU')))"
   ]
  },
  {
   "cell_type": "code",
   "execution_count": 5,
   "id": "caea0847-9d0e-4704-85a2-6550d7a921e0",
   "metadata": {},
   "outputs": [
    {
     "name": "stderr",
     "output_type": "stream",
     "text": [
      "Using `tqdm.autonotebook.tqdm` in notebook mode. Use `tqdm.tqdm` instead to force console mode (e.g. in jupyter console)\n"
     ]
    }
   ],
   "source": [
    "from utils.setup import SetupDiagnostics\n",
    "from neural_networks.load_models import load_models, get_save_plot_folder\n",
    "from neural_networks.model_diagnostics import ModelDiagnostics\n"
   ]
  },
  {
   "cell_type": "code",
   "execution_count": 6,
   "id": "329a0d6e-1643-405e-a259-8deb682948df",
   "metadata": {},
   "outputs": [],
   "source": [
    "from pathlib import Path"
   ]
  },
  {
   "cell_type": "code",
   "execution_count": null,
   "id": "05a6faf5-18dc-4a5f-8106-3b9a0300ed09",
   "metadata": {},
   "outputs": [],
   "source": []
  },
  {
   "cell_type": "markdown",
   "id": "adec015f-d0c4-4eda-ae03-1fbc8ef29eab",
   "metadata": {},
   "source": [
    "## Load trained CASTLE models"
   ]
  },
  {
   "cell_type": "code",
   "execution_count": 7,
   "id": "4909bf5d-3e49-41a3-acc8-10a596a395c3",
   "metadata": {},
   "outputs": [],
   "source": [
    "argv  = [\"-c\", \"../output_castle/training_5_mirrored/cfg_castle_NN_Creation.yml\"]\n",
    "plot_dir = Path(\"../output_castle/training_5_mirrored/plots_offline_evaluation/plot_cross_section/\")"
   ]
  },
  {
   "cell_type": "code",
   "execution_count": 8,
   "id": "b8c0764f-66dd-4ebc-a1de-48376d040b03",
   "metadata": {},
   "outputs": [],
   "source": [
    "castle_setup = SetupDiagnostics(argv)"
   ]
  },
  {
   "cell_type": "code",
   "execution_count": 9,
   "id": "56f4b85e-f044-4ff4-904e-97c427ffccc0",
   "metadata": {
    "tags": []
   },
   "outputs": [
    {
     "name": "stdout",
     "output_type": "stream",
     "text": [
      "\n",
      "Load model: /work/bd1179/b309247/pycharm_projects/iglesias-suarez2yxx_spuriouslinks/output_castle/training_5_mirrored/models_castle/castleNN/r1.0-a1.0-b1.0-l1.0-distributed/hl_256_256_256_256_256_256_256_256_256-act_ReLU-e_18/1_0_model.h5\n",
      "\n",
      "Load model: /work/bd1179/b309247/pycharm_projects/iglesias-suarez2yxx_spuriouslinks/output_castle/training_5_mirrored/models_castle/castleNN/r1.0-a1.0-b1.0-l1.0-distributed/hl_256_256_256_256_256_256_256_256_256-act_ReLU-e_18/1_1_model.h5\n",
      "\n",
      "Load model: /work/bd1179/b309247/pycharm_projects/iglesias-suarez2yxx_spuriouslinks/output_castle/training_5_mirrored/models_castle/castleNN/r1.0-a1.0-b1.0-l1.0-distributed/hl_256_256_256_256_256_256_256_256_256-act_ReLU-e_18/1_2_model.h5\n",
      "\n",
      "Load model: /work/bd1179/b309247/pycharm_projects/iglesias-suarez2yxx_spuriouslinks/output_castle/training_5_mirrored/models_castle/castleNN/r1.0-a1.0-b1.0-l1.0-distributed/hl_256_256_256_256_256_256_256_256_256-act_ReLU-e_18/1_3_model.h5\n",
      "\n",
      "Load model: /work/bd1179/b309247/pycharm_projects/iglesias-suarez2yxx_spuriouslinks/output_castle/training_5_mirrored/models_castle/castleNN/r1.0-a1.0-b1.0-l1.0-distributed/hl_256_256_256_256_256_256_256_256_256-act_ReLU-e_18/1_4_model.h5\n",
      "\n",
      "Load model: /work/bd1179/b309247/pycharm_projects/iglesias-suarez2yxx_spuriouslinks/output_castle/training_5_mirrored/models_castle/castleNN/r1.0-a1.0-b1.0-l1.0-distributed/hl_256_256_256_256_256_256_256_256_256-act_ReLU-e_18/1_5_model.h5\n",
      "\n",
      "Load model: /work/bd1179/b309247/pycharm_projects/iglesias-suarez2yxx_spuriouslinks/output_castle/training_5_mirrored/models_castle/castleNN/r1.0-a1.0-b1.0-l1.0-distributed/hl_256_256_256_256_256_256_256_256_256-act_ReLU-e_18/1_6_model.h5\n",
      "\n",
      "Load model: /work/bd1179/b309247/pycharm_projects/iglesias-suarez2yxx_spuriouslinks/output_castle/training_5_mirrored/models_castle/castleNN/r1.0-a1.0-b1.0-l1.0-distributed/hl_256_256_256_256_256_256_256_256_256-act_ReLU-e_18/1_7_model.h5\n",
      "\n",
      "Load model: /work/bd1179/b309247/pycharm_projects/iglesias-suarez2yxx_spuriouslinks/output_castle/training_5_mirrored/models_castle/castleNN/r1.0-a1.0-b1.0-l1.0-distributed/hl_256_256_256_256_256_256_256_256_256-act_ReLU-e_18/1_8_model.h5\n",
      "\n",
      "Load model: /work/bd1179/b309247/pycharm_projects/iglesias-suarez2yxx_spuriouslinks/output_castle/training_5_mirrored/models_castle/castleNN/r1.0-a1.0-b1.0-l1.0-distributed/hl_256_256_256_256_256_256_256_256_256-act_ReLU-e_18/1_9_model.h5\n",
      "\n",
      "Load model: /work/bd1179/b309247/pycharm_projects/iglesias-suarez2yxx_spuriouslinks/output_castle/training_5_mirrored/models_castle/castleNN/r1.0-a1.0-b1.0-l1.0-distributed/hl_256_256_256_256_256_256_256_256_256-act_ReLU-e_18/1_10_model.h5\n",
      "\n",
      "Load model: /work/bd1179/b309247/pycharm_projects/iglesias-suarez2yxx_spuriouslinks/output_castle/training_5_mirrored/models_castle/castleNN/r1.0-a1.0-b1.0-l1.0-distributed/hl_256_256_256_256_256_256_256_256_256-act_ReLU-e_18/1_11_model.h5\n",
      "\n",
      "Load model: /work/bd1179/b309247/pycharm_projects/iglesias-suarez2yxx_spuriouslinks/output_castle/training_5_mirrored/models_castle/castleNN/r1.0-a1.0-b1.0-l1.0-distributed/hl_256_256_256_256_256_256_256_256_256-act_ReLU-e_18/1_12_model.h5\n",
      "\n",
      "Load model: /work/bd1179/b309247/pycharm_projects/iglesias-suarez2yxx_spuriouslinks/output_castle/training_5_mirrored/models_castle/castleNN/r1.0-a1.0-b1.0-l1.0-distributed/hl_256_256_256_256_256_256_256_256_256-act_ReLU-e_18/1_13_model.h5\n",
      "\n",
      "Load model: /work/bd1179/b309247/pycharm_projects/iglesias-suarez2yxx_spuriouslinks/output_castle/training_5_mirrored/models_castle/castleNN/r1.0-a1.0-b1.0-l1.0-distributed/hl_256_256_256_256_256_256_256_256_256-act_ReLU-e_18/1_14_model.h5\n",
      "\n",
      "Load model: /work/bd1179/b309247/pycharm_projects/iglesias-suarez2yxx_spuriouslinks/output_castle/training_5_mirrored/models_castle/castleNN/r1.0-a1.0-b1.0-l1.0-distributed/hl_256_256_256_256_256_256_256_256_256-act_ReLU-e_18/1_15_model.h5\n",
      "\n",
      "Load model: /work/bd1179/b309247/pycharm_projects/iglesias-suarez2yxx_spuriouslinks/output_castle/training_5_mirrored/models_castle/castleNN/r1.0-a1.0-b1.0-l1.0-distributed/hl_256_256_256_256_256_256_256_256_256-act_ReLU-e_18/1_16_model.h5\n",
      "\n",
      "Load model: /work/bd1179/b309247/pycharm_projects/iglesias-suarez2yxx_spuriouslinks/output_castle/training_5_mirrored/models_castle/castleNN/r1.0-a1.0-b1.0-l1.0-distributed/hl_256_256_256_256_256_256_256_256_256-act_ReLU-e_18/1_17_model.h5\n",
      "\n",
      "Load model: /work/bd1179/b309247/pycharm_projects/iglesias-suarez2yxx_spuriouslinks/output_castle/training_5_mirrored/models_castle/castleNN/r1.0-a1.0-b1.0-l1.0-distributed/hl_256_256_256_256_256_256_256_256_256-act_ReLU-e_18/1_18_model.h5\n",
      "\n",
      "Load model: /work/bd1179/b309247/pycharm_projects/iglesias-suarez2yxx_spuriouslinks/output_castle/training_5_mirrored/models_castle/castleNN/r1.0-a1.0-b1.0-l1.0-distributed/hl_256_256_256_256_256_256_256_256_256-act_ReLU-e_18/1_19_model.h5\n",
      "\n",
      "Load model: /work/bd1179/b309247/pycharm_projects/iglesias-suarez2yxx_spuriouslinks/output_castle/training_5_mirrored/models_castle/castleNN/r1.0-a1.0-b1.0-l1.0-distributed/hl_256_256_256_256_256_256_256_256_256-act_ReLU-e_18/1_20_model.h5\n",
      "\n",
      "Load model: /work/bd1179/b309247/pycharm_projects/iglesias-suarez2yxx_spuriouslinks/output_castle/training_5_mirrored/models_castle/castleNN/r1.0-a1.0-b1.0-l1.0-distributed/hl_256_256_256_256_256_256_256_256_256-act_ReLU-e_18/1_21_model.h5\n",
      "\n",
      "Load model: /work/bd1179/b309247/pycharm_projects/iglesias-suarez2yxx_spuriouslinks/output_castle/training_5_mirrored/models_castle/castleNN/r1.0-a1.0-b1.0-l1.0-distributed/hl_256_256_256_256_256_256_256_256_256-act_ReLU-e_18/1_22_model.h5\n",
      "\n",
      "Load model: /work/bd1179/b309247/pycharm_projects/iglesias-suarez2yxx_spuriouslinks/output_castle/training_5_mirrored/models_castle/castleNN/r1.0-a1.0-b1.0-l1.0-distributed/hl_256_256_256_256_256_256_256_256_256-act_ReLU-e_18/1_23_model.h5\n",
      "\n",
      "Load model: /work/bd1179/b309247/pycharm_projects/iglesias-suarez2yxx_spuriouslinks/output_castle/training_5_mirrored/models_castle/castleNN/r1.0-a1.0-b1.0-l1.0-distributed/hl_256_256_256_256_256_256_256_256_256-act_ReLU-e_18/1_24_model.h5\n",
      "\n",
      "Load model: /work/bd1179/b309247/pycharm_projects/iglesias-suarez2yxx_spuriouslinks/output_castle/training_5_mirrored/models_castle/castleNN/r1.0-a1.0-b1.0-l1.0-distributed/hl_256_256_256_256_256_256_256_256_256-act_ReLU-e_18/1_25_model.h5\n",
      "\n",
      "Load model: /work/bd1179/b309247/pycharm_projects/iglesias-suarez2yxx_spuriouslinks/output_castle/training_5_mirrored/models_castle/castleNN/r1.0-a1.0-b1.0-l1.0-distributed/hl_256_256_256_256_256_256_256_256_256-act_ReLU-e_18/1_26_model.h5\n",
      "\n",
      "Load model: /work/bd1179/b309247/pycharm_projects/iglesias-suarez2yxx_spuriouslinks/output_castle/training_5_mirrored/models_castle/castleNN/r1.0-a1.0-b1.0-l1.0-distributed/hl_256_256_256_256_256_256_256_256_256-act_ReLU-e_18/1_27_model.h5\n",
      "\n",
      "Load model: /work/bd1179/b309247/pycharm_projects/iglesias-suarez2yxx_spuriouslinks/output_castle/training_5_mirrored/models_castle/castleNN/r1.0-a1.0-b1.0-l1.0-distributed/hl_256_256_256_256_256_256_256_256_256-act_ReLU-e_18/1_28_model.h5\n",
      "\n",
      "Load model: /work/bd1179/b309247/pycharm_projects/iglesias-suarez2yxx_spuriouslinks/output_castle/training_5_mirrored/models_castle/castleNN/r1.0-a1.0-b1.0-l1.0-distributed/hl_256_256_256_256_256_256_256_256_256-act_ReLU-e_18/1_29_model.h5\n",
      "\n",
      "Load model: /work/bd1179/b309247/pycharm_projects/iglesias-suarez2yxx_spuriouslinks/output_castle/training_5_mirrored/models_castle/castleNN/r1.0-a1.0-b1.0-l1.0-distributed/hl_256_256_256_256_256_256_256_256_256-act_ReLU-e_18/0_0_model.h5\n",
      "\n",
      "Load model: /work/bd1179/b309247/pycharm_projects/iglesias-suarez2yxx_spuriouslinks/output_castle/training_5_mirrored/models_castle/castleNN/r1.0-a1.0-b1.0-l1.0-distributed/hl_256_256_256_256_256_256_256_256_256-act_ReLU-e_18/0_1_model.h5\n",
      "\n",
      "Load model: /work/bd1179/b309247/pycharm_projects/iglesias-suarez2yxx_spuriouslinks/output_castle/training_5_mirrored/models_castle/castleNN/r1.0-a1.0-b1.0-l1.0-distributed/hl_256_256_256_256_256_256_256_256_256-act_ReLU-e_18/0_2_model.h5\n",
      "\n",
      "Load model: /work/bd1179/b309247/pycharm_projects/iglesias-suarez2yxx_spuriouslinks/output_castle/training_5_mirrored/models_castle/castleNN/r1.0-a1.0-b1.0-l1.0-distributed/hl_256_256_256_256_256_256_256_256_256-act_ReLU-e_18/0_3_model.h5\n",
      "\n",
      "Load model: /work/bd1179/b309247/pycharm_projects/iglesias-suarez2yxx_spuriouslinks/output_castle/training_5_mirrored/models_castle/castleNN/r1.0-a1.0-b1.0-l1.0-distributed/hl_256_256_256_256_256_256_256_256_256-act_ReLU-e_18/0_4_model.h5\n",
      "\n",
      "Load model: /work/bd1179/b309247/pycharm_projects/iglesias-suarez2yxx_spuriouslinks/output_castle/training_5_mirrored/models_castle/castleNN/r1.0-a1.0-b1.0-l1.0-distributed/hl_256_256_256_256_256_256_256_256_256-act_ReLU-e_18/0_5_model.h5\n",
      "\n",
      "Load model: /work/bd1179/b309247/pycharm_projects/iglesias-suarez2yxx_spuriouslinks/output_castle/training_5_mirrored/models_castle/castleNN/r1.0-a1.0-b1.0-l1.0-distributed/hl_256_256_256_256_256_256_256_256_256-act_ReLU-e_18/0_6_model.h5\n",
      "\n",
      "Load model: /work/bd1179/b309247/pycharm_projects/iglesias-suarez2yxx_spuriouslinks/output_castle/training_5_mirrored/models_castle/castleNN/r1.0-a1.0-b1.0-l1.0-distributed/hl_256_256_256_256_256_256_256_256_256-act_ReLU-e_18/0_7_model.h5\n",
      "\n",
      "Load model: /work/bd1179/b309247/pycharm_projects/iglesias-suarez2yxx_spuriouslinks/output_castle/training_5_mirrored/models_castle/castleNN/r1.0-a1.0-b1.0-l1.0-distributed/hl_256_256_256_256_256_256_256_256_256-act_ReLU-e_18/0_8_model.h5\n",
      "\n",
      "Load model: /work/bd1179/b309247/pycharm_projects/iglesias-suarez2yxx_spuriouslinks/output_castle/training_5_mirrored/models_castle/castleNN/r1.0-a1.0-b1.0-l1.0-distributed/hl_256_256_256_256_256_256_256_256_256-act_ReLU-e_18/0_9_model.h5\n",
      "\n",
      "Load model: /work/bd1179/b309247/pycharm_projects/iglesias-suarez2yxx_spuriouslinks/output_castle/training_5_mirrored/models_castle/castleNN/r1.0-a1.0-b1.0-l1.0-distributed/hl_256_256_256_256_256_256_256_256_256-act_ReLU-e_18/0_10_model.h5\n",
      "\n",
      "Load model: /work/bd1179/b309247/pycharm_projects/iglesias-suarez2yxx_spuriouslinks/output_castle/training_5_mirrored/models_castle/castleNN/r1.0-a1.0-b1.0-l1.0-distributed/hl_256_256_256_256_256_256_256_256_256-act_ReLU-e_18/0_11_model.h5\n",
      "\n",
      "Load model: /work/bd1179/b309247/pycharm_projects/iglesias-suarez2yxx_spuriouslinks/output_castle/training_5_mirrored/models_castle/castleNN/r1.0-a1.0-b1.0-l1.0-distributed/hl_256_256_256_256_256_256_256_256_256-act_ReLU-e_18/0_12_model.h5\n",
      "\n",
      "Load model: /work/bd1179/b309247/pycharm_projects/iglesias-suarez2yxx_spuriouslinks/output_castle/training_5_mirrored/models_castle/castleNN/r1.0-a1.0-b1.0-l1.0-distributed/hl_256_256_256_256_256_256_256_256_256-act_ReLU-e_18/0_13_model.h5\n",
      "\n",
      "Load model: /work/bd1179/b309247/pycharm_projects/iglesias-suarez2yxx_spuriouslinks/output_castle/training_5_mirrored/models_castle/castleNN/r1.0-a1.0-b1.0-l1.0-distributed/hl_256_256_256_256_256_256_256_256_256-act_ReLU-e_18/0_14_model.h5\n",
      "\n",
      "Load model: /work/bd1179/b309247/pycharm_projects/iglesias-suarez2yxx_spuriouslinks/output_castle/training_5_mirrored/models_castle/castleNN/r1.0-a1.0-b1.0-l1.0-distributed/hl_256_256_256_256_256_256_256_256_256-act_ReLU-e_18/0_15_model.h5\n",
      "\n",
      "Load model: /work/bd1179/b309247/pycharm_projects/iglesias-suarez2yxx_spuriouslinks/output_castle/training_5_mirrored/models_castle/castleNN/r1.0-a1.0-b1.0-l1.0-distributed/hl_256_256_256_256_256_256_256_256_256-act_ReLU-e_18/0_16_model.h5\n",
      "\n",
      "Load model: /work/bd1179/b309247/pycharm_projects/iglesias-suarez2yxx_spuriouslinks/output_castle/training_5_mirrored/models_castle/castleNN/r1.0-a1.0-b1.0-l1.0-distributed/hl_256_256_256_256_256_256_256_256_256-act_ReLU-e_18/0_17_model.h5\n",
      "\n",
      "Load model: /work/bd1179/b309247/pycharm_projects/iglesias-suarez2yxx_spuriouslinks/output_castle/training_5_mirrored/models_castle/castleNN/r1.0-a1.0-b1.0-l1.0-distributed/hl_256_256_256_256_256_256_256_256_256-act_ReLU-e_18/0_18_model.h5\n",
      "\n",
      "Load model: /work/bd1179/b309247/pycharm_projects/iglesias-suarez2yxx_spuriouslinks/output_castle/training_5_mirrored/models_castle/castleNN/r1.0-a1.0-b1.0-l1.0-distributed/hl_256_256_256_256_256_256_256_256_256-act_ReLU-e_18/0_19_model.h5\n",
      "\n",
      "Load model: /work/bd1179/b309247/pycharm_projects/iglesias-suarez2yxx_spuriouslinks/output_castle/training_5_mirrored/models_castle/castleNN/r1.0-a1.0-b1.0-l1.0-distributed/hl_256_256_256_256_256_256_256_256_256-act_ReLU-e_18/0_20_model.h5\n",
      "\n",
      "Load model: /work/bd1179/b309247/pycharm_projects/iglesias-suarez2yxx_spuriouslinks/output_castle/training_5_mirrored/models_castle/castleNN/r1.0-a1.0-b1.0-l1.0-distributed/hl_256_256_256_256_256_256_256_256_256-act_ReLU-e_18/0_21_model.h5\n",
      "\n",
      "Load model: /work/bd1179/b309247/pycharm_projects/iglesias-suarez2yxx_spuriouslinks/output_castle/training_5_mirrored/models_castle/castleNN/r1.0-a1.0-b1.0-l1.0-distributed/hl_256_256_256_256_256_256_256_256_256-act_ReLU-e_18/0_22_model.h5\n",
      "\n",
      "Load model: /work/bd1179/b309247/pycharm_projects/iglesias-suarez2yxx_spuriouslinks/output_castle/training_5_mirrored/models_castle/castleNN/r1.0-a1.0-b1.0-l1.0-distributed/hl_256_256_256_256_256_256_256_256_256-act_ReLU-e_18/0_23_model.h5\n",
      "\n",
      "Load model: /work/bd1179/b309247/pycharm_projects/iglesias-suarez2yxx_spuriouslinks/output_castle/training_5_mirrored/models_castle/castleNN/r1.0-a1.0-b1.0-l1.0-distributed/hl_256_256_256_256_256_256_256_256_256-act_ReLU-e_18/0_24_model.h5\n",
      "\n",
      "Load model: /work/bd1179/b309247/pycharm_projects/iglesias-suarez2yxx_spuriouslinks/output_castle/training_5_mirrored/models_castle/castleNN/r1.0-a1.0-b1.0-l1.0-distributed/hl_256_256_256_256_256_256_256_256_256-act_ReLU-e_18/0_25_model.h5\n",
      "\n",
      "Load model: /work/bd1179/b309247/pycharm_projects/iglesias-suarez2yxx_spuriouslinks/output_castle/training_5_mirrored/models_castle/castleNN/r1.0-a1.0-b1.0-l1.0-distributed/hl_256_256_256_256_256_256_256_256_256-act_ReLU-e_18/0_26_model.h5\n",
      "\n",
      "Load model: /work/bd1179/b309247/pycharm_projects/iglesias-suarez2yxx_spuriouslinks/output_castle/training_5_mirrored/models_castle/castleNN/r1.0-a1.0-b1.0-l1.0-distributed/hl_256_256_256_256_256_256_256_256_256-act_ReLU-e_18/0_27_model.h5\n",
      "\n",
      "Load model: /work/bd1179/b309247/pycharm_projects/iglesias-suarez2yxx_spuriouslinks/output_castle/training_5_mirrored/models_castle/castleNN/r1.0-a1.0-b1.0-l1.0-distributed/hl_256_256_256_256_256_256_256_256_256-act_ReLU-e_18/0_28_model.h5\n",
      "\n",
      "Load model: /work/bd1179/b309247/pycharm_projects/iglesias-suarez2yxx_spuriouslinks/output_castle/training_5_mirrored/models_castle/castleNN/r1.0-a1.0-b1.0-l1.0-distributed/hl_256_256_256_256_256_256_256_256_256-act_ReLU-e_18/0_29_model.h5\n",
      "\n",
      "Load model: /work/bd1179/b309247/pycharm_projects/iglesias-suarez2yxx_spuriouslinks/output_castle/training_5_mirrored/models_castle/castleNN/r1.0-a1.0-b1.0-l1.0-distributed/hl_256_256_256_256_256_256_256_256_256-act_ReLU-e_18/2_0_model.h5\n",
      "\n",
      "Load model: /work/bd1179/b309247/pycharm_projects/iglesias-suarez2yxx_spuriouslinks/output_castle/training_5_mirrored/models_castle/castleNN/r1.0-a1.0-b1.0-l1.0-distributed/hl_256_256_256_256_256_256_256_256_256-act_ReLU-e_18/3_0_model.h5\n",
      "\n",
      "Load model: /work/bd1179/b309247/pycharm_projects/iglesias-suarez2yxx_spuriouslinks/output_castle/training_5_mirrored/models_castle/castleNN/r1.0-a1.0-b1.0-l1.0-distributed/hl_256_256_256_256_256_256_256_256_256-act_ReLU-e_18/4_0_model.h5\n",
      "\n",
      "Load model: /work/bd1179/b309247/pycharm_projects/iglesias-suarez2yxx_spuriouslinks/output_castle/training_5_mirrored/models_castle/castleNN/r1.0-a1.0-b1.0-l1.0-distributed/hl_256_256_256_256_256_256_256_256_256-act_ReLU-e_18/5_0_model.h5\n",
      "\n",
      "Load model: /work/bd1179/b309247/pycharm_projects/iglesias-suarez2yxx_spuriouslinks/output_castle/training_5_mirrored/models_castle/castleNN/r1.0-a1.0-b1.0-l1.0-distributed/hl_256_256_256_256_256_256_256_256_256-act_ReLU-e_18/6_0_model.h5\n"
     ]
    }
   ],
   "source": [
    "castle_models = load_models(castle_setup)"
   ]
  },
  {
   "cell_type": "code",
   "execution_count": 10,
   "id": "63903c6b-30f6-45b8-814c-3dcafdd324b4",
   "metadata": {},
   "outputs": [
    {
     "data": {
      "text/plain": [
       "1"
      ]
     },
     "execution_count": 10,
     "metadata": {},
     "output_type": "execute_result"
    }
   ],
   "source": [
    "len(castle_models)"
   ]
  },
  {
   "cell_type": "code",
   "execution_count": 11,
   "id": "fd816040-95d0-4ae1-8cb9-419edfa1f061",
   "metadata": {},
   "outputs": [
    {
     "data": {
      "text/plain": [
       "65"
      ]
     },
     "execution_count": 11,
     "metadata": {},
     "output_type": "execute_result"
    }
   ],
   "source": [
    "len(castle_models['castleNN'])"
   ]
  },
  {
   "cell_type": "code",
   "execution_count": 12,
   "id": "6d1e649c-4be5-4d8c-91a6-40886b2f841b",
   "metadata": {},
   "outputs": [
    {
     "data": {
      "text/plain": [
       "dict_keys(['tphystnd-3.64', 'tphystnd-7.59', 'tphystnd-14.36', 'tphystnd-24.61', 'tphystnd-38.27', 'tphystnd-54.6', 'tphystnd-72.01', 'tphystnd-87.82', 'tphystnd-103.32', 'tphystnd-121.55', 'tphystnd-142.99', 'tphystnd-168.23', 'tphystnd-197.91', 'tphystnd-232.83', 'tphystnd-273.91', 'tphystnd-322.24', 'tphystnd-379.1', 'tphystnd-445.99', 'tphystnd-524.69', 'tphystnd-609.78', 'tphystnd-691.39', 'tphystnd-763.4', 'tphystnd-820.86', 'tphystnd-859.53', 'tphystnd-887.02', 'tphystnd-912.64', 'tphystnd-936.2', 'tphystnd-957.49', 'tphystnd-976.33', 'tphystnd-992.56', 'phq-3.64', 'phq-7.59', 'phq-14.36', 'phq-24.61', 'phq-38.27', 'phq-54.6', 'phq-72.01', 'phq-87.82', 'phq-103.32', 'phq-121.55', 'phq-142.99', 'phq-168.23', 'phq-197.91', 'phq-232.83', 'phq-273.91', 'phq-322.24', 'phq-379.1', 'phq-445.99', 'phq-524.69', 'phq-609.78', 'phq-691.39', 'phq-763.4', 'phq-820.86', 'phq-859.53', 'phq-887.02', 'phq-912.64', 'phq-936.2', 'phq-957.49', 'phq-976.33', 'phq-992.56', 'fsnt', 'fsns', 'flnt', 'flns', 'prect'])"
      ]
     },
     "execution_count": 12,
     "metadata": {},
     "output_type": "execute_result"
    }
   ],
   "source": [
    "# Note: keys are variables not strings\n",
    "castle_models['castleNN'].keys()"
   ]
  },
  {
   "cell_type": "code",
   "execution_count": null,
   "id": "c0ff2444-c218-418b-ac41-e473e7b72f2b",
   "metadata": {},
   "outputs": [],
   "source": []
  },
  {
   "cell_type": "markdown",
   "id": "5b31e8a0-944a-4960-b1b6-36086ce65bea",
   "metadata": {},
   "source": [
    "## Vertical cross-section plots"
   ]
  },
  {
   "cell_type": "code",
   "execution_count": 13,
   "id": "f974457f-d977-47f4-a154-d0368853e83c",
   "metadata": {},
   "outputs": [],
   "source": [
    "# This variable does not exist in the code (but key nn_type is the same)\n",
    "castle_model_type = \"castleNN\"\n",
    "castle_setup.model_type = castle_model_type"
   ]
  },
  {
   "cell_type": "code",
   "execution_count": 14,
   "id": "71536011-6de3-4246-b639-de2aa7c02988",
   "metadata": {},
   "outputs": [],
   "source": [
    "castle_md = ModelDiagnostics(setup=castle_setup, \n",
    "                             models=castle_models[castle_model_type]) "
   ]
  },
  {
   "cell_type": "code",
   "execution_count": null,
   "id": "9156eba5-d684-4549-b2a9-0311d1ab9f47",
   "metadata": {},
   "outputs": [],
   "source": [
    "castle_md"
   ]
  },
  {
   "cell_type": "code",
   "execution_count": null,
   "id": "03e3532d-8051-4c44-89ce-e45420722134",
   "metadata": {},
   "outputs": [],
   "source": [
    "dict_keys = castle_models['castleNN'].keys()"
   ]
  },
  {
   "cell_type": "markdown",
   "id": "118fcc29-b445-4807-8e64-cdbecc0d7206",
   "metadata": {},
   "source": [
    "### Single Variable"
   ]
  },
  {
   "cell_type": "code",
   "execution_count": null,
   "id": "c752dcac-8e72-48e5-97cb-25c460ed19a3",
   "metadata": {},
   "outputs": [],
   "source": [
    "from utils.variable import Variable_Lev_Metadata"
   ]
  },
  {
   "cell_type": "code",
   "execution_count": 18,
   "id": "2e1e170b-176f-494d-b99b-20fd538926a3",
   "metadata": {},
   "outputs": [],
   "source": [
    "var = Variable_Lev_Metadata.parse_var_name(\"tphystnd-0\")\n",
    "var_keys = [k for k in dict_keys if var.var.value in str(k)]"
   ]
  },
  {
   "cell_type": "code",
   "execution_count": 19,
   "id": "5ee0ea93-0abc-4bd6-a4ba-09736293b695",
   "metadata": {},
   "outputs": [
    {
     "name": "stdout",
     "output_type": "stream",
     "text": [
      "Plotting double_yz for variable tphystnd\n",
      "Validation batch size = 8192.\n",
      "Validation batch size = 8192.\n",
      "Validation batch size = 8192.\n",
      "Validation batch size = 8192.\n",
      "Validation batch size = 8192.\n",
      "WARNING:tensorflow:5 out of the last 5 calls to <function Model.make_predict_function.<locals>.predict_function at 0x7fefac76ce50> triggered tf.function retracing. Tracing is expensive and the excessive number of tracings could be due to (1) creating @tf.function repeatedly in a loop, (2) passing tensors with different shapes, (3) passing Python objects instead of tensors. For (1), please define your @tf.function outside of the loop. For (2), @tf.function has reduce_retracing=True option that can avoid unnecessary retracing. For (3), please refer to https://www.tensorflow.org/guide/function#controlling_retracing and https://www.tensorflow.org/api_docs/python/tf/function for  more details.\n",
      "Validation batch size = 8192.\n",
      "WARNING:tensorflow:6 out of the last 6 calls to <function Model.make_predict_function.<locals>.predict_function at 0x7ff98782b280> triggered tf.function retracing. Tracing is expensive and the excessive number of tracings could be due to (1) creating @tf.function repeatedly in a loop, (2) passing tensors with different shapes, (3) passing Python objects instead of tensors. For (1), please define your @tf.function outside of the loop. For (2), @tf.function has reduce_retracing=True option that can avoid unnecessary retracing. For (3), please refer to https://www.tensorflow.org/guide/function#controlling_retracing and https://www.tensorflow.org/api_docs/python/tf/function for  more details.\n",
      "Validation batch size = 8192.\n",
      "Validation batch size = 8192.\n",
      "Validation batch size = 8192.\n",
      "Validation batch size = 8192.\n",
      "Validation batch size = 8192.\n",
      "Validation batch size = 8192.\n",
      "Validation batch size = 8192.\n",
      "Validation batch size = 8192.\n",
      "Validation batch size = 8192.\n",
      "Validation batch size = 8192.\n",
      "Validation batch size = 8192.\n",
      "Validation batch size = 8192.\n",
      "Validation batch size = 8192.\n",
      "Validation batch size = 8192.\n",
      "Validation batch size = 8192.\n",
      "Validation batch size = 8192.\n",
      "Validation batch size = 8192.\n",
      "Validation batch size = 8192.\n",
      "Validation batch size = 8192.\n",
      "Validation batch size = 8192.\n",
      "Validation batch size = 8192.\n",
      "Validation batch size = 8192.\n",
      "Validation batch size = 8192.\n",
      "Validation batch size = 8192.\n"
     ]
    },
    {
     "data": {
      "image/png": "[encoded data removed]",
      "text/plain": [
       "<Figure size 1200x500 with 4 Axes>"
      ]
     },
     "metadata": {},
     "output_type": "display_data"
    }
   ],
   "source": [
    "fig, axes = castle_md.plot_double_yz(var, var_keys, itime=1, nTime=False, ilon=64, diff=False,\n",
    "                                     cmap='RdBu_r', stats=False)\n",
    "\n",
    "fig.show()"
   ]
  },
  {
   "cell_type": "code",
   "execution_count": 20,
   "id": "902b8f08-4be4-4953-a39b-d9b70b43c3a4",
   "metadata": {},
   "outputs": [
    {
     "name": "stdout",
     "output_type": "stream",
     "text": [
      "Plotting double_yz for variable tphystnd\n",
      "Validation batch size = 8192.\n",
      "Validation batch size = 8192.\n",
      "Validation batch size = 8192.\n",
      "Validation batch size = 8192.\n",
      "Validation batch size = 8192.\n",
      "Validation batch size = 8192.\n",
      "Validation batch size = 8192.\n",
      "Validation batch size = 8192.\n",
      "Validation batch size = 8192.\n",
      "Validation batch size = 8192.\n",
      "Validation batch size = 8192.\n",
      "Validation batch size = 8192.\n",
      "Validation batch size = 8192.\n",
      "Validation batch size = 8192.\n",
      "Validation batch size = 8192.\n",
      "Validation batch size = 8192.\n",
      "Validation batch size = 8192.\n",
      "Validation batch size = 8192.\n",
      "Validation batch size = 8192.\n",
      "Validation batch size = 8192.\n",
      "Validation batch size = 8192.\n",
      "Validation batch size = 8192.\n",
      "Validation batch size = 8192.\n",
      "Validation batch size = 8192.\n",
      "Validation batch size = 8192.\n",
      "Validation batch size = 8192.\n",
      "Validation batch size = 8192.\n",
      "Validation batch size = 8192.\n",
      "Validation batch size = 8192.\n",
      "Validation batch size = 8192.\n"
     ]
    },
    {
     "data": {
      "image/png": "[encoded data removed]",
      "text/plain": [
       "<Figure size 1200x500 with 6 Axes>"
      ]
     },
     "metadata": {},
     "output_type": "display_data"
    }
   ],
   "source": [
    "fig, axes = castle_md.plot_double_yz(var, var_keys, itime=1, nTime=False, ilon=64, diff=True,\n",
    "                                     cmap='RdBu_r', stats=False)\n",
    "\n",
    "fig.show()"
   ]
  },
  {
   "cell_type": "code",
   "execution_count": 21,
   "id": "a8a93a1b-8499-4ce5-8c57-b2e83c26db33",
   "metadata": {},
   "outputs": [
    {
     "name": "stdout",
     "output_type": "stream",
     "text": [
      "Plotting double_yz for variable tphystnd\n",
      "Validation batch size = 8192.\n",
      "Validation batch size = 8192.\n",
      "Validation batch size = 8192.\n",
      "Validation batch size = 8192.\n",
      "Validation batch size = 8192.\n",
      "Validation batch size = 8192.\n",
      "Validation batch size = 8192.\n",
      "Validation batch size = 8192.\n",
      "Validation batch size = 8192.\n",
      "Validation batch size = 8192.\n",
      "Validation batch size = 8192.\n",
      "Validation batch size = 8192.\n",
      "Validation batch size = 8192.\n",
      "Validation batch size = 8192.\n",
      "Validation batch size = 8192.\n",
      "Validation batch size = 8192.\n",
      "Validation batch size = 8192.\n",
      "Validation batch size = 8192.\n",
      "Validation batch size = 8192.\n",
      "Validation batch size = 8192.\n",
      "Validation batch size = 8192.\n",
      "Validation batch size = 8192.\n",
      "Validation batch size = 8192.\n",
      "Validation batch size = 8192.\n",
      "Validation batch size = 8192.\n",
      "Validation batch size = 8192.\n",
      "Validation batch size = 8192.\n",
      "Validation batch size = 8192.\n",
      "Validation batch size = 8192.\n",
      "Validation batch size = 8192.\n",
      "Saved plot tphystnd-992.56_map_time-1.png.\n",
      "Closed plot for variable tphystnd-992.56\n"
     ]
    }
   ],
   "source": [
    "_ = castle_md.plot_double_yz(var, var_keys, itime=1, nTime=False, ilon=64, diff=False,\n",
    "                                     cmap='RdBu_r', save=plot_dir, stats=False, show_plot=False)\n"
   ]
  },
  {
   "cell_type": "code",
   "execution_count": 22,
   "id": "3e583cc6-50ea-4277-aa3d-d98c0f5e85fb",
   "metadata": {
    "tags": []
   },
   "outputs": [
    {
     "name": "stdout",
     "output_type": "stream",
     "text": [
      "Plotting double_yz for variable tphystnd\n",
      "Validation batch size = 8192.\n",
      "Time samples: 90\n",
      "Validation batch size = 8192.\n",
      "Time samples: 90\n",
      "Validation batch size = 8192.\n",
      "Time samples: 90\n",
      "Validation batch size = 8192.\n",
      "Time samples: 90\n",
      "Validation batch size = 8192.\n",
      "Time samples: 90\n",
      "Validation batch size = 8192.\n",
      "Time samples: 90\n",
      "Validation batch size = 8192.\n",
      "Time samples: 90\n",
      "Validation batch size = 8192.\n",
      "Time samples: 90\n",
      "Validation batch size = 8192.\n",
      "Time samples: 90\n",
      "Validation batch size = 8192.\n",
      "Time samples: 90\n",
      "Validation batch size = 8192.\n",
      "Time samples: 90\n",
      "Validation batch size = 8192.\n",
      "Time samples: 90\n",
      "Validation batch size = 8192.\n",
      "Time samples: 90\n",
      "Validation batch size = 8192.\n",
      "Time samples: 90\n",
      "Validation batch size = 8192.\n",
      "Time samples: 90\n",
      "Validation batch size = 8192.\n",
      "Time samples: 90\n",
      "Validation batch size = 8192.\n",
      "Time samples: 90\n",
      "Validation batch size = 8192.\n",
      "Time samples: 90\n",
      "Validation batch size = 8192.\n",
      "Time samples: 90\n",
      "Validation batch size = 8192.\n",
      "Time samples: 90\n",
      "Validation batch size = 8192.\n",
      "Time samples: 90\n",
      "Validation batch size = 8192.\n",
      "Time samples: 90\n",
      "Validation batch size = 8192.\n",
      "Time samples: 90\n",
      "Validation batch size = 8192.\n",
      "Time samples: 90\n",
      "Validation batch size = 8192.\n",
      "Time samples: 90\n",
      "Validation batch size = 8192.\n",
      "Time samples: 90\n",
      "Validation batch size = 8192.\n",
      "Time samples: 90\n",
      "Validation batch size = 8192.\n",
      "Time samples: 90\n",
      "Validation batch size = 8192.\n",
      "Time samples: 90\n",
      "Validation batch size = 8192.\n",
      "Time samples: 90\n"
     ]
    },
    {
     "data": {
      "image/png": "[encoded data removed]",
      "text/plain": [
       "<Figure size 1200x500 with 6 Axes>"
      ]
     },
     "metadata": {},
     "output_type": "display_data"
    }
   ],
   "source": [
    "# Time step CAM=30min\n",
    "# Time step SRM=20sec\n",
    "# (30*60sec)/20sec = 90\n",
    "fig, axes = castle_md.plot_double_yz(var, var_keys, itime='mean', nTime=90, ilon=64, diff=True,\n",
    "                                     cmap='RdBu_r', stats=False)\n",
    "\n",
    "fig.show()"
   ]
  },
  {
   "cell_type": "markdown",
   "id": "a693c4ea-a45f-4fba-adbb-266ab1de0214",
   "metadata": {
    "tags": []
   },
   "source": [
    "### All variables 3d variables"
   ]
  },
  {
   "cell_type": "code",
   "execution_count": 18,
   "id": "998c1fc7-143f-4a05-a4c0-eccbca6e8bfb",
   "metadata": {},
   "outputs": [],
   "source": [
    "def get_save_str(idx_time, num_time=False, idx_lon=False, \n",
    "                 show_diff=False, statistics=False):\n",
    "    if type(idx_time) is int:\n",
    "        idx_time_str = f\"step-{idx_time}\"\n",
    "    elif type(idx_time) is str:\n",
    "        if num_time:\n",
    "            idx_time_str = f\"{idx_time}-{num_time}\"\n",
    "        else:\n",
    "            idx_time_str = f\"{idx_time}-all\"\n",
    "    else:\n",
    "        raise ValueError(f\"Unkown value for idx_time: {idx_time}\")\n",
    "\n",
    "    idx_lon_str = f\"_ilon-{idx_lon}\" if idx_lon else \"\"\n",
    "    stats_str =  f\"_stats-{statistics}\" if statistics else \"\"\n",
    "    diff_str = \"_with_diff\" if show_diff else \"_no_diff\"\n",
    "    \n",
    "    return idx_time_str + idx_lon_str + stats_str + diff_str\n",
    "        "
   ]
  },
  {
   "cell_type": "code",
   "execution_count": 19,
   "id": "1fe15dc8-4015-4367-9cc8-1a0a8202e4fd",
   "metadata": {},
   "outputs": [],
   "source": [
    "# only 3d\n",
    "three_d_str = [\"tphystnd-3.64\", \"phq-3.64\"] \n",
    "three_d_keys = [Variable_Lev_Metadata.parse_var_name(var_str) for var_str in three_d_str]\n",
    "\n",
    "dict_keys = castle_models['castleNN'].keys()"
   ]
  },
  {
   "cell_type": "code",
   "execution_count": 20,
   "id": "43203b62-0dc4-4aa3-a5df-0de4ebea50b7",
   "metadata": {},
   "outputs": [],
   "source": [
    "# Not function parameters, uses variables that are set in Notebook cells!!\n",
    "def run_plot_yz():\n",
    "    save_dir = Path(plot_dir, get_save_str(i_time, num_time=n_time, idx_lon=i_lon, \n",
    "                                       show_diff=diff, statistics=stats))\n",
    "    Path(save_dir).mkdir(parents=True, exist_ok=True)\n",
    "\n",
    "\n",
    "    for var in three_d_keys:\n",
    "        print(var)\n",
    "        var_keys = [k for k in dict_keys if var.var.value in str(k)]\n",
    "\n",
    "        _ = castle_md.plot_double_yz(var, var_keys, itime=i_time, nTime=n_time, ilon=i_lon, diff=diff,\n",
    "                                     cmap='RdBu_r', stats=stats, show_plot=False, save=save_dir)"
   ]
  },
  {
   "cell_type": "markdown",
   "id": "71d2c2cd-6b4b-42ab-b296-38b730d75347",
   "metadata": {},
   "source": [
    "#### Time step 1 without diff"
   ]
  },
  {
   "cell_type": "code",
   "execution_count": null,
   "id": "6b0bcdb4-d7df-405d-83ec-f5ac2d4684bf",
   "metadata": {
    "tags": []
   },
   "outputs": [],
   "source": [
    "i_time = 1\n",
    "n_time = False\n",
    "i_lon = 64\n",
    "diff = False\n",
    "stats = False\n",
    "\n",
    "run_plot_yz()"
   ]
  },
  {
   "cell_type": "markdown",
   "id": "36f467c5-ecbf-4782-99bf-92ee410933ec",
   "metadata": {},
   "source": [
    "#### Time step 1 with diff"
   ]
  },
  {
   "cell_type": "code",
   "execution_count": null,
   "id": "5475a32e-b486-4793-a559-9ce94eb9f626",
   "metadata": {
    "tags": []
   },
   "outputs": [],
   "source": [
    "i_time = 1\n",
    "n_time = False\n",
    "i_lon = 64\n",
    "diff = True\n",
    "stats = False\n",
    "\n",
    "run_plot_yz()"
   ]
  },
  {
   "cell_type": "markdown",
   "id": "9369e372-8a63-4a81-8ff3-4a62b2f003fe",
   "metadata": {},
   "source": [
    "#### Mean without diff"
   ]
  },
  {
   "cell_type": "code",
   "execution_count": 21,
   "id": "cd77192e-e58e-4334-9ae9-826ce5edafe3",
   "metadata": {
    "tags": []
   },
   "outputs": [
    {
     "name": "stdout",
     "output_type": "stream",
     "text": [
      "tphystnd-3.64\n",
      "Plotting double_yz for variable tphystnd\n",
      "Validation batch size = 8192.\n",
      "Time samples: 1440\n",
      "Validation batch size = 8192.\n",
      "Time samples: 1440\n",
      "Validation batch size = 8192.\n",
      "Time samples: 1440\n",
      "Validation batch size = 8192.\n",
      "Time samples: 1440\n",
      "Validation batch size = 8192.\n",
      "Time samples: 1440\n",
      "Validation batch size = 8192.\n",
      "Time samples: 1440\n",
      "Validation batch size = 8192.\n",
      "Time samples: 1440\n",
      "Validation batch size = 8192.\n",
      "Time samples: 1440\n",
      "Validation batch size = 8192.\n",
      "Time samples: 1440\n",
      "Validation batch size = 8192.\n",
      "Time samples: 1440\n",
      "Validation batch size = 8192.\n",
      "Time samples: 1440\n",
      "Validation batch size = 8192.\n",
      "Time samples: 1440\n",
      "Validation batch size = 8192.\n",
      "Time samples: 1440\n",
      "Validation batch size = 8192.\n",
      "Time samples: 1440\n",
      "Validation batch size = 8192.\n",
      "Time samples: 1440\n",
      "Validation batch size = 8192.\n",
      "Time samples: 1440\n",
      "Validation batch size = 8192.\n",
      "Time samples: 1440\n",
      "Validation batch size = 8192.\n",
      "Time samples: 1440\n",
      "Validation batch size = 8192.\n",
      "Time samples: 1440\n",
      "Validation batch size = 8192.\n",
      "Time samples: 1440\n",
      "Validation batch size = 8192.\n",
      "Time samples: 1440\n",
      "Validation batch size = 8192.\n",
      "Time samples: 1440\n",
      "Validation batch size = 8192.\n",
      "Time samples: 1440\n",
      "Validation batch size = 8192.\n",
      "Time samples: 1440\n",
      "Validation batch size = 8192.\n",
      "Time samples: 1440\n",
      "Validation batch size = 8192.\n",
      "Time samples: 1440\n",
      "Validation batch size = 8192.\n",
      "Time samples: 1440\n",
      "Validation batch size = 8192.\n",
      "Time samples: 1440\n",
      "Validation batch size = 8192.\n",
      "Time samples: 1440\n",
      "Validation batch size = 8192.\n",
      "Time samples: 1440\n",
      "Saved plot tphystnd-992.56_map_time-mean.png.\n",
      "Closed plot for variable tphystnd-992.56\n",
      "phq-3.64\n",
      "Plotting double_yz for variable phq\n",
      "Validation batch size = 8192.\n",
      "Time samples: 1440\n",
      "Validation batch size = 8192.\n",
      "Time samples: 1440\n",
      "Validation batch size = 8192.\n",
      "Time samples: 1440\n",
      "Validation batch size = 8192.\n",
      "Time samples: 1440\n",
      "Validation batch size = 8192.\n",
      "Time samples: 1440\n",
      "Validation batch size = 8192.\n",
      "Time samples: 1440\n",
      "Validation batch size = 8192.\n",
      "Time samples: 1440\n",
      "Validation batch size = 8192.\n",
      "Time samples: 1440\n",
      "Validation batch size = 8192.\n",
      "Time samples: 1440\n",
      "Validation batch size = 8192.\n",
      "Time samples: 1440\n",
      "Validation batch size = 8192.\n",
      "Time samples: 1440\n",
      "Validation batch size = 8192.\n",
      "Time samples: 1440\n",
      "Validation batch size = 8192.\n",
      "Time samples: 1440\n",
      "Validation batch size = 8192.\n",
      "Time samples: 1440\n",
      "Validation batch size = 8192.\n",
      "Time samples: 1440\n",
      "Validation batch size = 8192.\n",
      "Time samples: 1440\n",
      "Validation batch size = 8192.\n",
      "Time samples: 1440\n",
      "Validation batch size = 8192.\n",
      "Time samples: 1440\n",
      "Validation batch size = 8192.\n",
      "Time samples: 1440\n",
      "Validation batch size = 8192.\n",
      "Time samples: 1440\n",
      "Validation batch size = 8192.\n",
      "Time samples: 1440\n",
      "Validation batch size = 8192.\n",
      "Time samples: 1440\n",
      "Validation batch size = 8192.\n",
      "Time samples: 1440\n",
      "Validation batch size = 8192.\n",
      "Time samples: 1440\n",
      "Validation batch size = 8192.\n",
      "Time samples: 1440\n",
      "Validation batch size = 8192.\n",
      "Time samples: 1440\n",
      "Validation batch size = 8192.\n",
      "Time samples: 1440\n",
      "Validation batch size = 8192.\n",
      "Time samples: 1440\n",
      "Validation batch size = 8192.\n",
      "Time samples: 1440\n",
      "Validation batch size = 8192.\n",
      "Time samples: 1440\n",
      "Saved plot phq-992.56_map_time-mean.png.\n",
      "Closed plot for variable phq-992.56\n"
     ]
    }
   ],
   "source": [
    "# Time step CAM=30min\n",
    "# Time step SRM=20sec\n",
    "# (30*60sec)/20sec = 90 \n",
    "# Or: 120 as Nando did\n",
    "i_time = \"mean\"\n",
    "n_time = 1440\n",
    "i_lon = 64\n",
    "diff = False\n",
    "stats = False\n",
    "\n",
    "run_plot_yz()\n"
   ]
  },
  {
   "cell_type": "markdown",
   "id": "ff86c625-c59a-475b-ab99-ffa1bf4782db",
   "metadata": {},
   "source": [
    "#### Mean with diff"
   ]
  },
  {
   "cell_type": "code",
   "execution_count": 22,
   "id": "f622a3eb-b3f3-42c7-89e3-caa3de8eb55a",
   "metadata": {
    "tags": []
   },
   "outputs": [
    {
     "name": "stdout",
     "output_type": "stream",
     "text": [
      "tphystnd-3.64\n",
      "Plotting double_yz for variable tphystnd\n",
      "Validation batch size = 8192.\n",
      "Time samples: 1440\n",
      "Validation batch size = 8192.\n",
      "Time samples: 1440\n",
      "Validation batch size = 8192.\n",
      "Time samples: 1440\n",
      "Validation batch size = 8192.\n",
      "Time samples: 1440\n",
      "Validation batch size = 8192.\n",
      "Time samples: 1440\n",
      "Validation batch size = 8192.\n",
      "Time samples: 1440\n",
      "Validation batch size = 8192.\n",
      "Time samples: 1440\n",
      "Validation batch size = 8192.\n",
      "Time samples: 1440\n",
      "Validation batch size = 8192.\n",
      "Time samples: 1440\n",
      "Validation batch size = 8192.\n",
      "Time samples: 1440\n",
      "Validation batch size = 8192.\n",
      "Time samples: 1440\n",
      "Validation batch size = 8192.\n",
      "Time samples: 1440\n",
      "Validation batch size = 8192.\n",
      "Time samples: 1440\n",
      "Validation batch size = 8192.\n",
      "Time samples: 1440\n",
      "Validation batch size = 8192.\n",
      "Time samples: 1440\n",
      "Validation batch size = 8192.\n",
      "Time samples: 1440\n",
      "Validation batch size = 8192.\n",
      "Time samples: 1440\n",
      "Validation batch size = 8192.\n",
      "Time samples: 1440\n",
      "Validation batch size = 8192.\n",
      "Time samples: 1440\n",
      "Validation batch size = 8192.\n",
      "Time samples: 1440\n",
      "Validation batch size = 8192.\n",
      "Time samples: 1440\n",
      "Validation batch size = 8192.\n",
      "Time samples: 1440\n",
      "Validation batch size = 8192.\n",
      "Time samples: 1440\n",
      "Validation batch size = 8192.\n",
      "Time samples: 1440\n",
      "Validation batch size = 8192.\n",
      "Time samples: 1440\n",
      "Validation batch size = 8192.\n",
      "Time samples: 1440\n",
      "Validation batch size = 8192.\n",
      "Time samples: 1440\n",
      "Validation batch size = 8192.\n",
      "Time samples: 1440\n",
      "Validation batch size = 8192.\n",
      "Time samples: 1440\n",
      "Validation batch size = 8192.\n",
      "Time samples: 1440\n",
      "Saved plot tphystnd-992.56_map_time-mean_diff.png.\n",
      "Closed plot for variable tphystnd-992.56\n",
      "phq-3.64\n",
      "Plotting double_yz for variable phq\n",
      "Validation batch size = 8192.\n",
      "Time samples: 1440\n",
      "Validation batch size = 8192.\n",
      "Time samples: 1440\n",
      "Validation batch size = 8192.\n",
      "Time samples: 1440\n",
      "Validation batch size = 8192.\n",
      "Time samples: 1440\n",
      "Validation batch size = 8192.\n",
      "Time samples: 1440\n",
      "Validation batch size = 8192.\n",
      "Time samples: 1440\n",
      "Validation batch size = 8192.\n",
      "Time samples: 1440\n",
      "Validation batch size = 8192.\n",
      "Time samples: 1440\n",
      "Validation batch size = 8192.\n",
      "Time samples: 1440\n",
      "Validation batch size = 8192.\n",
      "Time samples: 1440\n",
      "Validation batch size = 8192.\n",
      "Time samples: 1440\n",
      "Validation batch size = 8192.\n",
      "Time samples: 1440\n",
      "Validation batch size = 8192.\n",
      "Time samples: 1440\n",
      "Validation batch size = 8192.\n",
      "Time samples: 1440\n",
      "Validation batch size = 8192.\n",
      "Time samples: 1440\n",
      "Validation batch size = 8192.\n",
      "Time samples: 1440\n",
      "Validation batch size = 8192.\n",
      "Time samples: 1440\n",
      "Validation batch size = 8192.\n",
      "Time samples: 1440\n",
      "Validation batch size = 8192.\n",
      "Time samples: 1440\n",
      "Validation batch size = 8192.\n",
      "Time samples: 1440\n",
      "Validation batch size = 8192.\n",
      "Time samples: 1440\n",
      "Validation batch size = 8192.\n",
      "Time samples: 1440\n",
      "Validation batch size = 8192.\n",
      "Time samples: 1440\n",
      "Validation batch size = 8192.\n",
      "Time samples: 1440\n",
      "Validation batch size = 8192.\n",
      "Time samples: 1440\n",
      "Validation batch size = 8192.\n",
      "Time samples: 1440\n",
      "Validation batch size = 8192.\n",
      "Time samples: 1440\n",
      "Validation batch size = 8192.\n",
      "Time samples: 1440\n",
      "Validation batch size = 8192.\n",
      "Time samples: 1440\n",
      "Validation batch size = 8192.\n",
      "Time samples: 1440\n",
      "Saved plot phq-992.56_map_time-mean_diff.png.\n",
      "Closed plot for variable phq-992.56\n"
     ]
    }
   ],
   "source": [
    "# Time step CAM=30min\n",
    "# Time step SRM=20sec\n",
    "# (30*60sec)/20sec = 90\n",
    "i_time = \"mean\"\n",
    "n_time = 1440\n",
    "i_lon = 64\n",
    "diff = True\n",
    "stats = False\n",
    "\n",
    "run_plot_yz()"
   ]
  },
  {
   "cell_type": "markdown",
   "id": "1a737afd-9e6f-41e3-bf1e-d3a75065624c",
   "metadata": {},
   "source": [
    "#### Mean no diff, ilon mean, stats r2"
   ]
  },
  {
   "cell_type": "code",
   "execution_count": null,
   "id": "e553db8e-a32b-4729-a327-8471336e1081",
   "metadata": {},
   "outputs": [
    {
     "name": "stdout",
     "output_type": "stream",
     "text": [
      "tphystnd-3.64\n",
      "Plotting double_yz for variable tphystnd\n",
      "Validation batch size = 8192.\n",
      "Time samples: 1440\n",
      "Validation batch size = 8192.\n",
      "Time samples: 1440\n",
      "Validation batch size = 8192.\n",
      "Time samples: 1440\n",
      "Validation batch size = 8192.\n",
      "Time samples: 1440\n",
      "Validation batch size = 8192.\n",
      "Time samples: 1440\n",
      "Validation batch size = 8192.\n",
      "Time samples: 1440\n",
      "Validation batch size = 8192.\n",
      "Time samples: 1440\n",
      "Validation batch size = 8192.\n",
      "Time samples: 1440\n",
      "Validation batch size = 8192.\n",
      "Time samples: 1440\n",
      "Validation batch size = 8192.\n",
      "Time samples: 1440\n",
      "Validation batch size = 8192.\n",
      "Time samples: 1440\n",
      "Validation batch size = 8192.\n",
      "Time samples: 1440\n",
      "Validation batch size = 8192.\n",
      "Time samples: 1440\n",
      "Validation batch size = 8192.\n",
      "Time samples: 1440\n",
      "Validation batch size = 8192.\n",
      "Time samples: 1440\n",
      "Validation batch size = 8192.\n",
      "Time samples: 1440\n",
      "Validation batch size = 8192.\n",
      "Time samples: 1440\n",
      "Validation batch size = 8192.\n",
      "Time samples: 1440\n",
      "Validation batch size = 8192.\n",
      "Time samples: 1440\n",
      "Validation batch size = 8192.\n",
      "Time samples: 1440\n",
      "Validation batch size = 8192.\n",
      "Time samples: 1440\n",
      "Validation batch size = 8192.\n",
      "Time samples: 1440\n",
      "Validation batch size = 8192.\n",
      "Time samples: 1440\n",
      "Validation batch size = 8192.\n",
      "Time samples: 1440\n"
     ]
    }
   ],
   "source": [
    "i_time = \"mean\"\n",
    "n_time = 1440\n",
    "i_lon = \"mean\"\n",
    "diff = False\n",
    "stats = \"r2\"\n",
    "\n",
    "run_plot_yz()\n"
   ]
  },
  {
   "cell_type": "markdown",
   "id": "882867ca-414f-401b-8163-63e18b497005",
   "metadata": {},
   "source": [
    "#### Mean with diff, ilon mean, stats r2"
   ]
  },
  {
   "cell_type": "code",
   "execution_count": null,
   "id": "cac35efa-2a17-471f-849a-a64bef89e852",
   "metadata": {},
   "outputs": [],
   "source": [
    "i_time = \"mean\"\n",
    "n_time = 1440\n",
    "i_lon = \"mean\"\n",
    "diff = True\n",
    "stats = \"r2\"\n",
    "\n",
    "run_plot_yz()\n"
   ]
  },
  {
   "cell_type": "markdown",
   "id": "cc63b55b-1000-463c-a41d-27862b3f7aec",
   "metadata": {},
   "source": [
    "#### Mean no diff, ilon mean, stats mse"
   ]
  },
  {
   "cell_type": "code",
   "execution_count": null,
   "id": "8d4d0722-2fc3-44bc-a8b4-377de83e9333",
   "metadata": {},
   "outputs": [],
   "source": [
    "i_time = \"mean\"\n",
    "n_time = 1440\n",
    "i_lon = \"mean\"\n",
    "diff = False\n",
    "stats = \"mse\"\n",
    "\n",
    "run_plot_yz()"
   ]
  },
  {
   "cell_type": "markdown",
   "id": "9d65982c-068e-4dd6-b0c1-79f5c96bac5c",
   "metadata": {},
   "source": [
    "#### Mean with diff, ilon mean, stats mse"
   ]
  },
  {
   "cell_type": "code",
   "execution_count": null,
   "id": "c8e34142-94e8-449f-aa1c-181d5213d2d1",
   "metadata": {},
   "outputs": [],
   "source": [
    "i_time = \"mean\"\n",
    "n_time = 1440\n",
    "i_lon = \"mean\"\n",
    "diff = True\n",
    "stats = \"mse\"\n",
    "\n",
    "run_plot_yz()"
   ]
  },
  {
   "cell_type": "code",
   "execution_count": null,
   "id": "4c9e5ea6-5393-4a6d-b2fc-5706265b0f19",
   "metadata": {},
   "outputs": [],
   "source": []
  }
 ],
 "metadata": {
  "kernelspec": {
   "display_name": "Tensorflow Kernel",
   "language": "python",
   "name": "tensorflow-kernel"
  },
  "language_info": {
   "codemirror_mode": {
    "name": "ipython",
    "version": 3
   },
   "file_extension": ".py",
   "mimetype": "text/x-python",
   "name": "python",
   "nbconvert_exporter": "python",
   "pygments_lexer": "ipython3",
   "version": "3.9.16"
  }
 },
 "nbformat": 4,
 "nbformat_minor": 5
}
