{
 "cells": [
  {
   "cell_type": "markdown",
   "id": "162ce154-8325-4a30-a9e5-857aafdb9148",
   "metadata": {},
   "source": [
    "# PreMaskNet Bespoke Threshold Computation"
   ]
  },
  {
   "cell_type": "code",
   "execution_count": 1,
   "id": "b4f35f7d-ac1b-4664-a5bb-ad6069e95967",
   "metadata": {
    "tags": []
   },
   "outputs": [],
   "source": [
    "%load_ext autoreload\n",
    "%autoreload 2"
   ]
  },
  {
   "cell_type": "code",
   "execution_count": 2,
   "id": "06521836-fe62-4808-a6a8-f2db42160b3d",
   "metadata": {
    "tags": []
   },
   "outputs": [],
   "source": [
    "import sys\n",
    "import os\n",
    "\n",
    "# 0 = all messages are logged (default behavior)\n",
    "# 1 = INFO messages are not printed\n",
    "# 2 = INFO and WARNING messages are not printed\n",
    "# 3 = INFO, WARNING, and ERROR messages are not printe\n",
    "os.environ['TF_CPP_MIN_LOG_LEVEL'] = '1' "
   ]
  },
  {
   "cell_type": "code",
   "execution_count": 3,
   "id": "74d82b2e-18d4-455e-bf75-cc56ad5747fe",
   "metadata": {
    "tags": []
   },
   "outputs": [],
   "source": [
    "module_path = os.path.abspath(os.path.join('..'))\n",
    "# Relative imports\n",
    "if module_path not in sys.path:\n",
    "    sys.path.append(module_path)"
   ]
  },
  {
   "cell_type": "code",
   "execution_count": 4,
   "id": "af13d70b-6a6d-431a-9ce3-313d66c2008c",
   "metadata": {
    "tags": []
   },
   "outputs": [
    {
     "name": "stdout",
     "output_type": "stream",
     "text": [
      "Num GPUs Available:  0\n"
     ]
    },
    {
     "name": "stderr",
     "output_type": "stream",
     "text": [
      "2024-03-16 13:39:46.669231: E tensorflow/compiler/xla/stream_executor/cuda/cuda_driver.cc:266] failed call to cuInit: CUDA_ERROR_NO_DEVICE: no CUDA-capable device is detected\n"
     ]
    }
   ],
   "source": [
    "import tensorflow as tf\n",
    "\n",
    "print(\"Num GPUs Available: \", len(tf.config.list_physical_devices('GPU')))"
   ]
  },
  {
   "cell_type": "code",
   "execution_count": 5,
   "id": "45e0f9cf-f576-4039-b07f-23433cad81f2",
   "metadata": {
    "tags": []
   },
   "outputs": [
    {
     "name": "stderr",
     "output_type": "stream",
     "text": [
      "IProgress not found. Please update jupyter and ipywidgets. See https://ipywidgets.readthedocs.io/en/stable/user_install.html\n"
     ]
    }
   ],
   "source": [
    "from utils.setup import SetupDiagnostics\n",
    "from neural_networks.load_models import load_models, get_save_plot_folder, load_single_model, get_path\n",
    "from utils.pcmci_aggregation import get_matrix_idx, get_matrix_insets_idx, get_matrix_2d_idx\n",
    "from neural_networks.model_diagnostics import ModelDiagnostics\n",
    "from pathlib import Path\n",
    "from utils.variable import Variable_Lev_Metadata\n",
    "import pickle\n",
    "import itertools\n",
    "import time\n",
    "import datetime\n",
    "import glob\n",
    "import numpy as np\n",
    "import gc"
   ]
  },
  {
   "cell_type": "markdown",
   "id": "16e5082b-bbf1-4e72-bd38-dafc8c9c1218",
   "metadata": {},
   "source": [
    "## Load trained models"
   ]
  },
  {
   "cell_type": "code",
   "execution_count": 142,
   "id": "73b8fc7c-c7b4-4f7f-856a-3d929725aa60",
   "metadata": {
    "tags": []
   },
   "outputs": [],
   "source": [
    "PROJECT_ROOT = Path.cwd().parent.resolve()\n",
    "\n",
    "base_dir =  os.path.join(PROJECT_ROOT, \"output_castle\", \"training_74_pre_mask_net_spars0.001\") \n",
    "cfg = os.path.join(base_dir, \"cfg_pre_mask_net.yml\")\n"
   ]
  },
  {
   "cell_type": "code",
   "execution_count": 130,
   "id": "45d69616-63be-4a2d-8ba2-de5ec3527ee3",
   "metadata": {
    "tags": []
   },
   "outputs": [],
   "source": [
    "def get_setup(setup_file):\n",
    "    setup = SetupDiagnostics([\"-c\", setup_file])\n",
    "    return setup"
   ]
  },
  {
   "cell_type": "code",
   "execution_count": 76,
   "id": "89f2a72d-80d6-4233-b502-37d1135aee8b",
   "metadata": {},
   "outputs": [],
   "source": [
    "def get_models(setup_file):\n",
    "    setup = get_setup(setup_file)\n",
    "    model_key = setup.nn_type\n",
    "    \n",
    "    models = load_models(setup)\n",
    "    return models[model_key]"
   ]
  },
  {
   "cell_type": "markdown",
   "id": "154caa55-84a0-4fd8-af0c-a18725c86ab2",
   "metadata": {
    "jp-MarkdownHeadingCollapsed": true
   },
   "source": [
    "## Load models to get masking vectors"
   ]
  },
  {
   "cell_type": "code",
   "execution_count": 10,
   "id": "863df97f-4f4f-47aa-b02c-9a0ef264cc8e",
   "metadata": {
    "scrolled": true,
    "tags": []
   },
   "outputs": [
    {
     "name": "stdout",
     "output_type": "stream",
     "text": [
      "\n",
      "Set leaky relu alpha to 0.3\n",
      "\n",
      "\n",
      "Load model: /p/project/icon-a-ml/kuehbacher1/projects/iglesias-suarez2yxx_spuriouslinks/output_castle/training_77_pre_mask_net_spars1.0/models/PreMaskNet/lspar1.0/hl_256_256_256_256_256_256_256_256_256-act_LeakyReLU_0.3-e_9/1_0_model.keras\n",
      "\n",
      "\n",
      "Lambda sparsity = 1.0\n",
      "\n",
      "\n",
      "Load model: /p/project/icon-a-ml/kuehbacher1/projects/iglesias-suarez2yxx_spuriouslinks/output_castle/training_77_pre_mask_net_spars1.0/models/PreMaskNet/lspar1.0/hl_256_256_256_256_256_256_256_256_256-act_LeakyReLU_0.3-e_9/1_1_model.keras\n",
      "\n",
      "\n",
      "Lambda sparsity = 1.0\n",
      "\n",
      "\n",
      "Load model: /p/project/icon-a-ml/kuehbacher1/projects/iglesias-suarez2yxx_spuriouslinks/output_castle/training_77_pre_mask_net_spars1.0/models/PreMaskNet/lspar1.0/hl_256_256_256_256_256_256_256_256_256-act_LeakyReLU_0.3-e_9/1_2_model.keras\n",
      "\n",
      "\n",
      "Lambda sparsity = 1.0\n",
      "\n",
      "\n",
      "Load model: /p/project/icon-a-ml/kuehbacher1/projects/iglesias-suarez2yxx_spuriouslinks/output_castle/training_77_pre_mask_net_spars1.0/models/PreMaskNet/lspar1.0/hl_256_256_256_256_256_256_256_256_256-act_LeakyReLU_0.3-e_9/1_3_model.keras\n",
      "\n",
      "\n",
      "Lambda sparsity = 1.0\n",
      "\n",
      "\n",
      "Load model: /p/project/icon-a-ml/kuehbacher1/projects/iglesias-suarez2yxx_spuriouslinks/output_castle/training_77_pre_mask_net_spars1.0/models/PreMaskNet/lspar1.0/hl_256_256_256_256_256_256_256_256_256-act_LeakyReLU_0.3-e_9/1_4_model.keras\n",
      "\n",
      "\n",
      "Lambda sparsity = 1.0\n",
      "\n",
      "\n",
      "Load model: /p/project/icon-a-ml/kuehbacher1/projects/iglesias-suarez2yxx_spuriouslinks/output_castle/training_77_pre_mask_net_spars1.0/models/PreMaskNet/lspar1.0/hl_256_256_256_256_256_256_256_256_256-act_LeakyReLU_0.3-e_9/1_5_model.keras\n",
      "\n",
      "\n",
      "Lambda sparsity = 1.0\n",
      "\n",
      "\n",
      "Load model: /p/project/icon-a-ml/kuehbacher1/projects/iglesias-suarez2yxx_spuriouslinks/output_castle/training_77_pre_mask_net_spars1.0/models/PreMaskNet/lspar1.0/hl_256_256_256_256_256_256_256_256_256-act_LeakyReLU_0.3-e_9/1_6_model.keras\n",
      "\n",
      "\n",
      "Lambda sparsity = 1.0\n",
      "\n",
      "\n",
      "Load model: /p/project/icon-a-ml/kuehbacher1/projects/iglesias-suarez2yxx_spuriouslinks/output_castle/training_77_pre_mask_net_spars1.0/models/PreMaskNet/lspar1.0/hl_256_256_256_256_256_256_256_256_256-act_LeakyReLU_0.3-e_9/1_7_model.keras\n",
      "\n",
      "\n",
      "Lambda sparsity = 1.0\n",
      "\n",
      "\n",
      "Load model: /p/project/icon-a-ml/kuehbacher1/projects/iglesias-suarez2yxx_spuriouslinks/output_castle/training_77_pre_mask_net_spars1.0/models/PreMaskNet/lspar1.0/hl_256_256_256_256_256_256_256_256_256-act_LeakyReLU_0.3-e_9/1_8_model.keras\n",
      "\n",
      "\n",
      "Lambda sparsity = 1.0\n",
      "\n",
      "\n",
      "Load model: /p/project/icon-a-ml/kuehbacher1/projects/iglesias-suarez2yxx_spuriouslinks/output_castle/training_77_pre_mask_net_spars1.0/models/PreMaskNet/lspar1.0/hl_256_256_256_256_256_256_256_256_256-act_LeakyReLU_0.3-e_9/1_9_model.keras\n",
      "\n",
      "\n",
      "Lambda sparsity = 1.0\n",
      "\n",
      "\n",
      "Load model: /p/project/icon-a-ml/kuehbacher1/projects/iglesias-suarez2yxx_spuriouslinks/output_castle/training_77_pre_mask_net_spars1.0/models/PreMaskNet/lspar1.0/hl_256_256_256_256_256_256_256_256_256-act_LeakyReLU_0.3-e_9/1_10_model.keras\n",
      "\n",
      "\n",
      "Lambda sparsity = 1.0\n",
      "\n",
      "\n",
      "Load model: /p/project/icon-a-ml/kuehbacher1/projects/iglesias-suarez2yxx_spuriouslinks/output_castle/training_77_pre_mask_net_spars1.0/models/PreMaskNet/lspar1.0/hl_256_256_256_256_256_256_256_256_256-act_LeakyReLU_0.3-e_9/1_11_model.keras\n",
      "\n",
      "\n",
      "Lambda sparsity = 1.0\n",
      "\n",
      "\n",
      "Load model: /p/project/icon-a-ml/kuehbacher1/projects/iglesias-suarez2yxx_spuriouslinks/output_castle/training_77_pre_mask_net_spars1.0/models/PreMaskNet/lspar1.0/hl_256_256_256_256_256_256_256_256_256-act_LeakyReLU_0.3-e_9/1_12_model.keras\n",
      "\n",
      "\n",
      "Lambda sparsity = 1.0\n",
      "\n",
      "\n",
      "Load model: /p/project/icon-a-ml/kuehbacher1/projects/iglesias-suarez2yxx_spuriouslinks/output_castle/training_77_pre_mask_net_spars1.0/models/PreMaskNet/lspar1.0/hl_256_256_256_256_256_256_256_256_256-act_LeakyReLU_0.3-e_9/1_13_model.keras\n",
      "\n",
      "\n",
      "Lambda sparsity = 1.0\n",
      "\n",
      "\n",
      "Load model: /p/project/icon-a-ml/kuehbacher1/projects/iglesias-suarez2yxx_spuriouslinks/output_castle/training_77_pre_mask_net_spars1.0/models/PreMaskNet/lspar1.0/hl_256_256_256_256_256_256_256_256_256-act_LeakyReLU_0.3-e_9/1_14_model.keras\n",
      "\n",
      "\n",
      "Lambda sparsity = 1.0\n",
      "\n",
      "\n",
      "Load model: /p/project/icon-a-ml/kuehbacher1/projects/iglesias-suarez2yxx_spuriouslinks/output_castle/training_77_pre_mask_net_spars1.0/models/PreMaskNet/lspar1.0/hl_256_256_256_256_256_256_256_256_256-act_LeakyReLU_0.3-e_9/1_15_model.keras\n",
      "\n",
      "\n",
      "Lambda sparsity = 1.0\n",
      "\n",
      "\n",
      "Load model: /p/project/icon-a-ml/kuehbacher1/projects/iglesias-suarez2yxx_spuriouslinks/output_castle/training_77_pre_mask_net_spars1.0/models/PreMaskNet/lspar1.0/hl_256_256_256_256_256_256_256_256_256-act_LeakyReLU_0.3-e_9/1_16_model.keras\n",
      "\n",
      "\n",
      "Lambda sparsity = 1.0\n",
      "\n",
      "\n",
      "Load model: /p/project/icon-a-ml/kuehbacher1/projects/iglesias-suarez2yxx_spuriouslinks/output_castle/training_77_pre_mask_net_spars1.0/models/PreMaskNet/lspar1.0/hl_256_256_256_256_256_256_256_256_256-act_LeakyReLU_0.3-e_9/1_17_model.keras\n",
      "\n",
      "\n",
      "Lambda sparsity = 1.0\n",
      "\n",
      "\n",
      "Load model: /p/project/icon-a-ml/kuehbacher1/projects/iglesias-suarez2yxx_spuriouslinks/output_castle/training_77_pre_mask_net_spars1.0/models/PreMaskNet/lspar1.0/hl_256_256_256_256_256_256_256_256_256-act_LeakyReLU_0.3-e_9/1_18_model.keras\n",
      "\n",
      "\n",
      "Lambda sparsity = 1.0\n",
      "\n",
      "\n",
      "Load model: /p/project/icon-a-ml/kuehbacher1/projects/iglesias-suarez2yxx_spuriouslinks/output_castle/training_77_pre_mask_net_spars1.0/models/PreMaskNet/lspar1.0/hl_256_256_256_256_256_256_256_256_256-act_LeakyReLU_0.3-e_9/1_19_model.keras\n",
      "\n",
      "\n",
      "Lambda sparsity = 1.0\n",
      "\n",
      "\n",
      "Load model: /p/project/icon-a-ml/kuehbacher1/projects/iglesias-suarez2yxx_spuriouslinks/output_castle/training_77_pre_mask_net_spars1.0/models/PreMaskNet/lspar1.0/hl_256_256_256_256_256_256_256_256_256-act_LeakyReLU_0.3-e_9/1_20_model.keras\n",
      "\n",
      "\n",
      "Lambda sparsity = 1.0\n",
      "\n",
      "\n",
      "Load model: /p/project/icon-a-ml/kuehbacher1/projects/iglesias-suarez2yxx_spuriouslinks/output_castle/training_77_pre_mask_net_spars1.0/models/PreMaskNet/lspar1.0/hl_256_256_256_256_256_256_256_256_256-act_LeakyReLU_0.3-e_9/1_21_model.keras\n",
      "\n",
      "\n",
      "Lambda sparsity = 1.0\n",
      "\n",
      "\n",
      "Load model: /p/project/icon-a-ml/kuehbacher1/projects/iglesias-suarez2yxx_spuriouslinks/output_castle/training_77_pre_mask_net_spars1.0/models/PreMaskNet/lspar1.0/hl_256_256_256_256_256_256_256_256_256-act_LeakyReLU_0.3-e_9/1_22_model.keras\n",
      "\n",
      "\n",
      "Lambda sparsity = 1.0\n",
      "\n",
      "\n",
      "Load model: /p/project/icon-a-ml/kuehbacher1/projects/iglesias-suarez2yxx_spuriouslinks/output_castle/training_77_pre_mask_net_spars1.0/models/PreMaskNet/lspar1.0/hl_256_256_256_256_256_256_256_256_256-act_LeakyReLU_0.3-e_9/1_23_model.keras\n",
      "\n",
      "\n",
      "Lambda sparsity = 1.0\n",
      "\n",
      "\n",
      "Load model: /p/project/icon-a-ml/kuehbacher1/projects/iglesias-suarez2yxx_spuriouslinks/output_castle/training_77_pre_mask_net_spars1.0/models/PreMaskNet/lspar1.0/hl_256_256_256_256_256_256_256_256_256-act_LeakyReLU_0.3-e_9/1_24_model.keras\n",
      "\n",
      "\n",
      "Lambda sparsity = 1.0\n",
      "\n",
      "\n",
      "Load model: /p/project/icon-a-ml/kuehbacher1/projects/iglesias-suarez2yxx_spuriouslinks/output_castle/training_77_pre_mask_net_spars1.0/models/PreMaskNet/lspar1.0/hl_256_256_256_256_256_256_256_256_256-act_LeakyReLU_0.3-e_9/1_25_model.keras\n",
      "\n",
      "\n",
      "Lambda sparsity = 1.0\n",
      "\n",
      "\n",
      "Load model: /p/project/icon-a-ml/kuehbacher1/projects/iglesias-suarez2yxx_spuriouslinks/output_castle/training_77_pre_mask_net_spars1.0/models/PreMaskNet/lspar1.0/hl_256_256_256_256_256_256_256_256_256-act_LeakyReLU_0.3-e_9/1_26_model.keras\n",
      "\n",
      "\n",
      "Lambda sparsity = 1.0\n",
      "\n",
      "\n",
      "Load model: /p/project/icon-a-ml/kuehbacher1/projects/iglesias-suarez2yxx_spuriouslinks/output_castle/training_77_pre_mask_net_spars1.0/models/PreMaskNet/lspar1.0/hl_256_256_256_256_256_256_256_256_256-act_LeakyReLU_0.3-e_9/1_27_model.keras\n",
      "\n",
      "\n",
      "Lambda sparsity = 1.0\n",
      "\n",
      "\n",
      "Load model: /p/project/icon-a-ml/kuehbacher1/projects/iglesias-suarez2yxx_spuriouslinks/output_castle/training_77_pre_mask_net_spars1.0/models/PreMaskNet/lspar1.0/hl_256_256_256_256_256_256_256_256_256-act_LeakyReLU_0.3-e_9/1_28_model.keras\n",
      "\n",
      "\n",
      "Lambda sparsity = 1.0\n",
      "\n",
      "\n",
      "Load model: /p/project/icon-a-ml/kuehbacher1/projects/iglesias-suarez2yxx_spuriouslinks/output_castle/training_77_pre_mask_net_spars1.0/models/PreMaskNet/lspar1.0/hl_256_256_256_256_256_256_256_256_256-act_LeakyReLU_0.3-e_9/1_29_model.keras\n",
      "\n",
      "\n",
      "Lambda sparsity = 1.0\n",
      "\n",
      "\n",
      "Load model: /p/project/icon-a-ml/kuehbacher1/projects/iglesias-suarez2yxx_spuriouslinks/output_castle/training_77_pre_mask_net_spars1.0/models/PreMaskNet/lspar1.0/hl_256_256_256_256_256_256_256_256_256-act_LeakyReLU_0.3-e_9/0_0_model.keras\n",
      "\n",
      "\n",
      "Lambda sparsity = 1.0\n",
      "\n",
      "\n",
      "Load model: /p/project/icon-a-ml/kuehbacher1/projects/iglesias-suarez2yxx_spuriouslinks/output_castle/training_77_pre_mask_net_spars1.0/models/PreMaskNet/lspar1.0/hl_256_256_256_256_256_256_256_256_256-act_LeakyReLU_0.3-e_9/0_1_model.keras\n",
      "\n",
      "\n",
      "Lambda sparsity = 1.0\n",
      "\n",
      "\n",
      "Load model: /p/project/icon-a-ml/kuehbacher1/projects/iglesias-suarez2yxx_spuriouslinks/output_castle/training_77_pre_mask_net_spars1.0/models/PreMaskNet/lspar1.0/hl_256_256_256_256_256_256_256_256_256-act_LeakyReLU_0.3-e_9/0_2_model.keras\n",
      "\n",
      "\n",
      "Lambda sparsity = 1.0\n",
      "\n",
      "\n",
      "Load model: /p/project/icon-a-ml/kuehbacher1/projects/iglesias-suarez2yxx_spuriouslinks/output_castle/training_77_pre_mask_net_spars1.0/models/PreMaskNet/lspar1.0/hl_256_256_256_256_256_256_256_256_256-act_LeakyReLU_0.3-e_9/0_3_model.keras\n",
      "\n",
      "\n",
      "Lambda sparsity = 1.0\n",
      "\n",
      "\n",
      "Load model: /p/project/icon-a-ml/kuehbacher1/projects/iglesias-suarez2yxx_spuriouslinks/output_castle/training_77_pre_mask_net_spars1.0/models/PreMaskNet/lspar1.0/hl_256_256_256_256_256_256_256_256_256-act_LeakyReLU_0.3-e_9/0_4_model.keras\n",
      "\n",
      "\n",
      "Lambda sparsity = 1.0\n",
      "\n",
      "\n",
      "Load model: /p/project/icon-a-ml/kuehbacher1/projects/iglesias-suarez2yxx_spuriouslinks/output_castle/training_77_pre_mask_net_spars1.0/models/PreMaskNet/lspar1.0/hl_256_256_256_256_256_256_256_256_256-act_LeakyReLU_0.3-e_9/0_5_model.keras\n",
      "\n",
      "\n",
      "Lambda sparsity = 1.0\n",
      "\n",
      "\n",
      "Load model: /p/project/icon-a-ml/kuehbacher1/projects/iglesias-suarez2yxx_spuriouslinks/output_castle/training_77_pre_mask_net_spars1.0/models/PreMaskNet/lspar1.0/hl_256_256_256_256_256_256_256_256_256-act_LeakyReLU_0.3-e_9/0_6_model.keras\n",
      "\n",
      "\n",
      "Lambda sparsity = 1.0\n",
      "\n",
      "\n",
      "Load model: /p/project/icon-a-ml/kuehbacher1/projects/iglesias-suarez2yxx_spuriouslinks/output_castle/training_77_pre_mask_net_spars1.0/models/PreMaskNet/lspar1.0/hl_256_256_256_256_256_256_256_256_256-act_LeakyReLU_0.3-e_9/0_7_model.keras\n",
      "\n",
      "\n",
      "Lambda sparsity = 1.0\n",
      "\n",
      "\n",
      "Load model: /p/project/icon-a-ml/kuehbacher1/projects/iglesias-suarez2yxx_spuriouslinks/output_castle/training_77_pre_mask_net_spars1.0/models/PreMaskNet/lspar1.0/hl_256_256_256_256_256_256_256_256_256-act_LeakyReLU_0.3-e_9/0_8_model.keras\n",
      "\n",
      "\n",
      "Lambda sparsity = 1.0\n",
      "\n",
      "\n",
      "Load model: /p/project/icon-a-ml/kuehbacher1/projects/iglesias-suarez2yxx_spuriouslinks/output_castle/training_77_pre_mask_net_spars1.0/models/PreMaskNet/lspar1.0/hl_256_256_256_256_256_256_256_256_256-act_LeakyReLU_0.3-e_9/0_9_model.keras\n",
      "\n",
      "\n",
      "Lambda sparsity = 1.0\n",
      "\n",
      "\n",
      "Load model: /p/project/icon-a-ml/kuehbacher1/projects/iglesias-suarez2yxx_spuriouslinks/output_castle/training_77_pre_mask_net_spars1.0/models/PreMaskNet/lspar1.0/hl_256_256_256_256_256_256_256_256_256-act_LeakyReLU_0.3-e_9/0_10_model.keras\n",
      "\n",
      "\n",
      "Lambda sparsity = 1.0\n",
      "\n",
      "\n",
      "Load model: /p/project/icon-a-ml/kuehbacher1/projects/iglesias-suarez2yxx_spuriouslinks/output_castle/training_77_pre_mask_net_spars1.0/models/PreMaskNet/lspar1.0/hl_256_256_256_256_256_256_256_256_256-act_LeakyReLU_0.3-e_9/0_11_model.keras\n",
      "\n",
      "\n",
      "Lambda sparsity = 1.0\n",
      "\n",
      "\n",
      "Load model: /p/project/icon-a-ml/kuehbacher1/projects/iglesias-suarez2yxx_spuriouslinks/output_castle/training_77_pre_mask_net_spars1.0/models/PreMaskNet/lspar1.0/hl_256_256_256_256_256_256_256_256_256-act_LeakyReLU_0.3-e_9/0_12_model.keras\n",
      "\n",
      "\n",
      "Lambda sparsity = 1.0\n",
      "\n",
      "\n",
      "Load model: /p/project/icon-a-ml/kuehbacher1/projects/iglesias-suarez2yxx_spuriouslinks/output_castle/training_77_pre_mask_net_spars1.0/models/PreMaskNet/lspar1.0/hl_256_256_256_256_256_256_256_256_256-act_LeakyReLU_0.3-e_9/0_13_model.keras\n",
      "\n",
      "\n",
      "Lambda sparsity = 1.0\n",
      "\n",
      "\n",
      "Load model: /p/project/icon-a-ml/kuehbacher1/projects/iglesias-suarez2yxx_spuriouslinks/output_castle/training_77_pre_mask_net_spars1.0/models/PreMaskNet/lspar1.0/hl_256_256_256_256_256_256_256_256_256-act_LeakyReLU_0.3-e_9/0_14_model.keras\n",
      "\n",
      "\n",
      "Lambda sparsity = 1.0\n",
      "\n",
      "\n",
      "Load model: /p/project/icon-a-ml/kuehbacher1/projects/iglesias-suarez2yxx_spuriouslinks/output_castle/training_77_pre_mask_net_spars1.0/models/PreMaskNet/lspar1.0/hl_256_256_256_256_256_256_256_256_256-act_LeakyReLU_0.3-e_9/0_15_model.keras\n",
      "\n",
      "\n",
      "Lambda sparsity = 1.0\n",
      "\n",
      "\n",
      "Load model: /p/project/icon-a-ml/kuehbacher1/projects/iglesias-suarez2yxx_spuriouslinks/output_castle/training_77_pre_mask_net_spars1.0/models/PreMaskNet/lspar1.0/hl_256_256_256_256_256_256_256_256_256-act_LeakyReLU_0.3-e_9/0_16_model.keras\n",
      "\n",
      "\n",
      "Lambda sparsity = 1.0\n",
      "\n",
      "\n",
      "Load model: /p/project/icon-a-ml/kuehbacher1/projects/iglesias-suarez2yxx_spuriouslinks/output_castle/training_77_pre_mask_net_spars1.0/models/PreMaskNet/lspar1.0/hl_256_256_256_256_256_256_256_256_256-act_LeakyReLU_0.3-e_9/0_17_model.keras\n",
      "\n",
      "\n",
      "Lambda sparsity = 1.0\n",
      "\n",
      "\n",
      "Load model: /p/project/icon-a-ml/kuehbacher1/projects/iglesias-suarez2yxx_spuriouslinks/output_castle/training_77_pre_mask_net_spars1.0/models/PreMaskNet/lspar1.0/hl_256_256_256_256_256_256_256_256_256-act_LeakyReLU_0.3-e_9/0_18_model.keras\n",
      "\n",
      "\n",
      "Lambda sparsity = 1.0\n",
      "\n",
      "\n",
      "Load model: /p/project/icon-a-ml/kuehbacher1/projects/iglesias-suarez2yxx_spuriouslinks/output_castle/training_77_pre_mask_net_spars1.0/models/PreMaskNet/lspar1.0/hl_256_256_256_256_256_256_256_256_256-act_LeakyReLU_0.3-e_9/0_19_model.keras\n",
      "\n",
      "\n",
      "Lambda sparsity = 1.0\n",
      "\n",
      "\n",
      "Load model: /p/project/icon-a-ml/kuehbacher1/projects/iglesias-suarez2yxx_spuriouslinks/output_castle/training_77_pre_mask_net_spars1.0/models/PreMaskNet/lspar1.0/hl_256_256_256_256_256_256_256_256_256-act_LeakyReLU_0.3-e_9/0_20_model.keras\n",
      "\n",
      "\n",
      "Lambda sparsity = 1.0\n",
      "\n",
      "\n",
      "Load model: /p/project/icon-a-ml/kuehbacher1/projects/iglesias-suarez2yxx_spuriouslinks/output_castle/training_77_pre_mask_net_spars1.0/models/PreMaskNet/lspar1.0/hl_256_256_256_256_256_256_256_256_256-act_LeakyReLU_0.3-e_9/0_21_model.keras\n",
      "\n",
      "\n",
      "Lambda sparsity = 1.0\n",
      "\n",
      "\n",
      "Load model: /p/project/icon-a-ml/kuehbacher1/projects/iglesias-suarez2yxx_spuriouslinks/output_castle/training_77_pre_mask_net_spars1.0/models/PreMaskNet/lspar1.0/hl_256_256_256_256_256_256_256_256_256-act_LeakyReLU_0.3-e_9/0_22_model.keras\n",
      "\n",
      "\n",
      "Lambda sparsity = 1.0\n",
      "\n",
      "\n",
      "Load model: /p/project/icon-a-ml/kuehbacher1/projects/iglesias-suarez2yxx_spuriouslinks/output_castle/training_77_pre_mask_net_spars1.0/models/PreMaskNet/lspar1.0/hl_256_256_256_256_256_256_256_256_256-act_LeakyReLU_0.3-e_9/0_23_model.keras\n",
      "\n",
      "\n",
      "Lambda sparsity = 1.0\n",
      "\n",
      "\n",
      "Load model: /p/project/icon-a-ml/kuehbacher1/projects/iglesias-suarez2yxx_spuriouslinks/output_castle/training_77_pre_mask_net_spars1.0/models/PreMaskNet/lspar1.0/hl_256_256_256_256_256_256_256_256_256-act_LeakyReLU_0.3-e_9/0_24_model.keras\n",
      "\n",
      "\n",
      "Lambda sparsity = 1.0\n",
      "\n",
      "\n",
      "Load model: /p/project/icon-a-ml/kuehbacher1/projects/iglesias-suarez2yxx_spuriouslinks/output_castle/training_77_pre_mask_net_spars1.0/models/PreMaskNet/lspar1.0/hl_256_256_256_256_256_256_256_256_256-act_LeakyReLU_0.3-e_9/0_25_model.keras\n",
      "\n",
      "\n",
      "Lambda sparsity = 1.0\n",
      "\n",
      "\n",
      "Load model: /p/project/icon-a-ml/kuehbacher1/projects/iglesias-suarez2yxx_spuriouslinks/output_castle/training_77_pre_mask_net_spars1.0/models/PreMaskNet/lspar1.0/hl_256_256_256_256_256_256_256_256_256-act_LeakyReLU_0.3-e_9/0_26_model.keras\n",
      "\n",
      "\n",
      "Lambda sparsity = 1.0\n",
      "\n",
      "\n",
      "Load model: /p/project/icon-a-ml/kuehbacher1/projects/iglesias-suarez2yxx_spuriouslinks/output_castle/training_77_pre_mask_net_spars1.0/models/PreMaskNet/lspar1.0/hl_256_256_256_256_256_256_256_256_256-act_LeakyReLU_0.3-e_9/0_27_model.keras\n",
      "\n",
      "\n",
      "Lambda sparsity = 1.0\n",
      "\n",
      "\n",
      "Load model: /p/project/icon-a-ml/kuehbacher1/projects/iglesias-suarez2yxx_spuriouslinks/output_castle/training_77_pre_mask_net_spars1.0/models/PreMaskNet/lspar1.0/hl_256_256_256_256_256_256_256_256_256-act_LeakyReLU_0.3-e_9/0_28_model.keras\n",
      "\n",
      "\n",
      "Lambda sparsity = 1.0\n",
      "\n",
      "\n",
      "Load model: /p/project/icon-a-ml/kuehbacher1/projects/iglesias-suarez2yxx_spuriouslinks/output_castle/training_77_pre_mask_net_spars1.0/models/PreMaskNet/lspar1.0/hl_256_256_256_256_256_256_256_256_256-act_LeakyReLU_0.3-e_9/0_29_model.keras\n",
      "\n",
      "\n",
      "Lambda sparsity = 1.0\n",
      "\n",
      "\n",
      "Load model: /p/project/icon-a-ml/kuehbacher1/projects/iglesias-suarez2yxx_spuriouslinks/output_castle/training_77_pre_mask_net_spars1.0/models/PreMaskNet/lspar1.0/hl_256_256_256_256_256_256_256_256_256-act_LeakyReLU_0.3-e_9/2_0_model.keras\n",
      "\n",
      "\n",
      "Lambda sparsity = 1.0\n",
      "\n",
      "\n",
      "Load model: /p/project/icon-a-ml/kuehbacher1/projects/iglesias-suarez2yxx_spuriouslinks/output_castle/training_77_pre_mask_net_spars1.0/models/PreMaskNet/lspar1.0/hl_256_256_256_256_256_256_256_256_256-act_LeakyReLU_0.3-e_9/3_0_model.keras\n",
      "\n",
      "\n",
      "Lambda sparsity = 1.0\n",
      "\n",
      "\n",
      "Load model: /p/project/icon-a-ml/kuehbacher1/projects/iglesias-suarez2yxx_spuriouslinks/output_castle/training_77_pre_mask_net_spars1.0/models/PreMaskNet/lspar1.0/hl_256_256_256_256_256_256_256_256_256-act_LeakyReLU_0.3-e_9/4_0_model.keras\n",
      "\n",
      "\n",
      "Lambda sparsity = 1.0\n",
      "\n",
      "\n",
      "Load model: /p/project/icon-a-ml/kuehbacher1/projects/iglesias-suarez2yxx_spuriouslinks/output_castle/training_77_pre_mask_net_spars1.0/models/PreMaskNet/lspar1.0/hl_256_256_256_256_256_256_256_256_256-act_LeakyReLU_0.3-e_9/5_0_model.keras\n",
      "\n",
      "\n",
      "Lambda sparsity = 1.0\n",
      "\n",
      "\n",
      "Load model: /p/project/icon-a-ml/kuehbacher1/projects/iglesias-suarez2yxx_spuriouslinks/output_castle/training_77_pre_mask_net_spars1.0/models/PreMaskNet/lspar1.0/hl_256_256_256_256_256_256_256_256_256-act_LeakyReLU_0.3-e_9/6_0_model.keras\n",
      "\n",
      "\n",
      "Lambda sparsity = 1.0\n",
      "\n"
     ]
    }
   ],
   "source": [
    "models = get_models(cfg)"
   ]
  },
  {
   "cell_type": "code",
   "execution_count": 11,
   "id": "6e971f3c-62a7-47be-a91e-0c06bdddc6a9",
   "metadata": {},
   "outputs": [
    {
     "data": {
      "text/plain": [
       "dict_keys(['tphystnd-3.64', 'tphystnd-7.59', 'tphystnd-14.36', 'tphystnd-24.61', 'tphystnd-38.27', 'tphystnd-54.6', 'tphystnd-72.01', 'tphystnd-87.82', 'tphystnd-103.32', 'tphystnd-121.55', 'tphystnd-142.99', 'tphystnd-168.23', 'tphystnd-197.91', 'tphystnd-232.83', 'tphystnd-273.91', 'tphystnd-322.24', 'tphystnd-379.1', 'tphystnd-445.99', 'tphystnd-524.69', 'tphystnd-609.78', 'tphystnd-691.39', 'tphystnd-763.4', 'tphystnd-820.86', 'tphystnd-859.53', 'tphystnd-887.02', 'tphystnd-912.64', 'tphystnd-936.2', 'tphystnd-957.49', 'tphystnd-976.33', 'tphystnd-992.56', 'phq-3.64', 'phq-7.59', 'phq-14.36', 'phq-24.61', 'phq-38.27', 'phq-54.6', 'phq-72.01', 'phq-87.82', 'phq-103.32', 'phq-121.55', 'phq-142.99', 'phq-168.23', 'phq-197.91', 'phq-232.83', 'phq-273.91', 'phq-322.24', 'phq-379.1', 'phq-445.99', 'phq-524.69', 'phq-609.78', 'phq-691.39', 'phq-763.4', 'phq-820.86', 'phq-859.53', 'phq-887.02', 'phq-912.64', 'phq-936.2', 'phq-957.49', 'phq-976.33', 'phq-992.56', 'fsnt', 'fsns', 'flnt', 'flns', 'prect'])"
      ]
     },
     "execution_count": 11,
     "metadata": {},
     "output_type": "execute_result"
    }
   ],
   "source": [
    "models.keys()"
   ]
  },
  {
   "cell_type": "code",
   "execution_count": 13,
   "id": "6ddaa174-ea32-4467-992a-a9fa8134a2c1",
   "metadata": {},
   "outputs": [],
   "source": [
    "masking_vector_per_var = dict()\n",
    "\n",
    "for var, (model, inputs) in models.items():\n",
    "    input_layer_weight = model.input_layer.trainable_variables[0].numpy()\n",
    "    masking_vector = np.linalg.norm(input_layer_weight, ord=2, axis=1)\n",
    "\n",
    "    masking_vector_per_var[var] = masking_vector\n"
   ]
  },
  {
   "cell_type": "markdown",
   "id": "2fac8fd1-3114-41fb-95aa-a36a31e9a6a9",
   "metadata": {},
   "source": [
    "## Load masking vectors directly"
   ]
  },
  {
   "cell_type": "code",
   "execution_count": 99,
   "id": "83121c52-4f9a-46f9-a66b-be16ff0354d2",
   "metadata": {},
   "outputs": [],
   "source": [
    "def generate_output_vars(setup):\n",
    "    output_list = list()\n",
    "    # Use setup.output_order here instead of setup.spcam_outputs to get the right order of variables\n",
    "    for spcam_var in setup.spcam_outputs:\n",
    "        if spcam_var.dimensions == 3:\n",
    "            for level, _ in setup.children_idx_levs:\n",
    "                # There's enough info to build a Variable_Lev_Metadata list\n",
    "                # However, it could be better to do a bigger reorganization\n",
    "                var_name = f\"{spcam_var.name}-{round(level, 2)}\"\n",
    "                # For CausalSingleNN, there are no networks for variables phq-3.64 and phq-7.59\n",
    "                if setup.nn_type == \"CausalSingleNN\" and (var_name == \"phq-3.64\" or var_name == \"phq-7.59\"):\n",
    "                    continue\n",
    "                output_list.append(Variable_Lev_Metadata.parse_var_name(var_name))\n",
    "        elif spcam_var.dimensions == 2:\n",
    "            var_name = spcam_var.name\n",
    "            output_list.append(Variable_Lev_Metadata.parse_var_name(var_name))\n",
    "    return output_list"
   ]
  },
  {
   "cell_type": "code",
   "execution_count": 143,
   "id": "d0f47be9-4329-4444-a9cf-7a2bb8194aa4",
   "metadata": {},
   "outputs": [
    {
     "name": "stdout",
     "output_type": "stream",
     "text": [
      "\n",
      "Set leaky relu alpha to 0.3\n",
      "\n"
     ]
    }
   ],
   "source": [
    "output_vars = [var for var in generate_output_vars(get_setup(cfg))]"
   ]
  },
  {
   "cell_type": "code",
   "execution_count": 144,
   "id": "cc438e25-00a9-41af-af6f-d0ef064dbb15",
   "metadata": {},
   "outputs": [],
   "source": [
    "masking_vector_per_var = dict()\n",
    "mv_dir = os.path.join(base_dir, \"masking_vectors\")\n",
    "\n",
    "for var in output_vars:\n",
    "    mv_filename = f\"masking_vector_{var}.npy\"\n",
    "\n",
    "    masking_vector_per_var[var] = np.load(os.path.join(mv_dir, mv_filename))\n",
    "    "
   ]
  },
  {
   "cell_type": "markdown",
   "id": "59507d2b-5307-481c-bdcb-df93b3624a4d",
   "metadata": {
    "jp-MarkdownHeadingCollapsed": true
   },
   "source": [
    "## Get CausalSingleNN inputs"
   ]
  },
  {
   "cell_type": "code",
   "execution_count": 33,
   "id": "088dbbd9-aa62-40ad-acf0-e6472431c780",
   "metadata": {},
   "outputs": [],
   "source": [
    "def get_causal_inputs():\n",
    "    causal_nn_config = os.path.join(PROJECT_ROOT, \"output_castle/eval_nando/causal_single_nn/models_arch-rasp_thrs-opt-mse6\", \n",
    "                                    \"cfg_causal_single_nn_diagnostics.yml\")\n",
    "    \n",
    "    causal_nn_setup = get_setup(causal_nn_config)\n",
    "    causal_nn_models = load_models(causal_nn_setup, skip_causal_phq=True)\n",
    "\n",
    "    models = causal_nn_models[causal_nn_setup.nn_type][causal_nn_setup.pc_alphas[0]][causal_nn_setup.thresholds[0]]\n",
    "\n",
    "    inputs = {var: inputs for var, (model, inputs) in models.items()}\n",
    "    \n",
    "    return inputs\n"
   ]
  },
  {
   "cell_type": "code",
   "execution_count": 34,
   "id": "433e4672-3227-46ab-9c59-f934a1e16901",
   "metadata": {
    "scrolled": true
   },
   "outputs": [
    {
     "name": "stdout",
     "output_type": "stream",
     "text": [
      "\n",
      "Load model: /p/project/icon-a-ml/kuehbacher1/projects/iglesias-suarez2yxx_spuriouslinks/output_castle/eval_nando/causal_single_nn/models_arch-rasp_thrs-opt-mse6/models/CausalSingleNN/a0.01-toptimized-latwts/hl_256_256_256_256_256_256_256_256_256-act_LeakyReLU-e_18/1_0_model.h5\n",
      "\n",
      "Load model: /p/project/icon-a-ml/kuehbacher1/projects/iglesias-suarez2yxx_spuriouslinks/output_castle/eval_nando/causal_single_nn/models_arch-rasp_thrs-opt-mse6/models/CausalSingleNN/a0.01-toptimized-latwts/hl_256_256_256_256_256_256_256_256_256-act_LeakyReLU-e_18/1_1_model.h5\n",
      "\n",
      "Load model: /p/project/icon-a-ml/kuehbacher1/projects/iglesias-suarez2yxx_spuriouslinks/output_castle/eval_nando/causal_single_nn/models_arch-rasp_thrs-opt-mse6/models/CausalSingleNN/a0.01-toptimized-latwts/hl_256_256_256_256_256_256_256_256_256-act_LeakyReLU-e_18/1_2_model.h5\n",
      "\n",
      "Load model: /p/project/icon-a-ml/kuehbacher1/projects/iglesias-suarez2yxx_spuriouslinks/output_castle/eval_nando/causal_single_nn/models_arch-rasp_thrs-opt-mse6/models/CausalSingleNN/a0.01-toptimized-latwts/hl_256_256_256_256_256_256_256_256_256-act_LeakyReLU-e_18/1_3_model.h5\n",
      "\n",
      "Load model: /p/project/icon-a-ml/kuehbacher1/projects/iglesias-suarez2yxx_spuriouslinks/output_castle/eval_nando/causal_single_nn/models_arch-rasp_thrs-opt-mse6/models/CausalSingleNN/a0.01-toptimized-latwts/hl_256_256_256_256_256_256_256_256_256-act_LeakyReLU-e_18/1_4_model.h5\n",
      "\n",
      "Load model: /p/project/icon-a-ml/kuehbacher1/projects/iglesias-suarez2yxx_spuriouslinks/output_castle/eval_nando/causal_single_nn/models_arch-rasp_thrs-opt-mse6/models/CausalSingleNN/a0.01-toptimized-latwts/hl_256_256_256_256_256_256_256_256_256-act_LeakyReLU-e_18/1_5_model.h5\n",
      "\n",
      "Load model: /p/project/icon-a-ml/kuehbacher1/projects/iglesias-suarez2yxx_spuriouslinks/output_castle/eval_nando/causal_single_nn/models_arch-rasp_thrs-opt-mse6/models/CausalSingleNN/a0.01-toptimized-latwts/hl_256_256_256_256_256_256_256_256_256-act_LeakyReLU-e_18/1_6_model.h5\n",
      "\n",
      "Load model: /p/project/icon-a-ml/kuehbacher1/projects/iglesias-suarez2yxx_spuriouslinks/output_castle/eval_nando/causal_single_nn/models_arch-rasp_thrs-opt-mse6/models/CausalSingleNN/a0.01-toptimized-latwts/hl_256_256_256_256_256_256_256_256_256-act_LeakyReLU-e_18/1_7_model.h5\n",
      "\n",
      "Load model: /p/project/icon-a-ml/kuehbacher1/projects/iglesias-suarez2yxx_spuriouslinks/output_castle/eval_nando/causal_single_nn/models_arch-rasp_thrs-opt-mse6/models/CausalSingleNN/a0.01-toptimized-latwts/hl_256_256_256_256_256_256_256_256_256-act_LeakyReLU-e_18/1_8_model.h5\n",
      "\n",
      "Load model: /p/project/icon-a-ml/kuehbacher1/projects/iglesias-suarez2yxx_spuriouslinks/output_castle/eval_nando/causal_single_nn/models_arch-rasp_thrs-opt-mse6/models/CausalSingleNN/a0.01-toptimized-latwts/hl_256_256_256_256_256_256_256_256_256-act_LeakyReLU-e_18/1_9_model.h5\n",
      "\n",
      "Load model: /p/project/icon-a-ml/kuehbacher1/projects/iglesias-suarez2yxx_spuriouslinks/output_castle/eval_nando/causal_single_nn/models_arch-rasp_thrs-opt-mse6/models/CausalSingleNN/a0.01-toptimized-latwts/hl_256_256_256_256_256_256_256_256_256-act_LeakyReLU-e_18/1_10_model.h5\n",
      "\n",
      "Load model: /p/project/icon-a-ml/kuehbacher1/projects/iglesias-suarez2yxx_spuriouslinks/output_castle/eval_nando/causal_single_nn/models_arch-rasp_thrs-opt-mse6/models/CausalSingleNN/a0.01-toptimized-latwts/hl_256_256_256_256_256_256_256_256_256-act_LeakyReLU-e_18/1_11_model.h5\n",
      "\n",
      "Load model: /p/project/icon-a-ml/kuehbacher1/projects/iglesias-suarez2yxx_spuriouslinks/output_castle/eval_nando/causal_single_nn/models_arch-rasp_thrs-opt-mse6/models/CausalSingleNN/a0.01-toptimized-latwts/hl_256_256_256_256_256_256_256_256_256-act_LeakyReLU-e_18/1_12_model.h5\n",
      "\n",
      "Load model: /p/project/icon-a-ml/kuehbacher1/projects/iglesias-suarez2yxx_spuriouslinks/output_castle/eval_nando/causal_single_nn/models_arch-rasp_thrs-opt-mse6/models/CausalSingleNN/a0.01-toptimized-latwts/hl_256_256_256_256_256_256_256_256_256-act_LeakyReLU-e_18/1_13_model.h5\n",
      "\n",
      "Load model: /p/project/icon-a-ml/kuehbacher1/projects/iglesias-suarez2yxx_spuriouslinks/output_castle/eval_nando/causal_single_nn/models_arch-rasp_thrs-opt-mse6/models/CausalSingleNN/a0.01-toptimized-latwts/hl_256_256_256_256_256_256_256_256_256-act_LeakyReLU-e_18/1_14_model.h5\n",
      "\n",
      "Load model: /p/project/icon-a-ml/kuehbacher1/projects/iglesias-suarez2yxx_spuriouslinks/output_castle/eval_nando/causal_single_nn/models_arch-rasp_thrs-opt-mse6/models/CausalSingleNN/a0.01-toptimized-latwts/hl_256_256_256_256_256_256_256_256_256-act_LeakyReLU-e_18/1_15_model.h5\n",
      "\n",
      "Load model: /p/project/icon-a-ml/kuehbacher1/projects/iglesias-suarez2yxx_spuriouslinks/output_castle/eval_nando/causal_single_nn/models_arch-rasp_thrs-opt-mse6/models/CausalSingleNN/a0.01-toptimized-latwts/hl_256_256_256_256_256_256_256_256_256-act_LeakyReLU-e_18/1_16_model.h5\n",
      "\n",
      "Load model: /p/project/icon-a-ml/kuehbacher1/projects/iglesias-suarez2yxx_spuriouslinks/output_castle/eval_nando/causal_single_nn/models_arch-rasp_thrs-opt-mse6/models/CausalSingleNN/a0.01-toptimized-latwts/hl_256_256_256_256_256_256_256_256_256-act_LeakyReLU-e_18/1_17_model.h5\n",
      "\n",
      "Load model: /p/project/icon-a-ml/kuehbacher1/projects/iglesias-suarez2yxx_spuriouslinks/output_castle/eval_nando/causal_single_nn/models_arch-rasp_thrs-opt-mse6/models/CausalSingleNN/a0.01-toptimized-latwts/hl_256_256_256_256_256_256_256_256_256-act_LeakyReLU-e_18/1_18_model.h5\n",
      "\n",
      "Load model: /p/project/icon-a-ml/kuehbacher1/projects/iglesias-suarez2yxx_spuriouslinks/output_castle/eval_nando/causal_single_nn/models_arch-rasp_thrs-opt-mse6/models/CausalSingleNN/a0.01-toptimized-latwts/hl_256_256_256_256_256_256_256_256_256-act_LeakyReLU-e_18/1_19_model.h5\n",
      "\n",
      "Load model: /p/project/icon-a-ml/kuehbacher1/projects/iglesias-suarez2yxx_spuriouslinks/output_castle/eval_nando/causal_single_nn/models_arch-rasp_thrs-opt-mse6/models/CausalSingleNN/a0.01-toptimized-latwts/hl_256_256_256_256_256_256_256_256_256-act_LeakyReLU-e_18/1_20_model.h5\n",
      "\n",
      "Load model: /p/project/icon-a-ml/kuehbacher1/projects/iglesias-suarez2yxx_spuriouslinks/output_castle/eval_nando/causal_single_nn/models_arch-rasp_thrs-opt-mse6/models/CausalSingleNN/a0.01-toptimized-latwts/hl_256_256_256_256_256_256_256_256_256-act_LeakyReLU-e_18/1_21_model.h5\n",
      "\n",
      "Load model: /p/project/icon-a-ml/kuehbacher1/projects/iglesias-suarez2yxx_spuriouslinks/output_castle/eval_nando/causal_single_nn/models_arch-rasp_thrs-opt-mse6/models/CausalSingleNN/a0.01-toptimized-latwts/hl_256_256_256_256_256_256_256_256_256-act_LeakyReLU-e_18/1_22_model.h5\n",
      "\n",
      "Load model: /p/project/icon-a-ml/kuehbacher1/projects/iglesias-suarez2yxx_spuriouslinks/output_castle/eval_nando/causal_single_nn/models_arch-rasp_thrs-opt-mse6/models/CausalSingleNN/a0.01-toptimized-latwts/hl_256_256_256_256_256_256_256_256_256-act_LeakyReLU-e_18/1_23_model.h5\n",
      "\n",
      "Load model: /p/project/icon-a-ml/kuehbacher1/projects/iglesias-suarez2yxx_spuriouslinks/output_castle/eval_nando/causal_single_nn/models_arch-rasp_thrs-opt-mse6/models/CausalSingleNN/a0.01-toptimized-latwts/hl_256_256_256_256_256_256_256_256_256-act_LeakyReLU-e_18/1_24_model.h5\n",
      "\n",
      "Load model: /p/project/icon-a-ml/kuehbacher1/projects/iglesias-suarez2yxx_spuriouslinks/output_castle/eval_nando/causal_single_nn/models_arch-rasp_thrs-opt-mse6/models/CausalSingleNN/a0.01-toptimized-latwts/hl_256_256_256_256_256_256_256_256_256-act_LeakyReLU-e_18/1_25_model.h5\n",
      "\n",
      "Load model: /p/project/icon-a-ml/kuehbacher1/projects/iglesias-suarez2yxx_spuriouslinks/output_castle/eval_nando/causal_single_nn/models_arch-rasp_thrs-opt-mse6/models/CausalSingleNN/a0.01-toptimized-latwts/hl_256_256_256_256_256_256_256_256_256-act_LeakyReLU-e_18/1_26_model.h5\n",
      "\n",
      "Load model: /p/project/icon-a-ml/kuehbacher1/projects/iglesias-suarez2yxx_spuriouslinks/output_castle/eval_nando/causal_single_nn/models_arch-rasp_thrs-opt-mse6/models/CausalSingleNN/a0.01-toptimized-latwts/hl_256_256_256_256_256_256_256_256_256-act_LeakyReLU-e_18/1_27_model.h5\n",
      "\n",
      "Load model: /p/project/icon-a-ml/kuehbacher1/projects/iglesias-suarez2yxx_spuriouslinks/output_castle/eval_nando/causal_single_nn/models_arch-rasp_thrs-opt-mse6/models/CausalSingleNN/a0.01-toptimized-latwts/hl_256_256_256_256_256_256_256_256_256-act_LeakyReLU-e_18/1_28_model.h5\n",
      "\n",
      "Load model: /p/project/icon-a-ml/kuehbacher1/projects/iglesias-suarez2yxx_spuriouslinks/output_castle/eval_nando/causal_single_nn/models_arch-rasp_thrs-opt-mse6/models/CausalSingleNN/a0.01-toptimized-latwts/hl_256_256_256_256_256_256_256_256_256-act_LeakyReLU-e_18/1_29_model.h5\n",
      "\n",
      "Load model: /p/project/icon-a-ml/kuehbacher1/projects/iglesias-suarez2yxx_spuriouslinks/output_castle/eval_nando/causal_single_nn/models_arch-rasp_thrs-opt-mse6/models/CausalSingleNN/a0.01-toptimized-latwts/hl_256_256_256_256_256_256_256_256_256-act_LeakyReLU-e_18/0_2_model.h5\n",
      "\n",
      "Load model: /p/project/icon-a-ml/kuehbacher1/projects/iglesias-suarez2yxx_spuriouslinks/output_castle/eval_nando/causal_single_nn/models_arch-rasp_thrs-opt-mse6/models/CausalSingleNN/a0.01-toptimized-latwts/hl_256_256_256_256_256_256_256_256_256-act_LeakyReLU-e_18/0_3_model.h5\n",
      "\n",
      "Load model: /p/project/icon-a-ml/kuehbacher1/projects/iglesias-suarez2yxx_spuriouslinks/output_castle/eval_nando/causal_single_nn/models_arch-rasp_thrs-opt-mse6/models/CausalSingleNN/a0.01-toptimized-latwts/hl_256_256_256_256_256_256_256_256_256-act_LeakyReLU-e_18/0_4_model.h5\n",
      "\n",
      "Load model: /p/project/icon-a-ml/kuehbacher1/projects/iglesias-suarez2yxx_spuriouslinks/output_castle/eval_nando/causal_single_nn/models_arch-rasp_thrs-opt-mse6/models/CausalSingleNN/a0.01-toptimized-latwts/hl_256_256_256_256_256_256_256_256_256-act_LeakyReLU-e_18/0_5_model.h5\n",
      "\n",
      "Load model: /p/project/icon-a-ml/kuehbacher1/projects/iglesias-suarez2yxx_spuriouslinks/output_castle/eval_nando/causal_single_nn/models_arch-rasp_thrs-opt-mse6/models/CausalSingleNN/a0.01-toptimized-latwts/hl_256_256_256_256_256_256_256_256_256-act_LeakyReLU-e_18/0_6_model.h5\n",
      "\n",
      "Load model: /p/project/icon-a-ml/kuehbacher1/projects/iglesias-suarez2yxx_spuriouslinks/output_castle/eval_nando/causal_single_nn/models_arch-rasp_thrs-opt-mse6/models/CausalSingleNN/a0.01-toptimized-latwts/hl_256_256_256_256_256_256_256_256_256-act_LeakyReLU-e_18/0_7_model.h5\n",
      "\n",
      "Load model: /p/project/icon-a-ml/kuehbacher1/projects/iglesias-suarez2yxx_spuriouslinks/output_castle/eval_nando/causal_single_nn/models_arch-rasp_thrs-opt-mse6/models/CausalSingleNN/a0.01-toptimized-latwts/hl_256_256_256_256_256_256_256_256_256-act_LeakyReLU-e_18/0_8_model.h5\n",
      "\n",
      "Load model: /p/project/icon-a-ml/kuehbacher1/projects/iglesias-suarez2yxx_spuriouslinks/output_castle/eval_nando/causal_single_nn/models_arch-rasp_thrs-opt-mse6/models/CausalSingleNN/a0.01-toptimized-latwts/hl_256_256_256_256_256_256_256_256_256-act_LeakyReLU-e_18/0_9_model.h5\n",
      "\n",
      "Load model: /p/project/icon-a-ml/kuehbacher1/projects/iglesias-suarez2yxx_spuriouslinks/output_castle/eval_nando/causal_single_nn/models_arch-rasp_thrs-opt-mse6/models/CausalSingleNN/a0.01-toptimized-latwts/hl_256_256_256_256_256_256_256_256_256-act_LeakyReLU-e_18/0_10_model.h5\n",
      "\n",
      "Load model: /p/project/icon-a-ml/kuehbacher1/projects/iglesias-suarez2yxx_spuriouslinks/output_castle/eval_nando/causal_single_nn/models_arch-rasp_thrs-opt-mse6/models/CausalSingleNN/a0.01-toptimized-latwts/hl_256_256_256_256_256_256_256_256_256-act_LeakyReLU-e_18/0_11_model.h5\n",
      "\n",
      "Load model: /p/project/icon-a-ml/kuehbacher1/projects/iglesias-suarez2yxx_spuriouslinks/output_castle/eval_nando/causal_single_nn/models_arch-rasp_thrs-opt-mse6/models/CausalSingleNN/a0.01-toptimized-latwts/hl_256_256_256_256_256_256_256_256_256-act_LeakyReLU-e_18/0_12_model.h5\n",
      "\n",
      "Load model: /p/project/icon-a-ml/kuehbacher1/projects/iglesias-suarez2yxx_spuriouslinks/output_castle/eval_nando/causal_single_nn/models_arch-rasp_thrs-opt-mse6/models/CausalSingleNN/a0.01-toptimized-latwts/hl_256_256_256_256_256_256_256_256_256-act_LeakyReLU-e_18/0_13_model.h5\n",
      "\n",
      "Load model: /p/project/icon-a-ml/kuehbacher1/projects/iglesias-suarez2yxx_spuriouslinks/output_castle/eval_nando/causal_single_nn/models_arch-rasp_thrs-opt-mse6/models/CausalSingleNN/a0.01-toptimized-latwts/hl_256_256_256_256_256_256_256_256_256-act_LeakyReLU-e_18/0_14_model.h5\n",
      "\n",
      "Load model: /p/project/icon-a-ml/kuehbacher1/projects/iglesias-suarez2yxx_spuriouslinks/output_castle/eval_nando/causal_single_nn/models_arch-rasp_thrs-opt-mse6/models/CausalSingleNN/a0.01-toptimized-latwts/hl_256_256_256_256_256_256_256_256_256-act_LeakyReLU-e_18/0_15_model.h5\n",
      "\n",
      "Load model: /p/project/icon-a-ml/kuehbacher1/projects/iglesias-suarez2yxx_spuriouslinks/output_castle/eval_nando/causal_single_nn/models_arch-rasp_thrs-opt-mse6/models/CausalSingleNN/a0.01-toptimized-latwts/hl_256_256_256_256_256_256_256_256_256-act_LeakyReLU-e_18/0_16_model.h5\n",
      "\n",
      "Load model: /p/project/icon-a-ml/kuehbacher1/projects/iglesias-suarez2yxx_spuriouslinks/output_castle/eval_nando/causal_single_nn/models_arch-rasp_thrs-opt-mse6/models/CausalSingleNN/a0.01-toptimized-latwts/hl_256_256_256_256_256_256_256_256_256-act_LeakyReLU-e_18/0_17_model.h5\n",
      "\n",
      "Load model: /p/project/icon-a-ml/kuehbacher1/projects/iglesias-suarez2yxx_spuriouslinks/output_castle/eval_nando/causal_single_nn/models_arch-rasp_thrs-opt-mse6/models/CausalSingleNN/a0.01-toptimized-latwts/hl_256_256_256_256_256_256_256_256_256-act_LeakyReLU-e_18/0_18_model.h5\n",
      "\n",
      "Load model: /p/project/icon-a-ml/kuehbacher1/projects/iglesias-suarez2yxx_spuriouslinks/output_castle/eval_nando/causal_single_nn/models_arch-rasp_thrs-opt-mse6/models/CausalSingleNN/a0.01-toptimized-latwts/hl_256_256_256_256_256_256_256_256_256-act_LeakyReLU-e_18/0_19_model.h5\n",
      "\n",
      "Load model: /p/project/icon-a-ml/kuehbacher1/projects/iglesias-suarez2yxx_spuriouslinks/output_castle/eval_nando/causal_single_nn/models_arch-rasp_thrs-opt-mse6/models/CausalSingleNN/a0.01-toptimized-latwts/hl_256_256_256_256_256_256_256_256_256-act_LeakyReLU-e_18/0_20_model.h5\n",
      "\n",
      "Load model: /p/project/icon-a-ml/kuehbacher1/projects/iglesias-suarez2yxx_spuriouslinks/output_castle/eval_nando/causal_single_nn/models_arch-rasp_thrs-opt-mse6/models/CausalSingleNN/a0.01-toptimized-latwts/hl_256_256_256_256_256_256_256_256_256-act_LeakyReLU-e_18/0_21_model.h5\n",
      "\n",
      "Load model: /p/project/icon-a-ml/kuehbacher1/projects/iglesias-suarez2yxx_spuriouslinks/output_castle/eval_nando/causal_single_nn/models_arch-rasp_thrs-opt-mse6/models/CausalSingleNN/a0.01-toptimized-latwts/hl_256_256_256_256_256_256_256_256_256-act_LeakyReLU-e_18/0_22_model.h5\n",
      "\n",
      "Load model: /p/project/icon-a-ml/kuehbacher1/projects/iglesias-suarez2yxx_spuriouslinks/output_castle/eval_nando/causal_single_nn/models_arch-rasp_thrs-opt-mse6/models/CausalSingleNN/a0.01-toptimized-latwts/hl_256_256_256_256_256_256_256_256_256-act_LeakyReLU-e_18/0_23_model.h5\n",
      "\n",
      "Load model: /p/project/icon-a-ml/kuehbacher1/projects/iglesias-suarez2yxx_spuriouslinks/output_castle/eval_nando/causal_single_nn/models_arch-rasp_thrs-opt-mse6/models/CausalSingleNN/a0.01-toptimized-latwts/hl_256_256_256_256_256_256_256_256_256-act_LeakyReLU-e_18/0_24_model.h5\n",
      "\n",
      "Load model: /p/project/icon-a-ml/kuehbacher1/projects/iglesias-suarez2yxx_spuriouslinks/output_castle/eval_nando/causal_single_nn/models_arch-rasp_thrs-opt-mse6/models/CausalSingleNN/a0.01-toptimized-latwts/hl_256_256_256_256_256_256_256_256_256-act_LeakyReLU-e_18/0_25_model.h5\n",
      "\n",
      "Load model: /p/project/icon-a-ml/kuehbacher1/projects/iglesias-suarez2yxx_spuriouslinks/output_castle/eval_nando/causal_single_nn/models_arch-rasp_thrs-opt-mse6/models/CausalSingleNN/a0.01-toptimized-latwts/hl_256_256_256_256_256_256_256_256_256-act_LeakyReLU-e_18/0_26_model.h5\n",
      "\n",
      "Load model: /p/project/icon-a-ml/kuehbacher1/projects/iglesias-suarez2yxx_spuriouslinks/output_castle/eval_nando/causal_single_nn/models_arch-rasp_thrs-opt-mse6/models/CausalSingleNN/a0.01-toptimized-latwts/hl_256_256_256_256_256_256_256_256_256-act_LeakyReLU-e_18/0_27_model.h5\n",
      "\n",
      "Load model: /p/project/icon-a-ml/kuehbacher1/projects/iglesias-suarez2yxx_spuriouslinks/output_castle/eval_nando/causal_single_nn/models_arch-rasp_thrs-opt-mse6/models/CausalSingleNN/a0.01-toptimized-latwts/hl_256_256_256_256_256_256_256_256_256-act_LeakyReLU-e_18/0_28_model.h5\n",
      "\n",
      "Load model: /p/project/icon-a-ml/kuehbacher1/projects/iglesias-suarez2yxx_spuriouslinks/output_castle/eval_nando/causal_single_nn/models_arch-rasp_thrs-opt-mse6/models/CausalSingleNN/a0.01-toptimized-latwts/hl_256_256_256_256_256_256_256_256_256-act_LeakyReLU-e_18/0_29_model.h5\n",
      "\n",
      "Load model: /p/project/icon-a-ml/kuehbacher1/projects/iglesias-suarez2yxx_spuriouslinks/output_castle/eval_nando/causal_single_nn/models_arch-rasp_thrs-opt-mse6/models/CausalSingleNN/a0.01-toptimized-latwts/hl_256_256_256_256_256_256_256_256_256-act_LeakyReLU-e_18/2_0_model.h5\n",
      "\n",
      "Load model: /p/project/icon-a-ml/kuehbacher1/projects/iglesias-suarez2yxx_spuriouslinks/output_castle/eval_nando/causal_single_nn/models_arch-rasp_thrs-opt-mse6/models/CausalSingleNN/a0.01-toptimized-latwts/hl_256_256_256_256_256_256_256_256_256-act_LeakyReLU-e_18/3_0_model.h5\n",
      "\n",
      "Load model: /p/project/icon-a-ml/kuehbacher1/projects/iglesias-suarez2yxx_spuriouslinks/output_castle/eval_nando/causal_single_nn/models_arch-rasp_thrs-opt-mse6/models/CausalSingleNN/a0.01-toptimized-latwts/hl_256_256_256_256_256_256_256_256_256-act_LeakyReLU-e_18/4_0_model.h5\n",
      "\n",
      "Load model: /p/project/icon-a-ml/kuehbacher1/projects/iglesias-suarez2yxx_spuriouslinks/output_castle/eval_nando/causal_single_nn/models_arch-rasp_thrs-opt-mse6/models/CausalSingleNN/a0.01-toptimized-latwts/hl_256_256_256_256_256_256_256_256_256-act_LeakyReLU-e_18/5_0_model.h5\n",
      "\n",
      "Load model: /p/project/icon-a-ml/kuehbacher1/projects/iglesias-suarez2yxx_spuriouslinks/output_castle/eval_nando/causal_single_nn/models_arch-rasp_thrs-opt-mse6/models/CausalSingleNN/a0.01-toptimized-latwts/hl_256_256_256_256_256_256_256_256_256-act_LeakyReLU-e_18/6_0_model.h5\n"
     ]
    }
   ],
   "source": [
    "causal_inputs_per_var = get_causal_inputs()"
   ]
  },
  {
   "cell_type": "code",
   "execution_count": 35,
   "id": "6855e471-0496-4c8a-a371-548a6eae122b",
   "metadata": {},
   "outputs": [
    {
     "data": {
      "text/plain": [
       "dict_keys(['tphystnd-3.64', 'tphystnd-7.59', 'tphystnd-14.36', 'tphystnd-24.61', 'tphystnd-38.27', 'tphystnd-54.6', 'tphystnd-72.01', 'tphystnd-87.82', 'tphystnd-103.32', 'tphystnd-121.55', 'tphystnd-142.99', 'tphystnd-168.23', 'tphystnd-197.91', 'tphystnd-232.83', 'tphystnd-273.91', 'tphystnd-322.24', 'tphystnd-379.1', 'tphystnd-445.99', 'tphystnd-524.69', 'tphystnd-609.78', 'tphystnd-691.39', 'tphystnd-763.4', 'tphystnd-820.86', 'tphystnd-859.53', 'tphystnd-887.02', 'tphystnd-912.64', 'tphystnd-936.2', 'tphystnd-957.49', 'tphystnd-976.33', 'tphystnd-992.56', 'phq-14.36', 'phq-24.61', 'phq-38.27', 'phq-54.6', 'phq-72.01', 'phq-87.82', 'phq-103.32', 'phq-121.55', 'phq-142.99', 'phq-168.23', 'phq-197.91', 'phq-232.83', 'phq-273.91', 'phq-322.24', 'phq-379.1', 'phq-445.99', 'phq-524.69', 'phq-609.78', 'phq-691.39', 'phq-763.4', 'phq-820.86', 'phq-859.53', 'phq-887.02', 'phq-912.64', 'phq-936.2', 'phq-957.49', 'phq-976.33', 'phq-992.56', 'fsnt', 'fsns', 'flnt', 'flns', 'prect'])"
      ]
     },
     "execution_count": 35,
     "metadata": {},
     "output_type": "execute_result"
    }
   ],
   "source": [
    "causal_inputs_per_var.keys()"
   ]
  },
  {
   "cell_type": "markdown",
   "id": "7f02864e-4bad-4651-abc6-131ee7678540",
   "metadata": {},
   "source": [
    "## Test Thresholds"
   ]
  },
  {
   "cell_type": "code",
   "execution_count": 104,
   "id": "8c96ef50-ef57-46a8-b112-9acbe6b2958c",
   "metadata": {},
   "outputs": [],
   "source": [
    "\n",
    "def get_best_threshold(masking_vector, causal_inputs):\n",
    "    max_value = 0\n",
    "    max_treshold = 0.0\n",
    "\n",
    "    zeros = np.zeros_like(masking_vector, dtype=int)\n",
    "    ones = np.ones_like(masking_vector, dtype=int)\n",
    "\n",
    "    causal_vector = np.zeros(len(inputs), dtype=int)\n",
    "    causal_vector[causal_inputs] = 1\n",
    "\n",
    "    for t in thresholds:\n",
    "        t = round(t, 4)\n",
    "        t_vector = np.where(masking_vector < t, \n",
    "                            zeros, # value if condition true \n",
    "                            ones) # value if condition false\n",
    "        \n",
    "\n",
    "\n",
    "        comparison_sum = np.sum(t_vector == causal_vector) # the bigger the better\n",
    "        \n",
    "        if comparison_sum > max_value:\n",
    "            max_value = comparison_sum\n",
    "            max_treshold = t\n",
    "\n",
    "    t_vector = np.where(masking_vector < max_treshold, \n",
    "                        zeros, # value if condition true \n",
    "                        ones) # value if condition false\n",
    "    max_sum = np.sum(t_vector)\n",
    "\n",
    "    causal_sum = np.sum(causal_vector)\n",
    "\n",
    "    return max_treshold, max_sum, causal_sum\n",
    "            \n",
    "        "
   ]
  },
  {
   "cell_type": "code",
   "execution_count": 90,
   "id": "0449660e-0f14-4c72-b073-79f5ea8f7017",
   "metadata": {},
   "outputs": [
    {
     "name": "stdout",
     "output_type": "stream",
     "text": [
      "tphystnd-691.39\n"
     ]
    },
    {
     "data": {
      "text/plain": [
       "(0.8, 66, 67)"
      ]
     },
     "execution_count": 90,
     "metadata": {},
     "output_type": "execute_result"
    }
   ],
   "source": [
    "thresholds = np.arange(0.1, 2.0, step=0.05)\n",
    "\n",
    "v = output_vars[20]\n",
    "print(v)\n",
    "\n",
    "masking_vector = masking_vector_per_var[v]\n",
    "get_best_threshold(masking_vector, causal_inputs_per_var[v])"
   ]
  },
  {
   "cell_type": "code",
   "execution_count": null,
   "id": "fd494f86-110d-418f-8e82-095e679f67b1",
   "metadata": {},
   "outputs": [],
   "source": []
  },
  {
   "cell_type": "code",
   "execution_count": null,
   "id": "fc5090b2-4a90-48fa-b02b-76c34c05db97",
   "metadata": {},
   "outputs": [],
   "source": []
  },
  {
   "cell_type": "markdown",
   "id": "89660f63-85b7-42bf-9c2c-5a6c5d838954",
   "metadata": {},
   "source": [
    "## Get bespoke tresholds"
   ]
  },
  {
   "cell_type": "code",
   "execution_count": 145,
   "id": "0430afee-8feb-4d38-ac01-aaae10f4c51f",
   "metadata": {
    "scrolled": true
   },
   "outputs": [
    {
     "name": "stdout",
     "output_type": "stream",
     "text": [
      "\n",
      "Best threshold for variable tphystnd-3.64: 0.0001 (max sum 83 vs causal sum 86)\n",
      "\n",
      "Best threshold for variable tphystnd-7.59: 0.0006 (max sum 82 vs causal sum 79)\n",
      "\n",
      "Best threshold for variable tphystnd-14.36: 0.0001 (max sum 84 vs causal sum 94)\n",
      "\n",
      "Best threshold for variable tphystnd-24.61: 0.0001 (max sum 84 vs causal sum 90)\n",
      "\n",
      "Best threshold for variable tphystnd-38.27: 0.0001 (max sum 83 vs causal sum 91)\n",
      "\n",
      "Best threshold for variable tphystnd-54.6: 0.0001 (max sum 83 vs causal sum 94)\n",
      "\n",
      "Best threshold for variable tphystnd-72.01: 0.008 (max sum 69 vs causal sum 75)\n",
      "\n",
      "Best threshold for variable tphystnd-87.82: 0.0713 (max sum 28 vs causal sum 49)\n",
      "\n",
      "Best threshold for variable tphystnd-103.32: 0.101 (max sum 21 vs causal sum 27)\n",
      "\n",
      "Best threshold for variable tphystnd-121.55: 0.2453 (max sum 15 vs causal sum 18)\n",
      "\n",
      "Best threshold for variable tphystnd-142.99: 0.0625 (max sum 33 vs causal sum 40)\n",
      "\n",
      "Best threshold for variable tphystnd-168.23: 0.271 (max sum 23 vs causal sum 24)\n",
      "\n",
      "Best threshold for variable tphystnd-197.91: 0.1986 (max sum 30 vs causal sum 47)\n",
      "\n",
      "Best threshold for variable tphystnd-232.83: 0.1494 (max sum 37 vs causal sum 43)\n",
      "\n",
      "Best threshold for variable tphystnd-273.91: 0.1319 (max sum 41 vs causal sum 51)\n",
      "\n",
      "Best threshold for variable tphystnd-322.24: 0.0001 (max sum 84 vs causal sum 82)\n",
      "\n",
      "Best threshold for variable tphystnd-379.1: 0.0001 (max sum 85 vs causal sum 84)\n",
      "\n",
      "Best threshold for variable tphystnd-445.99: 0.0001 (max sum 85 vs causal sum 82)\n",
      "\n",
      "Best threshold for variable tphystnd-524.69: 0.0001 (max sum 87 vs causal sum 67)\n",
      "\n",
      "Best threshold for variable tphystnd-609.78: 0.1271 (max sum 75 vs causal sum 59)\n",
      "\n",
      "Best threshold for variable tphystnd-691.39: 0.0001 (max sum 93 vs causal sum 67)\n",
      "\n",
      "Best threshold for variable tphystnd-763.4: 0.1742 (max sum 53 vs causal sum 51)\n",
      "\n",
      "Best threshold for variable tphystnd-820.86: 0.5198 (max sum 42 vs causal sum 39)\n",
      "\n",
      "Best threshold for variable tphystnd-859.53: 0.2819 (max sum 46 vs causal sum 46)\n",
      "\n",
      "Best threshold for variable tphystnd-887.02: 0.8188 (max sum 32 vs causal sum 39)\n",
      "\n",
      "Best threshold for variable tphystnd-912.64: 0.2658 (max sum 47 vs causal sum 57)\n",
      "\n",
      "Best threshold for variable tphystnd-936.2: 0.3463 (max sum 38 vs causal sum 39)\n",
      "\n",
      "Best threshold for variable tphystnd-957.49: 0.7291 (max sum 27 vs causal sum 35)\n",
      "\n",
      "Best threshold for variable tphystnd-976.33: 0.1598 (max sum 52 vs causal sum 63)\n",
      "\n",
      "Best threshold for variable tphystnd-992.56: 0.3471 (max sum 44 vs causal sum 54)\n",
      "\n",
      "Setting min threshold=0.0001 for variable phq-3.64\n",
      "\n",
      "Setting min threshold=0.0001 for variable phq-7.59\n",
      "\n",
      "Best threshold for variable phq-14.36: 0.0001 (max sum 0 vs causal sum 17)\n",
      "\n",
      "Best threshold for variable phq-24.61: 0.0001 (max sum 0 vs causal sum 16)\n",
      "\n",
      "Best threshold for variable phq-38.27: 0.0001 (max sum 0 vs causal sum 8)\n",
      "\n",
      "Best threshold for variable phq-54.6: 0.0001 (max sum 0 vs causal sum 34)\n",
      "\n",
      "Best threshold for variable phq-72.01: 0.0001 (max sum 0 vs causal sum 76)\n",
      "\n",
      "Best threshold for variable phq-87.82: 0.0001 (max sum 0 vs causal sum 5)\n",
      "\n",
      "Best threshold for variable phq-103.32: 0.0001 (max sum 0 vs causal sum 12)\n",
      "\n",
      "Best threshold for variable phq-121.55: 0.0001 (max sum 0 vs causal sum 15)\n",
      "\n",
      "Best threshold for variable phq-142.99: 0.0001 (max sum 0 vs causal sum 9)\n",
      "\n",
      "Best threshold for variable phq-168.23: 0.0149 (max sum 5 vs causal sum 13)\n",
      "\n",
      "Best threshold for variable phq-197.91: 0.0063 (max sum 13 vs causal sum 19)\n",
      "\n",
      "Best threshold for variable phq-232.83: 0.0047 (max sum 41 vs causal sum 61)\n",
      "\n",
      "Best threshold for variable phq-273.91: 0.0499 (max sum 27 vs causal sum 41)\n",
      "\n",
      "Best threshold for variable phq-322.24: 0.0001 (max sum 85 vs causal sum 79)\n",
      "\n",
      "Best threshold for variable phq-379.1: 0.0001 (max sum 85 vs causal sum 88)\n",
      "\n",
      "Best threshold for variable phq-445.99: 0.0001 (max sum 85 vs causal sum 71)\n",
      "\n",
      "Best threshold for variable phq-524.69: 0.0001 (max sum 87 vs causal sum 66)\n",
      "\n",
      "Best threshold for variable phq-609.78: 0.0001 (max sum 94 vs causal sum 68)\n",
      "\n",
      "Best threshold for variable phq-691.39: 0.2648 (max sum 57 vs causal sum 57)\n",
      "\n",
      "Best threshold for variable phq-763.4: 0.4965 (max sum 46 vs causal sum 37)\n",
      "\n",
      "Best threshold for variable phq-820.86: 0.8644 (max sum 34 vs causal sum 33)\n",
      "\n",
      "Best threshold for variable phq-859.53: 0.8763 (max sum 34 vs causal sum 31)\n",
      "\n",
      "Best threshold for variable phq-887.02: 0.7102 (max sum 39 vs causal sum 34)\n",
      "\n",
      "Best threshold for variable phq-912.64: 0.7019 (max sum 41 vs causal sum 34)\n",
      "\n",
      "Best threshold for variable phq-936.2: 0.7418 (max sum 37 vs causal sum 34)\n",
      "\n",
      "Best threshold for variable phq-957.49: 0.8689 (max sum 36 vs causal sum 39)\n",
      "\n",
      "Best threshold for variable phq-976.33: 1.1939 (max sum 31 vs causal sum 35)\n",
      "\n",
      "Best threshold for variable phq-992.56: 0.7072 (max sum 36 vs causal sum 37)\n",
      "\n",
      "Best threshold for variable fsnt: 0.442 (max sum 55 vs causal sum 61)\n",
      "\n",
      "Best threshold for variable fsns: 0.0001 (max sum 85 vs causal sum 71)\n",
      "\n",
      "Best threshold for variable flnt: 0.6371 (max sum 22 vs causal sum 31)\n",
      "\n",
      "Best threshold for variable flns: 0.0485 (max sum 53 vs causal sum 67)\n",
      "\n",
      "Best threshold for variable prect: 0.0001 (max sum 94 vs causal sum 70)\n"
     ]
    }
   ],
   "source": [
    "min_t = 1e-4\n",
    "thresholds = np.arange(1e-4, 2.0, step=1e-4)\n",
    "bespoke_thresholds = {}\n",
    "max_sums_per_var = {}\n",
    "causal_sums_per_var = {}\n",
    "\n",
    "for var, masking_vector in masking_vector_per_var.items():\n",
    "    if str(var) == \"phq-3.64\" or str(var) == \"phq-7.59\":\n",
    "        max_sums_per_var[var] = 0\n",
    "        causal_sums_per_var[var] = 0\n",
    "        \n",
    "        bespoke_thresholds[var] = min_t\n",
    "        print(f\"\\nSetting min threshold={min_t} for variable {var}\")\n",
    "        continue\n",
    "\n",
    "    best_t, max_sum, causal_sum = get_best_threshold(masking_vector, causal_inputs_per_var[var])\n",
    "\n",
    "    print(f\"\\nBest threshold for variable {var}: {best_t} (max sum {max_sum} vs causal sum {causal_sum})\")\n",
    "\n",
    "    bespoke_thresholds[var] = best_t\n",
    "    max_sums_per_var[var] = max_sum\n",
    "    causal_sums_per_var[var] = causal_sum\n",
    "    \n",
    "    # print(f'\\nSaving masking vector {Path(*Path(os.path.join(mv_dir, fn)).parts[-3:])}.')"
   ]
  },
  {
   "cell_type": "markdown",
   "id": "20d3dc54-5af9-4617-a99c-9410b5cfd0de",
   "metadata": {},
   "source": [
    "## Plot number of inputs"
   ]
  },
  {
   "cell_type": "code",
   "execution_count": 38,
   "id": "664f7004-62f1-4b40-850b-9b24ec757963",
   "metadata": {},
   "outputs": [],
   "source": [
    "import matplotlib.pyplot as plt\n",
    "import cmocean\n",
    "import seaborn as sns\n",
    "\n",
    "import matplotlib as mpl\n",
    "mpl.rcParams.update(mpl.rcParamsDefault)"
   ]
  },
  {
   "cell_type": "code",
   "execution_count": null,
   "id": "ce147c40-9354-4780-9d86-024c424d7a26",
   "metadata": {},
   "outputs": [],
   "source": []
  },
  {
   "cell_type": "code",
   "execution_count": 146,
   "id": "b2129d9d-9fa2-4d10-9f7d-646cb4e62b46",
   "metadata": {},
   "outputs": [
    {
     "name": "stdout",
     "output_type": "stream",
     "text": [
      "\n",
      "Saving plot training_74_pre_mask_net_spars0.001/plots_offline_evaluation/thresholding/number_of_inputs_per_output_bespoke_tresholds.png.\n"
     ]
    },
    {
     "data": {
      "image/png": "[encoded data removed]",
      "text/plain": [
       "<Figure size 1200x480 with 1 Axes>"
      ]
     },
     "metadata": {},
     "output_type": "display_data"
    }
   ],
   "source": [
    "plt.close()\n",
    "fig, ax = plt.subplots()\n",
    "fig.set_figwidth(12)\n",
    "\n",
    "\n",
    "x = range(len(output_vars))\n",
    "sns.lineplot(x=x, y=max_sums_per_var.values(), label=\"tresholded\", ax=ax)\n",
    "sns.lineplot(x=x, y=causal_sums_per_var.values(), label=\"causal_single_nn\", ax=ax)\n",
    "plt.legend()\n",
    "\n",
    "# Axis formatting.\n",
    "ax.spines['top'].set_visible(False)\n",
    "ax.spines['right'].set_visible(False)\n",
    "ax.spines['left'].set_color('#DDDDDD')\n",
    "ax.spines['bottom'].set_color('#DDDDDD')\n",
    "ax.tick_params(bottom=False, left=False)\n",
    "ax.tick_params(axis='x', labelsize=8)\n",
    "ax.tick_params(axis='y', labelsize=10)\n",
    "ax.set_axisbelow(True)\n",
    "ax.yaxis.grid(True)\n",
    "ax.xaxis.grid(False)\n",
    "ax.margins(x=0.015)\n",
    "\n",
    "ax.set_xticks(range(len(output_vars)))\n",
    "ax.set_xticklabels(output_vars, rotation=90, ha='center', va='top')\n",
    "    \n",
    "ax.set_xlabel('Output variables', labelpad=15, color='#333333')\n",
    "ax.set_ylabel('Number of Inputs', labelpad=15, color='#333333')\n",
    "\n",
    "ax.set_title('Number of inputs per output variable', pad=15, color='#333333', weight='bold', fontsize=12)\n",
    "\n",
    "save_dir = os.path.join(base_dir, \"plots_offline_evaluation\", \"thresholding\")\n",
    "Path(save_dir).mkdir(exist_ok=True, parents=True)\n",
    "save_png = \"number_of_inputs_per_output_bespoke_tresholds.png\"\n",
    "plt.savefig(os.path.join(save_dir, save_png), dpi=400, bbox_inches=\"tight\")\n",
    "print(f'\\nSaving plot {Path(*Path(os.path.join(save_dir, save_png)).parts[-4:])}.')\n",
    "\n",
    "plt.show()"
   ]
  },
  {
   "cell_type": "markdown",
   "id": "c99dde01-61ce-4c71-99d9-943398280d18",
   "metadata": {},
   "source": [
    "## Save Bespoke Thresholds"
   ]
  },
  {
   "cell_type": "code",
   "execution_count": 147,
   "id": "f15c44ee-8d31-4863-b980-ae955c81b279",
   "metadata": {},
   "outputs": [
    {
     "data": {
      "text/plain": [
       "65"
      ]
     },
     "execution_count": 147,
     "metadata": {},
     "output_type": "execute_result"
    }
   ],
   "source": [
    "len(bespoke_thresholds.keys())"
   ]
  },
  {
   "cell_type": "code",
   "execution_count": 148,
   "id": "7229fe4a-c740-4ac8-97b6-0ea4b3073f23",
   "metadata": {},
   "outputs": [
    {
     "name": "stdout",
     "output_type": "stream",
     "text": [
      "/p/project/icon-a-ml/kuehbacher1/projects/iglesias-suarez2yxx_spuriouslinks/output_castle/training_74_pre_mask_net_spars0.001/bespoke_thresholds\n"
     ]
    }
   ],
   "source": [
    "output_dir = os.path.join(base_dir, \"bespoke_thresholds\")\n",
    "Path(output_dir).mkdir(parents=True, exist_ok=True)\n",
    "print(output_dir)"
   ]
  },
  {
   "cell_type": "code",
   "execution_count": 149,
   "id": "4c172020-3932-4a8c-8713-3da646017fbd",
   "metadata": {},
   "outputs": [
    {
     "name": "stdout",
     "output_type": "stream",
     "text": [
      "Saved file output_castle/training_74_pre_mask_net_spars0.001/bespoke_thresholds/num_inputs_per_var.p\n"
     ]
    }
   ],
   "source": [
    "with open(os.path.join(output_dir, \"num_inputs_per_var.p\"), \"wb\") as output_file:\n",
    "    pickle.dump(max_sums_per_var, output_file)\n",
    "print(f\"Saved file {Path(*Path(os.path.join(output_dir, 'num_inputs_per_var.p')).parts[-4:])}\")"
   ]
  },
  {
   "cell_type": "code",
   "execution_count": 150,
   "id": "87e618f5-1f31-4728-97d8-14f53d1fc278",
   "metadata": {},
   "outputs": [
    {
     "name": "stdout",
     "output_type": "stream",
     "text": [
      "Saved file output_castle/training_74_pre_mask_net_spars0.001/bespoke_thresholds/thresholds_per_var.p\n"
     ]
    }
   ],
   "source": [
    "with open(os.path.join(output_dir, \"thresholds_per_var.p\"), \"wb\") as output_file:\n",
    "    pickle.dump(bespoke_thresholds, output_file)\n",
    "print(f\"Saved file {Path(*Path(os.path.join(output_dir, 'thresholds_per_var.p')).parts[-4:])}\")"
   ]
  },
  {
   "cell_type": "code",
   "execution_count": null,
   "id": "ec05d041-9887-4f3c-b11b-22508bba9de8",
   "metadata": {},
   "outputs": [],
   "source": []
  },
  {
   "cell_type": "code",
   "execution_count": 48,
   "id": "e6a8368d-b82d-4087-b3d0-e4a88a9ad955",
   "metadata": {},
   "outputs": [
    {
     "name": "stdout",
     "output_type": "stream",
     "text": [
      "/p/project/icon-a-ml/kuehbacher1/projects/iglesias-suarez2yxx_spuriouslinks/output_castle/eval_nando/causal_single_nn/\n"
     ]
    }
   ],
   "source": [
    "output_dir = os.path.join(os.path.join(PROJECT_ROOT, \"output_castle/eval_nando/causal_single_nn/\"))\n",
    "print(output_dir)\n",
    "with open(os.path.join(output_dir, \"num_inputs_per_var.p\"), \"wb\") as output_file:\n",
    "    pickle.dump(causal_sums_per_var, output_file)"
   ]
  },
  {
   "cell_type": "markdown",
   "id": "a36bba56-d780-4f5b-9d6c-1d38b5670918",
   "metadata": {},
   "source": [
    "## Plot thresholds"
   ]
  },
  {
   "cell_type": "code",
   "execution_count": 39,
   "id": "81f777c8-9033-4393-8149-ff11dee22c78",
   "metadata": {},
   "outputs": [
    {
     "name": "stderr",
     "output_type": "stream",
     "text": [
      "No artists with labels found to put in legend.  Note that artists whose label start with an underscore are ignored when legend() is called with no argument.\n"
     ]
    },
    {
     "name": "stdout",
     "output_type": "stream",
     "text": [
      "\n",
      "Saving plot training_74_pre_mask_net_spars0.001/plots_offline_evaluation/thresholding/bespoke_threshold_per_output.png.\n"
     ]
    },
    {
     "data": {
      "image/png": "[encoded data removed]",
      "text/plain": [
       "<Figure size 1200x480 with 1 Axes>"
      ]
     },
     "metadata": {},
     "output_type": "display_data"
    }
   ],
   "source": [
    "plt.close()\n",
    "fig, ax = plt.subplots()\n",
    "fig.set_figwidth(12)\n",
    "\n",
    "\n",
    "x = range(len(bespoke_thresholds))\n",
    "sns.lineplot(x=x, y=bespoke_thresholds.values(), ax=ax)\n",
    "plt.legend()\n",
    "\n",
    "# Axis formatting.\n",
    "ax.spines['top'].set_visible(False)\n",
    "ax.spines['right'].set_visible(False)\n",
    "ax.spines['left'].set_color('#DDDDDD')\n",
    "ax.spines['bottom'].set_color('#DDDDDD')\n",
    "ax.tick_params(bottom=False, left=False)\n",
    "ax.tick_params(axis='x', labelsize=8)\n",
    "ax.tick_params(axis='y', labelsize=10)\n",
    "ax.set_axisbelow(True)\n",
    "ax.yaxis.grid(True)\n",
    "ax.xaxis.grid(False)\n",
    "ax.margins(x=0.015)\n",
    "\n",
    "ax.set_xticks(range(len(bespoke_thresholds)))\n",
    "ax.set_xticklabels([str(var) for var in bespoke_thresholds.keys()], rotation=90, ha='center', va='top')\n",
    "    \n",
    "ax.set_xlabel('Output variables', labelpad=15, color='#333333')\n",
    "ax.set_ylabel('Threshold value', labelpad=15, color='#333333')\n",
    "\n",
    "ax.set_title('Threshold value per output variable', pad=15, color='#333333', weight='bold', fontsize=12)\n",
    "\n",
    "\n",
    "save_dir = os.path.join(base_dir, \"plots_offline_evaluation\", \"thresholding\")\n",
    "Path(save_dir).mkdir(exist_ok=True, parents=True)\n",
    "save_png = \"bespoke_threshold_per_output.png\"\n",
    "plt.savefig(os.path.join(save_dir, save_png), dpi=400, bbox_inches=\"tight\")\n",
    "print(f'\\nSaving plot {Path(*Path(os.path.join(save_dir, save_png)).parts[-4:])}.')\n",
    "\n",
    "plt.show()"
   ]
  },
  {
   "cell_type": "code",
   "execution_count": null,
   "id": "8d89accf-0c3f-4c80-ac3c-fafeea56cc79",
   "metadata": {},
   "outputs": [],
   "source": []
  },
  {
   "cell_type": "code",
   "execution_count": null,
   "id": "cf88ccf4-ff63-4621-bc87-5b70ca65e69d",
   "metadata": {},
   "outputs": [],
   "source": []
  },
  {
   "cell_type": "markdown",
   "id": "579a8646-0109-47c6-b4a8-6ef59ab6dd03",
   "metadata": {},
   "source": [
    "## Load bespoke thresholds"
   ]
  },
  {
   "cell_type": "code",
   "execution_count": 40,
   "id": "5e6c8c3f-af97-4a11-a103-2856227e60ce",
   "metadata": {},
   "outputs": [],
   "source": [
    "with open(os.path.join(output_dir, \"thresholds_per_var.p\"), \"rb\") as read_file:\n",
    "    bespoke_thresholds = pickle.load(read_file)"
   ]
  },
  {
   "cell_type": "code",
   "execution_count": 41,
   "id": "845e723e-c1e3-4b75-9d0a-a59e876c2b7b",
   "metadata": {},
   "outputs": [
    {
     "data": {
      "text/plain": [
       "{'tphystnd-3.64': 0.0001,\n",
       " 'tphystnd-7.59': 0.0006000000000000001,\n",
       " 'tphystnd-14.36': 0.0001,\n",
       " 'tphystnd-24.61': 0.0001,\n",
       " 'tphystnd-38.27': 0.0001,\n",
       " 'tphystnd-54.6': 0.0001,\n",
       " 'tphystnd-72.01': 0.008,\n",
       " 'tphystnd-87.82': 0.0713,\n",
       " 'tphystnd-103.32': 0.101,\n",
       " 'tphystnd-121.55': 0.2453,\n",
       " 'tphystnd-142.99': 0.0625,\n",
       " 'tphystnd-168.23': 0.271,\n",
       " 'tphystnd-197.91': 0.1986,\n",
       " 'tphystnd-232.83': 0.1494,\n",
       " 'tphystnd-273.91': 0.1319,\n",
       " 'tphystnd-322.24': 0.0001,\n",
       " 'tphystnd-379.1': 0.0001,\n",
       " 'tphystnd-445.99': 0.0001,\n",
       " 'tphystnd-524.69': 0.0001,\n",
       " 'tphystnd-609.78': 0.1271,\n",
       " 'tphystnd-691.39': 0.0001,\n",
       " 'tphystnd-763.4': 0.1742,\n",
       " 'tphystnd-820.86': 0.5198,\n",
       " 'tphystnd-859.53': 0.2819,\n",
       " 'tphystnd-887.02': 0.8188000000000001,\n",
       " 'tphystnd-912.64': 0.2658,\n",
       " 'tphystnd-936.2': 0.3463,\n",
       " 'tphystnd-957.49': 0.7291,\n",
       " 'tphystnd-976.33': 0.1598,\n",
       " 'tphystnd-992.56': 0.3471,\n",
       " 'phq-3.64': 0.0001,\n",
       " 'phq-7.59': 0.0001,\n",
       " 'phq-14.36': 0.0001,\n",
       " 'phq-24.61': 0.0001,\n",
       " 'phq-38.27': 0.0001,\n",
       " 'phq-54.6': 0.0001,\n",
       " 'phq-72.01': 0.0001,\n",
       " 'phq-87.82': 0.0001,\n",
       " 'phq-103.32': 0.0001,\n",
       " 'phq-121.55': 0.0001,\n",
       " 'phq-142.99': 0.0001,\n",
       " 'phq-168.23': 0.0149,\n",
       " 'phq-197.91': 0.006300000000000001,\n",
       " 'phq-232.83': 0.0047,\n",
       " 'phq-273.91': 0.04990000000000001,\n",
       " 'phq-322.24': 0.0001,\n",
       " 'phq-379.1': 0.0001,\n",
       " 'phq-445.99': 0.0001,\n",
       " 'phq-524.69': 0.0001,\n",
       " 'phq-609.78': 0.0001,\n",
       " 'phq-691.39': 0.2648,\n",
       " 'phq-763.4': 0.4965,\n",
       " 'phq-820.86': 0.8644000000000001,\n",
       " 'phq-859.53': 0.8763000000000001,\n",
       " 'phq-887.02': 0.7102,\n",
       " 'phq-912.64': 0.7019,\n",
       " 'phq-936.2': 0.7418,\n",
       " 'phq-957.49': 0.8689,\n",
       " 'phq-976.33': 1.1939,\n",
       " 'phq-992.56': 0.7072,\n",
       " 'fsnt': 0.442,\n",
       " 'fsns': 0.0001,\n",
       " 'flnt': 0.6371,\n",
       " 'flns': 0.04850000000000001,\n",
       " 'prect': 0.0001}"
      ]
     },
     "execution_count": 41,
     "metadata": {},
     "output_type": "execute_result"
    }
   ],
   "source": [
    "bespoke_thresholds"
   ]
  },
  {
   "cell_type": "code",
   "execution_count": null,
   "id": "c9bd02cc-93b6-402d-a875-1ced01a75cac",
   "metadata": {},
   "outputs": [],
   "source": []
  },
  {
   "cell_type": "code",
   "execution_count": 87,
   "id": "6aa88f8f-4ccb-4885-8e2f-acc5bc4394a5",
   "metadata": {},
   "outputs": [
    {
     "data": {
      "text/plain": [
       "0.3875"
      ]
     },
     "execution_count": 87,
     "metadata": {},
     "output_type": "execute_result"
    }
   ],
   "source": [
    "np.round(0.38749739, 4)"
   ]
  },
  {
   "cell_type": "code",
   "execution_count": null,
   "id": "2be93bdb-1b91-4412-bc8f-b94e79c69294",
   "metadata": {},
   "outputs": [],
   "source": []
  }
 ],
 "metadata": {
  "kernelspec": {
   "display_name": "Python 3 (ipykernel)",
   "language": "python",
   "name": "python3"
  },
  "language_info": {
   "codemirror_mode": {
    "name": "ipython",
    "version": 3
   },
   "file_extension": ".py",
   "mimetype": "text/x-python",
   "name": "python",
   "nbconvert_exporter": "python",
   "pygments_lexer": "ipython3",
   "version": "3.9.18"
  }
 },
 "nbformat": 4,
 "nbformat_minor": 5
}
