{
 "cells": [
  {
   "cell_type": "markdown",
   "metadata": {},
   "source": [
    "# SHERPA visualization"
   ]
  },
  {
   "cell_type": "markdown",
   "metadata": {},
   "source": [
    "### How to login to DKRZ & launch jupyter-notebook"
   ]
  },
  {
   "cell_type": "markdown",
   "metadata": {},
   "source": [
    "1. ***Login on Mistral specifying two ports:***\n",
    "- *ssh -L <port1>:localhost:<port1> -L <port2>:localhost:<port2> <user>@mistral.dkrz.de*\n",
    "    - e.g., *ssh -L 7001:localhost:7001 -L 8882:localhost:8882 b309172@mistral.dkrz.de*\n",
    "\n",
    "2. ***Reserve a partition specifying the appropriate ports:***\n",
    "- e.g., *salloc -N 1 -n 2 -p prepost -A bd1083 -t2:00:00 -- /bin/bash -c 'ssh -v -4 -L 7001:localhost:7001 -L 8882:localhost:8880 -X $SLURM_JOB_NODELIST'*\n",
    "\n",
    "- e.g., *salloc -N 1 -n 6 --mem=128000 -p gpu -A $PROJECT -t10:00:00 -- /bin/bash -c 'ssh -L 7001:localhost:7001 -L 8882:localhost:8880 -X $SLURM_JOB_NODELIST'*\n",
    "\n",
    "3. ***Activate your conda env:***\n",
    "- e.g., *conda activate causalnncam*\n",
    "\n",
    "4. ***Launch jupyter-notebook linked to the first port:***\n",
    "- *jupyter-notebook --port=7001 --no-browser* ***Note the second port is reserved for Sherpa!***\n",
    "\n",
    "Some example of how using DKRZ (mistral) with a local-port tunel: https://wiki.mpimet.mpg.de/doku.php?id=observations:satellite_data_pattern_analysis"
   ]
  },
  {
   "cell_type": "code",
   "execution_count": 1,
   "metadata": {},
   "outputs": [],
   "source": [
    "import sherpa"
   ]
  },
  {
   "cell_type": "code",
   "execution_count": 6,
   "metadata": {},
   "outputs": [],
   "source": [
    "dir_study = './hyperparameter_tuning_RandomSearch_SHERPA/20220322_tphystnd-957.49'"
   ]
  },
  {
   "cell_type": "code",
   "execution_count": 7,
   "metadata": {},
   "outputs": [
    {
     "name": "stderr",
     "output_type": "stream",
     "text": [
      "INFO:sherpa.core:\n",
      "-------------------------------------------------------\n",
      "SHERPA Dashboard running. Access via\n",
      "http://10.50.10.23:8882 or \n",
      "http://m11542:8882 if on a cluster, or \n",
      "http://localhost:8882 if running locally.\n",
      "-------------------------------------------------------\n"
     ]
    },
    {
     "name": "stdout",
     "output_type": "stream",
     "text": [
      " * Serving Flask app \"sherpa.app.app\" (lazy loading)\n",
      " * Environment: production\n",
      "\u001b[31m   WARNING: This is a development server. Do not use it in a production deployment.\u001b[0m\n",
      "\u001b[2m   Use a production WSGI server instead.\u001b[0m\n",
      " * Debug mode: on\n"
     ]
    },
    {
     "name": "stderr",
     "output_type": "stream",
     "text": [
      "WARNING:werkzeug: * Running on all addresses.\n",
      "   WARNING: This is a development server. Do not use it in a production deployment.\n"
     ]
    }
   ],
   "source": [
    "study = sherpa.Study.load_dashboard(dir_study)"
   ]
  },
  {
   "cell_type": "markdown",
   "metadata": {},
   "source": []
  },
  {
   "cell_type": "code",
   "execution_count": null,
   "metadata": {},
   "outputs": [],
   "source": []
  },
  {
   "cell_type": "code",
   "execution_count": null,
   "metadata": {},
   "outputs": [],
   "source": []
  }
 ],
 "metadata": {
  "kernelspec": {
   "display_name": "causalnncam",
   "language": "python",
   "name": "causalnncam"
  },
  "language_info": {
   "codemirror_mode": {
    "name": "ipython",
    "version": 3
   },
   "file_extension": ".py",
   "mimetype": "text/x-python",
   "name": "python",
   "nbconvert_exporter": "python",
   "pygments_lexer": "ipython3",
   "version": "3.8.13"
  }
 },
 "nbformat": 4,
 "nbformat_minor": 4
}
