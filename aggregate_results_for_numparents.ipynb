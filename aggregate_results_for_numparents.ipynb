{
 "cells": [
  {
   "cell_type": "markdown",
   "metadata": {},
   "source": [
    "# Analysis\n",
    "Similar to aggregate_results, but for either random links or correlated links using the number of parents from a causal case (e.g., quantile-threshold = 0.59). Produces correlation and random matrix plots."
   ]
  },
  {
   "cell_type": "markdown",
   "metadata": {},
   "source": [
    "# Main program"
   ]
  },
  {
   "cell_type": "markdown",
   "metadata": {},
   "source": [
    "## Specifications"
   ]
  },
  {
   "cell_type": "code",
   "execution_count": 1,
   "metadata": {
    "collapsed": true,
    "jupyter": {
     "outputs_hidden": true
    },
    "tags": []
   },
   "outputs": [
    {
     "name": "stderr",
     "output_type": "stream",
     "text": [
      "/work/bd1179/b309172/mambaforge/envs/causalnncam/lib/python3.8/site-packages/tigramite-5.0.1.5-py3.8.egg/tigramite/independence_tests/gpdc.py:27: UserWarning: [Errno 2] No such file or directory: '/work/bd1179/b309172/mambaforge/envs/causalnncam/lib/python3.8/site-packages/tigramite-5.0.1.5-py3.8.egg/tigramite/independence_tests/../../versions.py'\n",
      "  warnings.warn(str(e))\n",
      "/work/bd1179/b309172/mambaforge/envs/causalnncam/lib/python3.8/site-packages/tigramite-5.0.1.5-py3.8.egg/tigramite/independence_tests/gpdc_torch.py:33: UserWarning: No module named 'torch'\n",
      "  warnings.warn(str(e))\n",
      "/work/bd1179/b309172/mambaforge/envs/causalnncam/lib/python3.8/site-packages/tigramite-5.0.1.5-py3.8.egg/tigramite/plotting.py:26: UserWarning: [Errno 2] No such file or directory: '/work/bd1179/b309172/mambaforge/envs/causalnncam/lib/python3.8/site-packages/tigramite-5.0.1.5-py3.8.egg/tigramite/../versions.py'\n",
      "  warnings.warn(str(e))\n"
     ]
    }
   ],
   "source": [
    "import sys, numpy as np\n",
    "\n",
    "from utils.setup import SetupPCMCIAggregation\n",
    "import utils.pcmci_aggregation as aggregation\n",
    "\n",
    "# argv = ['-c', './nn_config/cfg_aggregate_results_for_numparents.yml']\n",
    "argv = ['-c', './nn_config/cfg_aggregate_results_for_numparents_pearsonr.yml']\n",
    "\n",
    "setup = SetupPCMCIAggregation(argv)\n"
   ]
  },
  {
   "cell_type": "markdown",
   "metadata": {},
   "source": [
    "## Options"
   ]
  },
  {
   "cell_type": "code",
   "execution_count": 2,
   "metadata": {},
   "outputs": [],
   "source": [
    "random         = False \n",
    "threshold_dict = False\n",
    "num_parents    = True\n",
    "masking        = False\n",
    "save           = False"
   ]
  },
  {
   "cell_type": "markdown",
   "metadata": {},
   "source": [
    "## Collect results"
   ]
  },
  {
   "cell_type": "code",
   "execution_count": 4,
   "metadata": {
    "collapsed": true,
    "jupyter": {
     "outputs_hidden": true
    },
    "tags": []
   },
   "outputs": [
    {
     "name": "stdout",
     "output_type": "stream",
     "text": [
      "Variable: tphystnd\n",
      "SPCAM_Rasp_causal_links_3mth_pearsonr_v2/aggregate_pdf/tphystnd-3.64_pearsonr_2021_09_02_TRAIN_For_Nando exists; loading...\n",
      "\n",
      "SPCAM_Rasp_causal_links_3mth_pearsonr_v2/aggregate_pdf/tphystnd-7.59_pearsonr_2021_09_02_TRAIN_For_Nando exists; loading...\n",
      "\n",
      "SPCAM_Rasp_causal_links_3mth_pearsonr_v2/aggregate_pdf/tphystnd-14.36_pearsonr_2021_09_02_TRAIN_For_Nando exists; loading...\n",
      "\n",
      "SPCAM_Rasp_causal_links_3mth_pearsonr_v2/aggregate_pdf/tphystnd-24.61_pearsonr_2021_09_02_TRAIN_For_Nando exists; loading...\n",
      "\n",
      "SPCAM_Rasp_causal_links_3mth_pearsonr_v2/aggregate_pdf/tphystnd-38.27_pearsonr_2021_09_02_TRAIN_For_Nando exists; loading...\n",
      "\n",
      "SPCAM_Rasp_causal_links_3mth_pearsonr_v2/aggregate_pdf/tphystnd-54.6_pearsonr_2021_09_02_TRAIN_For_Nando exists; loading...\n",
      "\n",
      "SPCAM_Rasp_causal_links_3mth_pearsonr_v2/aggregate_pdf/tphystnd-72.01_pearsonr_2021_09_02_TRAIN_For_Nando exists; loading...\n",
      "\n",
      "SPCAM_Rasp_causal_links_3mth_pearsonr_v2/aggregate_pdf/tphystnd-87.82_pearsonr_2021_09_02_TRAIN_For_Nando exists; loading...\n",
      "\n",
      "SPCAM_Rasp_causal_links_3mth_pearsonr_v2/aggregate_pdf/tphystnd-103.32_pearsonr_2021_09_02_TRAIN_For_Nando exists; loading...\n",
      "\n",
      "SPCAM_Rasp_causal_links_3mth_pearsonr_v2/aggregate_pdf/tphystnd-121.55_pearsonr_2021_09_02_TRAIN_For_Nando exists; loading...\n",
      "\n",
      "SPCAM_Rasp_causal_links_3mth_pearsonr_v2/aggregate_pdf/tphystnd-142.99_pearsonr_2021_09_02_TRAIN_For_Nando exists; loading...\n",
      "\n",
      "SPCAM_Rasp_causal_links_3mth_pearsonr_v2/aggregate_pdf/tphystnd-168.23_pearsonr_2021_09_02_TRAIN_For_Nando exists; loading...\n",
      "\n",
      "SPCAM_Rasp_causal_links_3mth_pearsonr_v2/aggregate_pdf/tphystnd-197.91_pearsonr_2021_09_02_TRAIN_For_Nando exists; loading...\n",
      "\n",
      "SPCAM_Rasp_causal_links_3mth_pearsonr_v2/aggregate_pdf/tphystnd-232.83_pearsonr_2021_09_02_TRAIN_For_Nando exists; loading...\n",
      "\n",
      "SPCAM_Rasp_causal_links_3mth_pearsonr_v2/aggregate_pdf/tphystnd-273.91_pearsonr_2021_09_02_TRAIN_For_Nando exists; loading...\n",
      "\n",
      "SPCAM_Rasp_causal_links_3mth_pearsonr_v2/aggregate_pdf/tphystnd-322.24_pearsonr_2021_09_02_TRAIN_For_Nando exists; loading...\n",
      "\n",
      "SPCAM_Rasp_causal_links_3mth_pearsonr_v2/aggregate_pdf/tphystnd-379.1_pearsonr_2021_09_02_TRAIN_For_Nando exists; loading...\n",
      "\n",
      "SPCAM_Rasp_causal_links_3mth_pearsonr_v2/aggregate_pdf/tphystnd-445.99_pearsonr_2021_09_02_TRAIN_For_Nando exists; loading...\n",
      "\n",
      "SPCAM_Rasp_causal_links_3mth_pearsonr_v2/aggregate_pdf/tphystnd-524.69_pearsonr_2021_09_02_TRAIN_For_Nando exists; loading...\n",
      "\n",
      "SPCAM_Rasp_causal_links_3mth_pearsonr_v2/aggregate_pdf/tphystnd-609.78_pearsonr_2021_09_02_TRAIN_For_Nando exists; loading...\n",
      "\n",
      "SPCAM_Rasp_causal_links_3mth_pearsonr_v2/aggregate_pdf/tphystnd-691.39_pearsonr_2021_09_02_TRAIN_For_Nando exists; loading...\n",
      "\n",
      "SPCAM_Rasp_causal_links_3mth_pearsonr_v2/aggregate_pdf/tphystnd-763.4_pearsonr_2021_09_02_TRAIN_For_Nando exists; loading...\n",
      "\n",
      "SPCAM_Rasp_causal_links_3mth_pearsonr_v2/aggregate_pdf/tphystnd-820.86_pearsonr_2021_09_02_TRAIN_For_Nando exists; loading...\n",
      "\n",
      "SPCAM_Rasp_causal_links_3mth_pearsonr_v2/aggregate_pdf/tphystnd-859.53_pearsonr_2021_09_02_TRAIN_For_Nando exists; loading...\n",
      "\n",
      "SPCAM_Rasp_causal_links_3mth_pearsonr_v2/aggregate_pdf/tphystnd-887.02_pearsonr_2021_09_02_TRAIN_For_Nando exists; loading...\n",
      "\n",
      "SPCAM_Rasp_causal_links_3mth_pearsonr_v2/aggregate_pdf/tphystnd-912.64_pearsonr_2021_09_02_TRAIN_For_Nando exists; loading...\n",
      "\n",
      "SPCAM_Rasp_causal_links_3mth_pearsonr_v2/aggregate_pdf/tphystnd-936.2_pearsonr_2021_09_02_TRAIN_For_Nando exists; loading...\n",
      "\n",
      "SPCAM_Rasp_causal_links_3mth_pearsonr_v2/aggregate_pdf/tphystnd-957.49_pearsonr_2021_09_02_TRAIN_For_Nando exists; loading...\n",
      "\n",
      "SPCAM_Rasp_causal_links_3mth_pearsonr_v2/aggregate_pdf/tphystnd-976.33_pearsonr_2021_09_02_TRAIN_For_Nando exists; loading...\n",
      "\n",
      "SPCAM_Rasp_causal_links_3mth_pearsonr_v2/aggregate_pdf/tphystnd-992.56_pearsonr_2021_09_02_TRAIN_For_Nando exists; loading...\n",
      "\n",
      "Variable: phq\n",
      "SPCAM_Rasp_causal_links_3mth_pearsonr_v2/aggregate_pdf/phq-3.64_pearsonr_2021_09_02_TRAIN_For_Nando exists; loading...\n",
      "\n",
      "SPCAM_Rasp_causal_links_3mth_pearsonr_v2/aggregate_pdf/phq-7.59_pearsonr_2021_09_02_TRAIN_For_Nando exists; loading...\n",
      "\n",
      "SPCAM_Rasp_causal_links_3mth_pearsonr_v2/aggregate_pdf/phq-14.36_pearsonr_2021_09_02_TRAIN_For_Nando exists; loading...\n",
      "\n",
      "SPCAM_Rasp_causal_links_3mth_pearsonr_v2/aggregate_pdf/phq-24.61_pearsonr_2021_09_02_TRAIN_For_Nando exists; loading...\n",
      "\n",
      "SPCAM_Rasp_causal_links_3mth_pearsonr_v2/aggregate_pdf/phq-38.27_pearsonr_2021_09_02_TRAIN_For_Nando exists; loading...\n",
      "\n",
      "SPCAM_Rasp_causal_links_3mth_pearsonr_v2/aggregate_pdf/phq-54.6_pearsonr_2021_09_02_TRAIN_For_Nando exists; loading...\n",
      "\n",
      "SPCAM_Rasp_causal_links_3mth_pearsonr_v2/aggregate_pdf/phq-72.01_pearsonr_2021_09_02_TRAIN_For_Nando exists; loading...\n",
      "\n",
      "SPCAM_Rasp_causal_links_3mth_pearsonr_v2/aggregate_pdf/phq-87.82_pearsonr_2021_09_02_TRAIN_For_Nando exists; loading...\n",
      "\n",
      "SPCAM_Rasp_causal_links_3mth_pearsonr_v2/aggregate_pdf/phq-103.32_pearsonr_2021_09_02_TRAIN_For_Nando exists; loading...\n",
      "\n",
      "SPCAM_Rasp_causal_links_3mth_pearsonr_v2/aggregate_pdf/phq-121.55_pearsonr_2021_09_02_TRAIN_For_Nando exists; loading...\n",
      "\n",
      "SPCAM_Rasp_causal_links_3mth_pearsonr_v2/aggregate_pdf/phq-142.99_pearsonr_2021_09_02_TRAIN_For_Nando exists; loading...\n",
      "\n",
      "SPCAM_Rasp_causal_links_3mth_pearsonr_v2/aggregate_pdf/phq-168.23_pearsonr_2021_09_02_TRAIN_For_Nando exists; loading...\n",
      "\n",
      "SPCAM_Rasp_causal_links_3mth_pearsonr_v2/aggregate_pdf/phq-197.91_pearsonr_2021_09_02_TRAIN_For_Nando exists; loading...\n",
      "\n",
      "SPCAM_Rasp_causal_links_3mth_pearsonr_v2/aggregate_pdf/phq-232.83_pearsonr_2021_09_02_TRAIN_For_Nando exists; loading...\n",
      "\n",
      "SPCAM_Rasp_causal_links_3mth_pearsonr_v2/aggregate_pdf/phq-273.91_pearsonr_2021_09_02_TRAIN_For_Nando exists; loading...\n",
      "\n",
      "SPCAM_Rasp_causal_links_3mth_pearsonr_v2/aggregate_pdf/phq-322.24_pearsonr_2021_09_02_TRAIN_For_Nando exists; loading...\n",
      "\n",
      "SPCAM_Rasp_causal_links_3mth_pearsonr_v2/aggregate_pdf/phq-379.1_pearsonr_2021_09_02_TRAIN_For_Nando exists; loading...\n",
      "\n",
      "SPCAM_Rasp_causal_links_3mth_pearsonr_v2/aggregate_pdf/phq-445.99_pearsonr_2021_09_02_TRAIN_For_Nando exists; loading...\n",
      "\n",
      "SPCAM_Rasp_causal_links_3mth_pearsonr_v2/aggregate_pdf/phq-524.69_pearsonr_2021_09_02_TRAIN_For_Nando exists; loading...\n",
      "\n",
      "SPCAM_Rasp_causal_links_3mth_pearsonr_v2/aggregate_pdf/phq-609.78_pearsonr_2021_09_02_TRAIN_For_Nando exists; loading...\n",
      "\n",
      "SPCAM_Rasp_causal_links_3mth_pearsonr_v2/aggregate_pdf/phq-691.39_pearsonr_2021_09_02_TRAIN_For_Nando exists; loading...\n",
      "\n",
      "SPCAM_Rasp_causal_links_3mth_pearsonr_v2/aggregate_pdf/phq-763.4_pearsonr_2021_09_02_TRAIN_For_Nando exists; loading...\n",
      "\n",
      "SPCAM_Rasp_causal_links_3mth_pearsonr_v2/aggregate_pdf/phq-820.86_pearsonr_2021_09_02_TRAIN_For_Nando exists; loading...\n",
      "\n",
      "SPCAM_Rasp_causal_links_3mth_pearsonr_v2/aggregate_pdf/phq-859.53_pearsonr_2021_09_02_TRAIN_For_Nando exists; loading...\n",
      "\n",
      "SPCAM_Rasp_causal_links_3mth_pearsonr_v2/aggregate_pdf/phq-887.02_pearsonr_2021_09_02_TRAIN_For_Nando exists; loading...\n",
      "\n",
      "SPCAM_Rasp_causal_links_3mth_pearsonr_v2/aggregate_pdf/phq-912.64_pearsonr_2021_09_02_TRAIN_For_Nando exists; loading...\n",
      "\n",
      "SPCAM_Rasp_causal_links_3mth_pearsonr_v2/aggregate_pdf/phq-936.2_pearsonr_2021_09_02_TRAIN_For_Nando exists; loading...\n",
      "\n",
      "SPCAM_Rasp_causal_links_3mth_pearsonr_v2/aggregate_pdf/phq-957.49_pearsonr_2021_09_02_TRAIN_For_Nando exists; loading...\n",
      "\n",
      "SPCAM_Rasp_causal_links_3mth_pearsonr_v2/aggregate_pdf/phq-976.33_pearsonr_2021_09_02_TRAIN_For_Nando exists; loading...\n",
      "\n",
      "SPCAM_Rasp_causal_links_3mth_pearsonr_v2/aggregate_pdf/phq-992.56_pearsonr_2021_09_02_TRAIN_For_Nando exists; loading...\n",
      "\n",
      "Variable: fsnt\n",
      "SPCAM_Rasp_causal_links_3mth_pearsonr_v2/aggregate_pdf/fsnt_pearsonr_2021_09_02_TRAIN_For_Nando exists; loading...\n",
      "\n",
      "Variable: fsns\n",
      "SPCAM_Rasp_causal_links_3mth_pearsonr_v2/aggregate_pdf/fsns_pearsonr_2021_09_02_TRAIN_For_Nando exists; loading...\n",
      "\n",
      "Variable: flnt\n",
      "SPCAM_Rasp_causal_links_3mth_pearsonr_v2/aggregate_pdf/flnt_pearsonr_2021_09_02_TRAIN_For_Nando exists; loading...\n",
      "\n",
      "Variable: flns\n",
      "SPCAM_Rasp_causal_links_3mth_pearsonr_v2/aggregate_pdf/flns_pearsonr_2021_09_02_TRAIN_For_Nando exists; loading...\n",
      "\n",
      "Variable: prect\n",
      "SPCAM_Rasp_causal_links_3mth_pearsonr_v2/aggregate_pdf/prect_pearsonr_2021_09_02_TRAIN_For_Nando exists; loading...\n",
      "\n",
      "ERRORS\n",
      "======\n",
      "not_found: 128 files\n",
      "--------------------\n",
      "SPCAM_Rasp_causal_links_3mth_pearsonr_v2/prect_1_lat-54_lon-0_pearsonr_2021_09_02_TRAIN_For_Nando.obj\n",
      "SPCAM_Rasp_causal_links_3mth_pearsonr_v2/prect_1_lat-54_lon-2_pearsonr_2021_09_02_TRAIN_For_Nando.obj\n",
      "SPCAM_Rasp_causal_links_3mth_pearsonr_v2/prect_1_lat-54_lon-5_pearsonr_2021_09_02_TRAIN_For_Nando.obj\n",
      "SPCAM_Rasp_causal_links_3mth_pearsonr_v2/prect_1_lat-54_lon-8_pearsonr_2021_09_02_TRAIN_For_Nando.obj\n",
      "SPCAM_Rasp_causal_links_3mth_pearsonr_v2/prect_1_lat-54_lon-11_pearsonr_2021_09_02_TRAIN_For_Nando.obj\n",
      "SPCAM_Rasp_causal_links_3mth_pearsonr_v2/prect_1_lat-54_lon-14_pearsonr_2021_09_02_TRAIN_For_Nando.obj\n",
      "SPCAM_Rasp_causal_links_3mth_pearsonr_v2/prect_1_lat-54_lon-16_pearsonr_2021_09_02_TRAIN_For_Nando.obj\n",
      "SPCAM_Rasp_causal_links_3mth_pearsonr_v2/prect_1_lat-54_lon-19_pearsonr_2021_09_02_TRAIN_For_Nando.obj\n",
      "SPCAM_Rasp_causal_links_3mth_pearsonr_v2/prect_1_lat-54_lon-22_pearsonr_2021_09_02_TRAIN_For_Nando.obj\n",
      "SPCAM_Rasp_causal_links_3mth_pearsonr_v2/prect_1_lat-54_lon-25_pearsonr_2021_09_02_TRAIN_For_Nando.obj\n",
      "SPCAM_Rasp_causal_links_3mth_pearsonr_v2/prect_1_lat-54_lon-28_pearsonr_2021_09_02_TRAIN_For_Nando.obj\n",
      "SPCAM_Rasp_causal_links_3mth_pearsonr_v2/prect_1_lat-54_lon-30_pearsonr_2021_09_02_TRAIN_For_Nando.obj\n",
      "SPCAM_Rasp_causal_links_3mth_pearsonr_v2/prect_1_lat-54_lon-33_pearsonr_2021_09_02_TRAIN_For_Nando.obj\n",
      "SPCAM_Rasp_causal_links_3mth_pearsonr_v2/prect_1_lat-54_lon-36_pearsonr_2021_09_02_TRAIN_For_Nando.obj\n",
      "SPCAM_Rasp_causal_links_3mth_pearsonr_v2/prect_1_lat-54_lon-39_pearsonr_2021_09_02_TRAIN_For_Nando.obj\n",
      "SPCAM_Rasp_causal_links_3mth_pearsonr_v2/prect_1_lat-54_lon-42_pearsonr_2021_09_02_TRAIN_For_Nando.obj\n",
      "SPCAM_Rasp_causal_links_3mth_pearsonr_v2/prect_1_lat-54_lon-45_pearsonr_2021_09_02_TRAIN_For_Nando.obj\n",
      "SPCAM_Rasp_causal_links_3mth_pearsonr_v2/prect_1_lat-54_lon-47_pearsonr_2021_09_02_TRAIN_For_Nando.obj\n",
      "SPCAM_Rasp_causal_links_3mth_pearsonr_v2/prect_1_lat-54_lon-50_pearsonr_2021_09_02_TRAIN_For_Nando.obj\n",
      "SPCAM_Rasp_causal_links_3mth_pearsonr_v2/prect_1_lat-54_lon-53_pearsonr_2021_09_02_TRAIN_For_Nando.obj\n",
      "SPCAM_Rasp_causal_links_3mth_pearsonr_v2/prect_1_lat-54_lon-56_pearsonr_2021_09_02_TRAIN_For_Nando.obj\n",
      "SPCAM_Rasp_causal_links_3mth_pearsonr_v2/prect_1_lat-54_lon-59_pearsonr_2021_09_02_TRAIN_For_Nando.obj\n",
      "SPCAM_Rasp_causal_links_3mth_pearsonr_v2/prect_1_lat-54_lon-61_pearsonr_2021_09_02_TRAIN_For_Nando.obj\n",
      "SPCAM_Rasp_causal_links_3mth_pearsonr_v2/prect_1_lat-54_lon-64_pearsonr_2021_09_02_TRAIN_For_Nando.obj\n",
      "SPCAM_Rasp_causal_links_3mth_pearsonr_v2/prect_1_lat-54_lon-67_pearsonr_2021_09_02_TRAIN_For_Nando.obj\n",
      "SPCAM_Rasp_causal_links_3mth_pearsonr_v2/prect_1_lat-54_lon-70_pearsonr_2021_09_02_TRAIN_For_Nando.obj\n",
      "SPCAM_Rasp_causal_links_3mth_pearsonr_v2/prect_1_lat-54_lon-73_pearsonr_2021_09_02_TRAIN_For_Nando.obj\n",
      "SPCAM_Rasp_causal_links_3mth_pearsonr_v2/prect_1_lat-54_lon-75_pearsonr_2021_09_02_TRAIN_For_Nando.obj\n",
      "SPCAM_Rasp_causal_links_3mth_pearsonr_v2/prect_1_lat-54_lon-78_pearsonr_2021_09_02_TRAIN_For_Nando.obj\n",
      "SPCAM_Rasp_causal_links_3mth_pearsonr_v2/prect_1_lat-54_lon-81_pearsonr_2021_09_02_TRAIN_For_Nando.obj\n",
      "SPCAM_Rasp_causal_links_3mth_pearsonr_v2/prect_1_lat-54_lon-84_pearsonr_2021_09_02_TRAIN_For_Nando.obj\n",
      "SPCAM_Rasp_causal_links_3mth_pearsonr_v2/prect_1_lat-54_lon-87_pearsonr_2021_09_02_TRAIN_For_Nando.obj\n",
      "SPCAM_Rasp_causal_links_3mth_pearsonr_v2/prect_1_lat-54_lon-90_pearsonr_2021_09_02_TRAIN_For_Nando.obj\n",
      "SPCAM_Rasp_causal_links_3mth_pearsonr_v2/prect_1_lat-54_lon-92_pearsonr_2021_09_02_TRAIN_For_Nando.obj\n",
      "SPCAM_Rasp_causal_links_3mth_pearsonr_v2/prect_1_lat-54_lon-95_pearsonr_2021_09_02_TRAIN_For_Nando.obj\n",
      "SPCAM_Rasp_causal_links_3mth_pearsonr_v2/prect_1_lat-54_lon-98_pearsonr_2021_09_02_TRAIN_For_Nando.obj\n",
      "SPCAM_Rasp_causal_links_3mth_pearsonr_v2/prect_1_lat-54_lon-101_pearsonr_2021_09_02_TRAIN_For_Nando.obj\n",
      "SPCAM_Rasp_causal_links_3mth_pearsonr_v2/prect_1_lat-54_lon-104_pearsonr_2021_09_02_TRAIN_For_Nando.obj\n",
      "SPCAM_Rasp_causal_links_3mth_pearsonr_v2/prect_1_lat-54_lon-106_pearsonr_2021_09_02_TRAIN_For_Nando.obj\n",
      "SPCAM_Rasp_causal_links_3mth_pearsonr_v2/prect_1_lat-54_lon-109_pearsonr_2021_09_02_TRAIN_For_Nando.obj\n",
      "SPCAM_Rasp_causal_links_3mth_pearsonr_v2/prect_1_lat-54_lon-112_pearsonr_2021_09_02_TRAIN_For_Nando.obj\n",
      "SPCAM_Rasp_causal_links_3mth_pearsonr_v2/prect_1_lat-54_lon-115_pearsonr_2021_09_02_TRAIN_For_Nando.obj\n",
      "SPCAM_Rasp_causal_links_3mth_pearsonr_v2/prect_1_lat-54_lon-118_pearsonr_2021_09_02_TRAIN_For_Nando.obj\n",
      "SPCAM_Rasp_causal_links_3mth_pearsonr_v2/prect_1_lat-54_lon-120_pearsonr_2021_09_02_TRAIN_For_Nando.obj\n",
      "SPCAM_Rasp_causal_links_3mth_pearsonr_v2/prect_1_lat-54_lon-123_pearsonr_2021_09_02_TRAIN_For_Nando.obj\n",
      "SPCAM_Rasp_causal_links_3mth_pearsonr_v2/prect_1_lat-54_lon-126_pearsonr_2021_09_02_TRAIN_For_Nando.obj\n",
      "SPCAM_Rasp_causal_links_3mth_pearsonr_v2/prect_1_lat-54_lon-129_pearsonr_2021_09_02_TRAIN_For_Nando.obj\n",
      "SPCAM_Rasp_causal_links_3mth_pearsonr_v2/prect_1_lat-54_lon-132_pearsonr_2021_09_02_TRAIN_For_Nando.obj\n",
      "SPCAM_Rasp_causal_links_3mth_pearsonr_v2/prect_1_lat-54_lon-135_pearsonr_2021_09_02_TRAIN_For_Nando.obj\n",
      "SPCAM_Rasp_causal_links_3mth_pearsonr_v2/prect_1_lat-54_lon-137_pearsonr_2021_09_02_TRAIN_For_Nando.obj\n",
      "SPCAM_Rasp_causal_links_3mth_pearsonr_v2/prect_1_lat-54_lon-140_pearsonr_2021_09_02_TRAIN_For_Nando.obj\n",
      "SPCAM_Rasp_causal_links_3mth_pearsonr_v2/prect_1_lat-54_lon-143_pearsonr_2021_09_02_TRAIN_For_Nando.obj\n",
      "SPCAM_Rasp_causal_links_3mth_pearsonr_v2/prect_1_lat-54_lon-146_pearsonr_2021_09_02_TRAIN_For_Nando.obj\n",
      "SPCAM_Rasp_causal_links_3mth_pearsonr_v2/prect_1_lat-54_lon-149_pearsonr_2021_09_02_TRAIN_For_Nando.obj\n",
      "SPCAM_Rasp_causal_links_3mth_pearsonr_v2/prect_1_lat-54_lon-151_pearsonr_2021_09_02_TRAIN_For_Nando.obj\n",
      "SPCAM_Rasp_causal_links_3mth_pearsonr_v2/prect_1_lat-54_lon-154_pearsonr_2021_09_02_TRAIN_For_Nando.obj\n",
      "SPCAM_Rasp_causal_links_3mth_pearsonr_v2/prect_1_lat-54_lon-157_pearsonr_2021_09_02_TRAIN_For_Nando.obj\n",
      "SPCAM_Rasp_causal_links_3mth_pearsonr_v2/prect_1_lat-54_lon-160_pearsonr_2021_09_02_TRAIN_For_Nando.obj\n",
      "SPCAM_Rasp_causal_links_3mth_pearsonr_v2/prect_1_lat-54_lon-163_pearsonr_2021_09_02_TRAIN_For_Nando.obj\n",
      "SPCAM_Rasp_causal_links_3mth_pearsonr_v2/prect_1_lat-54_lon-165_pearsonr_2021_09_02_TRAIN_For_Nando.obj\n",
      "SPCAM_Rasp_causal_links_3mth_pearsonr_v2/prect_1_lat-54_lon-168_pearsonr_2021_09_02_TRAIN_For_Nando.obj\n",
      "SPCAM_Rasp_causal_links_3mth_pearsonr_v2/prect_1_lat-54_lon-171_pearsonr_2021_09_02_TRAIN_For_Nando.obj\n",
      "SPCAM_Rasp_causal_links_3mth_pearsonr_v2/prect_1_lat-54_lon-174_pearsonr_2021_09_02_TRAIN_For_Nando.obj\n",
      "SPCAM_Rasp_causal_links_3mth_pearsonr_v2/prect_1_lat-54_lon-177_pearsonr_2021_09_02_TRAIN_For_Nando.obj\n",
      "SPCAM_Rasp_causal_links_3mth_pearsonr_v2/prect_1_lat-54_lon-180_pearsonr_2021_09_02_TRAIN_For_Nando.obj\n",
      "SPCAM_Rasp_causal_links_3mth_pearsonr_v2/prect_1_lat-54_lon-182_pearsonr_2021_09_02_TRAIN_For_Nando.obj\n",
      "SPCAM_Rasp_causal_links_3mth_pearsonr_v2/prect_1_lat-54_lon-185_pearsonr_2021_09_02_TRAIN_For_Nando.obj\n",
      "SPCAM_Rasp_causal_links_3mth_pearsonr_v2/prect_1_lat-54_lon-188_pearsonr_2021_09_02_TRAIN_For_Nando.obj\n",
      "SPCAM_Rasp_causal_links_3mth_pearsonr_v2/prect_1_lat-54_lon-191_pearsonr_2021_09_02_TRAIN_For_Nando.obj\n",
      "SPCAM_Rasp_causal_links_3mth_pearsonr_v2/prect_1_lat-54_lon-194_pearsonr_2021_09_02_TRAIN_For_Nando.obj\n",
      "SPCAM_Rasp_causal_links_3mth_pearsonr_v2/prect_1_lat-54_lon-196_pearsonr_2021_09_02_TRAIN_For_Nando.obj\n",
      "SPCAM_Rasp_causal_links_3mth_pearsonr_v2/prect_1_lat-54_lon-199_pearsonr_2021_09_02_TRAIN_For_Nando.obj\n",
      "SPCAM_Rasp_causal_links_3mth_pearsonr_v2/prect_1_lat-54_lon-202_pearsonr_2021_09_02_TRAIN_For_Nando.obj\n",
      "SPCAM_Rasp_causal_links_3mth_pearsonr_v2/prect_1_lat-54_lon-205_pearsonr_2021_09_02_TRAIN_For_Nando.obj\n",
      "SPCAM_Rasp_causal_links_3mth_pearsonr_v2/prect_1_lat-54_lon-208_pearsonr_2021_09_02_TRAIN_For_Nando.obj\n",
      "SPCAM_Rasp_causal_links_3mth_pearsonr_v2/prect_1_lat-54_lon-210_pearsonr_2021_09_02_TRAIN_For_Nando.obj\n",
      "SPCAM_Rasp_causal_links_3mth_pearsonr_v2/prect_1_lat-54_lon-213_pearsonr_2021_09_02_TRAIN_For_Nando.obj\n",
      "SPCAM_Rasp_causal_links_3mth_pearsonr_v2/prect_1_lat-54_lon-216_pearsonr_2021_09_02_TRAIN_For_Nando.obj\n",
      "SPCAM_Rasp_causal_links_3mth_pearsonr_v2/prect_1_lat-54_lon-219_pearsonr_2021_09_02_TRAIN_For_Nando.obj\n",
      "SPCAM_Rasp_causal_links_3mth_pearsonr_v2/prect_1_lat-54_lon-222_pearsonr_2021_09_02_TRAIN_For_Nando.obj\n",
      "SPCAM_Rasp_causal_links_3mth_pearsonr_v2/prect_1_lat-54_lon-225_pearsonr_2021_09_02_TRAIN_For_Nando.obj\n",
      "SPCAM_Rasp_causal_links_3mth_pearsonr_v2/prect_1_lat-54_lon-227_pearsonr_2021_09_02_TRAIN_For_Nando.obj\n",
      "SPCAM_Rasp_causal_links_3mth_pearsonr_v2/prect_1_lat-54_lon-230_pearsonr_2021_09_02_TRAIN_For_Nando.obj\n",
      "SPCAM_Rasp_causal_links_3mth_pearsonr_v2/prect_1_lat-54_lon-233_pearsonr_2021_09_02_TRAIN_For_Nando.obj\n",
      "SPCAM_Rasp_causal_links_3mth_pearsonr_v2/prect_1_lat-54_lon-236_pearsonr_2021_09_02_TRAIN_For_Nando.obj\n",
      "SPCAM_Rasp_causal_links_3mth_pearsonr_v2/prect_1_lat-54_lon-239_pearsonr_2021_09_02_TRAIN_For_Nando.obj\n",
      "SPCAM_Rasp_causal_links_3mth_pearsonr_v2/prect_1_lat-54_lon-241_pearsonr_2021_09_02_TRAIN_For_Nando.obj\n",
      "SPCAM_Rasp_causal_links_3mth_pearsonr_v2/prect_1_lat-54_lon-244_pearsonr_2021_09_02_TRAIN_For_Nando.obj\n",
      "SPCAM_Rasp_causal_links_3mth_pearsonr_v2/prect_1_lat-54_lon-247_pearsonr_2021_09_02_TRAIN_For_Nando.obj\n",
      "SPCAM_Rasp_causal_links_3mth_pearsonr_v2/prect_1_lat-54_lon-250_pearsonr_2021_09_02_TRAIN_For_Nando.obj\n",
      "SPCAM_Rasp_causal_links_3mth_pearsonr_v2/prect_1_lat-54_lon-253_pearsonr_2021_09_02_TRAIN_For_Nando.obj\n",
      "SPCAM_Rasp_causal_links_3mth_pearsonr_v2/prect_1_lat-54_lon-255_pearsonr_2021_09_02_TRAIN_For_Nando.obj\n",
      "SPCAM_Rasp_causal_links_3mth_pearsonr_v2/prect_1_lat-54_lon-258_pearsonr_2021_09_02_TRAIN_For_Nando.obj\n",
      "SPCAM_Rasp_causal_links_3mth_pearsonr_v2/prect_1_lat-54_lon-261_pearsonr_2021_09_02_TRAIN_For_Nando.obj\n",
      "SPCAM_Rasp_causal_links_3mth_pearsonr_v2/prect_1_lat-54_lon-264_pearsonr_2021_09_02_TRAIN_For_Nando.obj\n",
      "SPCAM_Rasp_causal_links_3mth_pearsonr_v2/prect_1_lat-54_lon-267_pearsonr_2021_09_02_TRAIN_For_Nando.obj\n",
      "SPCAM_Rasp_causal_links_3mth_pearsonr_v2/prect_1_lat-54_lon-270_pearsonr_2021_09_02_TRAIN_For_Nando.obj\n",
      "SPCAM_Rasp_causal_links_3mth_pearsonr_v2/prect_1_lat-54_lon-272_pearsonr_2021_09_02_TRAIN_For_Nando.obj\n",
      "SPCAM_Rasp_causal_links_3mth_pearsonr_v2/prect_1_lat-54_lon-275_pearsonr_2021_09_02_TRAIN_For_Nando.obj\n",
      "SPCAM_Rasp_causal_links_3mth_pearsonr_v2/prect_1_lat-54_lon-278_pearsonr_2021_09_02_TRAIN_For_Nando.obj\n",
      "SPCAM_Rasp_causal_links_3mth_pearsonr_v2/prect_1_lat-54_lon-281_pearsonr_2021_09_02_TRAIN_For_Nando.obj\n",
      "SPCAM_Rasp_causal_links_3mth_pearsonr_v2/prect_1_lat-54_lon-284_pearsonr_2021_09_02_TRAIN_For_Nando.obj\n",
      "SPCAM_Rasp_causal_links_3mth_pearsonr_v2/prect_1_lat-54_lon-286_pearsonr_2021_09_02_TRAIN_For_Nando.obj\n",
      "SPCAM_Rasp_causal_links_3mth_pearsonr_v2/prect_1_lat-54_lon-289_pearsonr_2021_09_02_TRAIN_For_Nando.obj\n",
      "SPCAM_Rasp_causal_links_3mth_pearsonr_v2/prect_1_lat-54_lon-292_pearsonr_2021_09_02_TRAIN_For_Nando.obj\n",
      "SPCAM_Rasp_causal_links_3mth_pearsonr_v2/prect_1_lat-54_lon-295_pearsonr_2021_09_02_TRAIN_For_Nando.obj\n",
      "SPCAM_Rasp_causal_links_3mth_pearsonr_v2/prect_1_lat-54_lon-298_pearsonr_2021_09_02_TRAIN_For_Nando.obj\n",
      "SPCAM_Rasp_causal_links_3mth_pearsonr_v2/prect_1_lat-54_lon-300_pearsonr_2021_09_02_TRAIN_For_Nando.obj\n",
      "SPCAM_Rasp_causal_links_3mth_pearsonr_v2/prect_1_lat-54_lon-303_pearsonr_2021_09_02_TRAIN_For_Nando.obj\n",
      "SPCAM_Rasp_causal_links_3mth_pearsonr_v2/prect_1_lat-54_lon-306_pearsonr_2021_09_02_TRAIN_For_Nando.obj\n",
      "SPCAM_Rasp_causal_links_3mth_pearsonr_v2/prect_1_lat-54_lon-309_pearsonr_2021_09_02_TRAIN_For_Nando.obj\n",
      "SPCAM_Rasp_causal_links_3mth_pearsonr_v2/prect_1_lat-54_lon-312_pearsonr_2021_09_02_TRAIN_For_Nando.obj\n",
      "SPCAM_Rasp_causal_links_3mth_pearsonr_v2/prect_1_lat-54_lon-315_pearsonr_2021_09_02_TRAIN_For_Nando.obj\n",
      "SPCAM_Rasp_causal_links_3mth_pearsonr_v2/prect_1_lat-54_lon-317_pearsonr_2021_09_02_TRAIN_For_Nando.obj\n",
      "SPCAM_Rasp_causal_links_3mth_pearsonr_v2/prect_1_lat-54_lon-320_pearsonr_2021_09_02_TRAIN_For_Nando.obj\n",
      "SPCAM_Rasp_causal_links_3mth_pearsonr_v2/prect_1_lat-54_lon-323_pearsonr_2021_09_02_TRAIN_For_Nando.obj\n",
      "SPCAM_Rasp_causal_links_3mth_pearsonr_v2/prect_1_lat-54_lon-326_pearsonr_2021_09_02_TRAIN_For_Nando.obj\n",
      "SPCAM_Rasp_causal_links_3mth_pearsonr_v2/prect_1_lat-54_lon-329_pearsonr_2021_09_02_TRAIN_For_Nando.obj\n",
      "SPCAM_Rasp_causal_links_3mth_pearsonr_v2/prect_1_lat-54_lon-331_pearsonr_2021_09_02_TRAIN_For_Nando.obj\n",
      "SPCAM_Rasp_causal_links_3mth_pearsonr_v2/prect_1_lat-54_lon-334_pearsonr_2021_09_02_TRAIN_For_Nando.obj\n",
      "SPCAM_Rasp_causal_links_3mth_pearsonr_v2/prect_1_lat-54_lon-337_pearsonr_2021_09_02_TRAIN_For_Nando.obj\n",
      "SPCAM_Rasp_causal_links_3mth_pearsonr_v2/prect_1_lat-54_lon-340_pearsonr_2021_09_02_TRAIN_For_Nando.obj\n",
      "SPCAM_Rasp_causal_links_3mth_pearsonr_v2/prect_1_lat-54_lon-343_pearsonr_2021_09_02_TRAIN_For_Nando.obj\n",
      "SPCAM_Rasp_causal_links_3mth_pearsonr_v2/prect_1_lat-54_lon-345_pearsonr_2021_09_02_TRAIN_For_Nando.obj\n",
      "SPCAM_Rasp_causal_links_3mth_pearsonr_v2/prect_1_lat-54_lon-348_pearsonr_2021_09_02_TRAIN_For_Nando.obj\n",
      "SPCAM_Rasp_causal_links_3mth_pearsonr_v2/prect_1_lat-54_lon-351_pearsonr_2021_09_02_TRAIN_For_Nando.obj\n",
      "SPCAM_Rasp_causal_links_3mth_pearsonr_v2/prect_1_lat-54_lon-354_pearsonr_2021_09_02_TRAIN_For_Nando.obj\n",
      "SPCAM_Rasp_causal_links_3mth_pearsonr_v2/prect_1_lat-54_lon-357_pearsonr_2021_09_02_TRAIN_For_Nando.obj\n",
      "None\n"
     ]
    }
   ],
   "source": [
    "# collected_results, errors = aggregation.collect_results(setup)\n",
    "collected_results, errors = aggregation.collect_results(setup, reuse=True)\n",
    "print(aggregation.print_errors(errors))"
   ]
  },
  {
   "cell_type": "markdown",
   "metadata": {},
   "source": [
    "## Analyze collected results"
   ]
  },
  {
   "cell_type": "code",
   "execution_count": 5,
   "metadata": {},
   "outputs": [],
   "source": [
    "if threshold_dict:\n",
    "    # Thrs-optimized\n",
    "    thrs_dict = setup.thrs_argv = ['-c', './nn_config/quantile_dicts/001_quantile_thresholds_mse-6.yml']\n",
    "else:\n",
    "    thrs_dict = threshold_dict\n",
    "\n",
    "if random: \n",
    "    setup.independence_test = 'random'\n",
    "else:\n",
    "    setup.numparents_argv = ['-c', './nn_config/quantile_dicts/001_quantile-0.59_numparents.yml']\n",
    "\n",
    "\n",
    "aggregated_results, var_names_parents = aggregation.aggregate_results_for_numparents(\n",
    "    collected_results, setup, thresholds_dict=thrs_dict, random=random\n",
    ")\n"
   ]
  },
  {
   "cell_type": "code",
   "execution_count": 6,
   "metadata": {},
   "outputs": [],
   "source": [
    "def calc_mean_num_parents(aggregated_results):\n",
    "    numparents = []\n",
    "    tot_inputs = len(var_names_parents)\n",
    "    for i, output in enumerate(aggregated_results.keys()):\n",
    "        threshold = 'optimized' if threshold_dict else setup.thresholds[0]\n",
    "        num_parents = aggregated_results[output][str(setup.pc_alphas[0])]['num_parents'][str(threshold)]\n",
    "        numparents.append(num_parents)\n",
    "        # print(f\"{i} {output} num. parents: {num_parents}\")\n",
    "    numparents = np.array(numparents)\n",
    "    print(f\"Mean Num. of Parents is: {numparents.mean()} ({numparents.mean()/tot_inputs * 100.} %)\\n\")\n",
    "    return numparents"
   ]
  },
  {
   "cell_type": "markdown",
   "metadata": {},
   "source": [
    "## Plots"
   ]
  },
  {
   "cell_type": "markdown",
   "metadata": {},
   "source": [
    "### Plot Outputs-Inputs metrics "
   ]
  },
  {
   "cell_type": "code",
   "execution_count": 7,
   "metadata": {},
   "outputs": [
    {
     "data": {
      "image/png": "[encoded data removed]",
      "text/plain": [
       "<Figure size 864x360 with 3 Axes>"
      ]
     },
     "metadata": {
      "needs_background": "light"
     },
     "output_type": "display_data"
    }
   ],
   "source": [
    "aggregation.plot_matrix_results(\n",
    "    var_names_parents, \n",
    "    aggregated_results, \n",
    "    setup, \n",
    "    values='percentage',\n",
    "    threshold_dict=threshold_dict,\n",
    "    num_parents=num_parents,\n",
    "    random=random,\n",
    "    save=save,\n",
    "    masking=masking,\n",
    "    cmap='Reds',\n",
    ")"
   ]
  },
  {
   "cell_type": "code",
   "execution_count": 8,
   "metadata": {},
   "outputs": [
    {
     "name": "stdout",
     "output_type": "stream",
     "text": [
      "Mean Num. of Parents is: 36.353846153846156 (38.67430441898527 %)\n",
      "\n"
     ]
    }
   ],
   "source": [
    "numparents = calc_mean_num_parents(aggregated_results)"
   ]
  },
  {
   "cell_type": "code",
   "execution_count": null,
   "metadata": {},
   "outputs": [],
   "source": []
  }
 ],
 "metadata": {
  "kernelspec": {
   "display_name": "causalnncam",
   "language": "python",
   "name": "causalnncam"
  },
  "language_info": {
   "codemirror_mode": {
    "name": "ipython",
    "version": 3
   },
   "file_extension": ".py",
   "mimetype": "text/x-python",
   "name": "python",
   "nbconvert_exporter": "python",
   "pygments_lexer": "ipython3",
   "version": "3.8.13"
  }
 },
 "nbformat": 4,
 "nbformat_minor": 4
}
