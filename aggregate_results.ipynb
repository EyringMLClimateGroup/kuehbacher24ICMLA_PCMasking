{
 "cells": [
  {
   "cell_type": "markdown",
   "metadata": {},
   "source": [
    "# Analysis\n",
    "Collect, aggregate and evaluate causal links. Produces causal (correlation) matrix plots."
   ]
  },
  {
   "cell_type": "markdown",
   "metadata": {},
   "source": [
    "# Main program"
   ]
  },
  {
   "cell_type": "markdown",
   "metadata": {},
   "source": [
    "## Specifications"
   ]
  },
  {
   "cell_type": "code",
   "execution_count": 4,
   "metadata": {
    "tags": []
   },
   "outputs": [],
   "source": [
    "import sys, yaml, numpy as np\n",
    "from os.path import exists\n",
    "\n",
    "from utils.setup import SetupPCMCIAggregation\n",
    "import utils.pcmci_aggregation as aggregation\n",
    "\n",
    "argv = ['-c', './nn_config/cfg_aggregate_results.yml']\n",
    "# argv = ['-c', './nn_config/cfg_aggregate_results_pearsonr.yml']\n",
    "\n",
    "setup = SetupPCMCIAggregation(argv)\n"
   ]
  },
  {
   "cell_type": "markdown",
   "metadata": {},
   "source": [
    "## Options"
   ]
  },
  {
   "cell_type": "code",
   "execution_count": 5,
   "metadata": {},
   "outputs": [],
   "source": [
    "threshold_dict = False\n",
    "num_parents    = True\n",
    "insets         = False\n",
    "masking        = False\n",
    "save           = False"
   ]
  },
  {
   "cell_type": "markdown",
   "metadata": {},
   "source": [
    "## Collect results"
   ]
  },
  {
   "cell_type": "code",
   "execution_count": 6,
   "metadata": {
    "collapsed": true,
    "jupyter": {
     "outputs_hidden": true
    },
    "tags": []
   },
   "outputs": [
    {
     "name": "stdout",
     "output_type": "stream",
     "text": [
      "Variable: tphystnd\n",
      "SPCAM_Rasp_causal_links_3mth_v2/aggregate_pdf/tphystnd-3.64_parcorr_2021_09_02_TRAIN_For_Nando exists; loading...\n",
      "\n",
      "SPCAM_Rasp_causal_links_3mth_v2/aggregate_pdf/tphystnd-7.59_parcorr_2021_09_02_TRAIN_For_Nando exists; loading...\n",
      "\n",
      "SPCAM_Rasp_causal_links_3mth_v2/aggregate_pdf/tphystnd-14.36_parcorr_2021_09_02_TRAIN_For_Nando exists; loading...\n",
      "\n",
      "SPCAM_Rasp_causal_links_3mth_v2/aggregate_pdf/tphystnd-24.61_parcorr_2021_09_02_TRAIN_For_Nando exists; loading...\n",
      "\n",
      "SPCAM_Rasp_causal_links_3mth_v2/aggregate_pdf/tphystnd-38.27_parcorr_2021_09_02_TRAIN_For_Nando exists; loading...\n",
      "\n",
      "SPCAM_Rasp_causal_links_3mth_v2/aggregate_pdf/tphystnd-54.6_parcorr_2021_09_02_TRAIN_For_Nando exists; loading...\n",
      "\n",
      "SPCAM_Rasp_causal_links_3mth_v2/aggregate_pdf/tphystnd-72.01_parcorr_2021_09_02_TRAIN_For_Nando exists; loading...\n",
      "\n",
      "SPCAM_Rasp_causal_links_3mth_v2/aggregate_pdf/tphystnd-87.82_parcorr_2021_09_02_TRAIN_For_Nando exists; loading...\n",
      "\n",
      "SPCAM_Rasp_causal_links_3mth_v2/aggregate_pdf/tphystnd-103.32_parcorr_2021_09_02_TRAIN_For_Nando exists; loading...\n",
      "\n",
      "SPCAM_Rasp_causal_links_3mth_v2/aggregate_pdf/tphystnd-121.55_parcorr_2021_09_02_TRAIN_For_Nando exists; loading...\n",
      "\n",
      "SPCAM_Rasp_causal_links_3mth_v2/aggregate_pdf/tphystnd-142.99_parcorr_2021_09_02_TRAIN_For_Nando exists; loading...\n",
      "\n",
      "SPCAM_Rasp_causal_links_3mth_v2/aggregate_pdf/tphystnd-168.23_parcorr_2021_09_02_TRAIN_For_Nando exists; loading...\n",
      "\n",
      "SPCAM_Rasp_causal_links_3mth_v2/aggregate_pdf/tphystnd-197.91_parcorr_2021_09_02_TRAIN_For_Nando exists; loading...\n",
      "\n",
      "SPCAM_Rasp_causal_links_3mth_v2/aggregate_pdf/tphystnd-232.83_parcorr_2021_09_02_TRAIN_For_Nando exists; loading...\n",
      "\n",
      "SPCAM_Rasp_causal_links_3mth_v2/aggregate_pdf/tphystnd-273.91_parcorr_2021_09_02_TRAIN_For_Nando exists; loading...\n",
      "\n",
      "SPCAM_Rasp_causal_links_3mth_v2/aggregate_pdf/tphystnd-322.24_parcorr_2021_09_02_TRAIN_For_Nando exists; loading...\n",
      "\n",
      "SPCAM_Rasp_causal_links_3mth_v2/aggregate_pdf/tphystnd-379.1_parcorr_2021_09_02_TRAIN_For_Nando exists; loading...\n",
      "\n",
      "SPCAM_Rasp_causal_links_3mth_v2/aggregate_pdf/tphystnd-445.99_parcorr_2021_09_02_TRAIN_For_Nando exists; loading...\n",
      "\n",
      "SPCAM_Rasp_causal_links_3mth_v2/aggregate_pdf/tphystnd-524.69_parcorr_2021_09_02_TRAIN_For_Nando exists; loading...\n",
      "\n",
      "SPCAM_Rasp_causal_links_3mth_v2/aggregate_pdf/tphystnd-609.78_parcorr_2021_09_02_TRAIN_For_Nando exists; loading...\n",
      "\n",
      "SPCAM_Rasp_causal_links_3mth_v2/aggregate_pdf/tphystnd-691.39_parcorr_2021_09_02_TRAIN_For_Nando exists; loading...\n",
      "\n",
      "SPCAM_Rasp_causal_links_3mth_v2/aggregate_pdf/tphystnd-763.4_parcorr_2021_09_02_TRAIN_For_Nando exists; loading...\n",
      "\n",
      "SPCAM_Rasp_causal_links_3mth_v2/aggregate_pdf/tphystnd-820.86_parcorr_2021_09_02_TRAIN_For_Nando exists; loading...\n",
      "\n",
      "SPCAM_Rasp_causal_links_3mth_v2/aggregate_pdf/tphystnd-859.53_parcorr_2021_09_02_TRAIN_For_Nando exists; loading...\n",
      "\n",
      "SPCAM_Rasp_causal_links_3mth_v2/aggregate_pdf/tphystnd-887.02_parcorr_2021_09_02_TRAIN_For_Nando exists; loading...\n",
      "\n",
      "SPCAM_Rasp_causal_links_3mth_v2/aggregate_pdf/tphystnd-912.64_parcorr_2021_09_02_TRAIN_For_Nando exists; loading...\n",
      "\n",
      "SPCAM_Rasp_causal_links_3mth_v2/aggregate_pdf/tphystnd-936.2_parcorr_2021_09_02_TRAIN_For_Nando exists; loading...\n",
      "\n",
      "SPCAM_Rasp_causal_links_3mth_v2/aggregate_pdf/tphystnd-957.49_parcorr_2021_09_02_TRAIN_For_Nando exists; loading...\n",
      "\n",
      "SPCAM_Rasp_causal_links_3mth_v2/aggregate_pdf/tphystnd-976.33_parcorr_2021_09_02_TRAIN_For_Nando exists; loading...\n",
      "\n",
      "SPCAM_Rasp_causal_links_3mth_v2/aggregate_pdf/tphystnd-992.56_parcorr_2021_09_02_TRAIN_For_Nando exists; loading...\n",
      "\n",
      "Variable: phq\n",
      "SPCAM_Rasp_causal_links_3mth_v2/aggregate_pdf/phq-3.64_parcorr_2021_09_02_TRAIN_For_Nando exists; loading...\n",
      "\n",
      "SPCAM_Rasp_causal_links_3mth_v2/aggregate_pdf/phq-7.59_parcorr_2021_09_02_TRAIN_For_Nando exists; loading...\n",
      "\n",
      "SPCAM_Rasp_causal_links_3mth_v2/aggregate_pdf/phq-14.36_parcorr_2021_09_02_TRAIN_For_Nando exists; loading...\n",
      "\n",
      "SPCAM_Rasp_causal_links_3mth_v2/aggregate_pdf/phq-24.61_parcorr_2021_09_02_TRAIN_For_Nando exists; loading...\n",
      "\n",
      "SPCAM_Rasp_causal_links_3mth_v2/aggregate_pdf/phq-38.27_parcorr_2021_09_02_TRAIN_For_Nando exists; loading...\n",
      "\n",
      "SPCAM_Rasp_causal_links_3mth_v2/aggregate_pdf/phq-54.6_parcorr_2021_09_02_TRAIN_For_Nando exists; loading...\n",
      "\n",
      "SPCAM_Rasp_causal_links_3mth_v2/aggregate_pdf/phq-72.01_parcorr_2021_09_02_TRAIN_For_Nando exists; loading...\n",
      "\n",
      "SPCAM_Rasp_causal_links_3mth_v2/aggregate_pdf/phq-87.82_parcorr_2021_09_02_TRAIN_For_Nando exists; loading...\n",
      "\n",
      "SPCAM_Rasp_causal_links_3mth_v2/aggregate_pdf/phq-103.32_parcorr_2021_09_02_TRAIN_For_Nando exists; loading...\n",
      "\n",
      "SPCAM_Rasp_causal_links_3mth_v2/aggregate_pdf/phq-121.55_parcorr_2021_09_02_TRAIN_For_Nando exists; loading...\n",
      "\n",
      "SPCAM_Rasp_causal_links_3mth_v2/aggregate_pdf/phq-142.99_parcorr_2021_09_02_TRAIN_For_Nando exists; loading...\n",
      "\n",
      "SPCAM_Rasp_causal_links_3mth_v2/aggregate_pdf/phq-168.23_parcorr_2021_09_02_TRAIN_For_Nando exists; loading...\n",
      "\n",
      "SPCAM_Rasp_causal_links_3mth_v2/aggregate_pdf/phq-197.91_parcorr_2021_09_02_TRAIN_For_Nando exists; loading...\n",
      "\n",
      "SPCAM_Rasp_causal_links_3mth_v2/aggregate_pdf/phq-232.83_parcorr_2021_09_02_TRAIN_For_Nando exists; loading...\n",
      "\n",
      "SPCAM_Rasp_causal_links_3mth_v2/aggregate_pdf/phq-273.91_parcorr_2021_09_02_TRAIN_For_Nando exists; loading...\n",
      "\n",
      "SPCAM_Rasp_causal_links_3mth_v2/aggregate_pdf/phq-322.24_parcorr_2021_09_02_TRAIN_For_Nando exists; loading...\n",
      "\n",
      "SPCAM_Rasp_causal_links_3mth_v2/aggregate_pdf/phq-379.1_parcorr_2021_09_02_TRAIN_For_Nando exists; loading...\n",
      "\n",
      "SPCAM_Rasp_causal_links_3mth_v2/aggregate_pdf/phq-445.99_parcorr_2021_09_02_TRAIN_For_Nando exists; loading...\n",
      "\n",
      "SPCAM_Rasp_causal_links_3mth_v2/aggregate_pdf/phq-524.69_parcorr_2021_09_02_TRAIN_For_Nando exists; loading...\n",
      "\n",
      "SPCAM_Rasp_causal_links_3mth_v2/aggregate_pdf/phq-609.78_parcorr_2021_09_02_TRAIN_For_Nando exists; loading...\n",
      "\n",
      "SPCAM_Rasp_causal_links_3mth_v2/aggregate_pdf/phq-691.39_parcorr_2021_09_02_TRAIN_For_Nando exists; loading...\n",
      "\n",
      "SPCAM_Rasp_causal_links_3mth_v2/aggregate_pdf/phq-763.4_parcorr_2021_09_02_TRAIN_For_Nando exists; loading...\n",
      "\n",
      "SPCAM_Rasp_causal_links_3mth_v2/aggregate_pdf/phq-820.86_parcorr_2021_09_02_TRAIN_For_Nando exists; loading...\n",
      "\n",
      "SPCAM_Rasp_causal_links_3mth_v2/aggregate_pdf/phq-859.53_parcorr_2021_09_02_TRAIN_For_Nando exists; loading...\n",
      "\n",
      "SPCAM_Rasp_causal_links_3mth_v2/aggregate_pdf/phq-887.02_parcorr_2021_09_02_TRAIN_For_Nando exists; loading...\n",
      "\n",
      "SPCAM_Rasp_causal_links_3mth_v2/aggregate_pdf/phq-912.64_parcorr_2021_09_02_TRAIN_For_Nando exists; loading...\n",
      "\n",
      "SPCAM_Rasp_causal_links_3mth_v2/aggregate_pdf/phq-936.2_parcorr_2021_09_02_TRAIN_For_Nando exists; loading...\n",
      "\n",
      "SPCAM_Rasp_causal_links_3mth_v2/aggregate_pdf/phq-957.49_parcorr_2021_09_02_TRAIN_For_Nando exists; loading...\n",
      "\n",
      "SPCAM_Rasp_causal_links_3mth_v2/aggregate_pdf/phq-976.33_parcorr_2021_09_02_TRAIN_For_Nando exists; loading...\n",
      "\n",
      "SPCAM_Rasp_causal_links_3mth_v2/aggregate_pdf/phq-992.56_parcorr_2021_09_02_TRAIN_For_Nando exists; loading...\n",
      "\n",
      "Variable: fsnt\n",
      "SPCAM_Rasp_causal_links_3mth_v2/aggregate_pdf/fsnt_parcorr_2021_09_02_TRAIN_For_Nando exists; loading...\n",
      "\n",
      "Variable: fsns\n",
      "SPCAM_Rasp_causal_links_3mth_v2/aggregate_pdf/fsns_parcorr_2021_09_02_TRAIN_For_Nando exists; loading...\n",
      "\n",
      "Variable: flnt\n",
      "SPCAM_Rasp_causal_links_3mth_v2/aggregate_pdf/flnt_parcorr_2021_09_02_TRAIN_For_Nando exists; loading...\n",
      "\n",
      "Variable: flns\n",
      "SPCAM_Rasp_causal_links_3mth_v2/aggregate_pdf/flns_parcorr_2021_09_02_TRAIN_For_Nando exists; loading...\n",
      "\n",
      "Variable: prect\n",
      "SPCAM_Rasp_causal_links_3mth_v2/aggregate_pdf/prect_parcorr_2021_09_02_TRAIN_For_Nando exists; loading...\n",
      "\n",
      "No errors were found\n",
      "None\n"
     ]
    }
   ],
   "source": [
    "# collected_results, errors = aggregation.collect_results(setup)\n",
    "collected_results, errors = aggregation.collect_results(setup, reuse=True)\n",
    "print(aggregation.print_errors(errors))"
   ]
  },
  {
   "cell_type": "markdown",
   "metadata": {},
   "source": [
    "## Analyze collected results"
   ]
  },
  {
   "cell_type": "code",
   "execution_count": 7,
   "metadata": {
    "tags": []
   },
   "outputs": [
    {
     "name": "stdout",
     "output_type": "stream",
     "text": [
      "Caution! For threshold (0.59): phq-379.1 not normaly distributed\n"
     ]
    }
   ],
   "source": [
    "setup.thrs_argv = ['-c', './nn_config/quantile_dicts/001_quantile_thresholds_mse-6.yml']\n",
    "\n",
    "aggregated_results, var_names_parents = aggregation.aggregate_results(\n",
    "    collected_results, setup, threshold_dict=threshold_dict)\n",
    "# aggregation.print_aggregated_results(var_names_parents, aggregated_results)"
   ]
  },
  {
   "cell_type": "code",
   "execution_count": 8,
   "metadata": {},
   "outputs": [],
   "source": [
    "def calc_mean_num_parents(aggregated_results, save_numparents_dict=False):\n",
    "    numparents = []\n",
    "    numparents_dict = {}; numparents_dict['numparents_dict'] = {}\n",
    "    tot_inputs = len(var_names_parents)\n",
    "    for i, output in enumerate(aggregated_results.keys()):\n",
    "        threshold   = [setup.thresholds[0],'optimized'][threshold_dict==True]\n",
    "        num_parents = aggregated_results[output][str(setup.pc_alphas[0])]['num_parents'][str(threshold)]\n",
    "        numparents.append(num_parents)\n",
    "        numparents_dict['numparents_dict'][output] = num_parents\n",
    "        # print(f\"{i} {output} num. parents: {num_parents}\")\n",
    "    numparents = np.array(numparents)\n",
    "    print(f\"Mean Num. of Parents is: {numparents.mean()} ({numparents.mean()/tot_inputs * 100.} %)\\n\")\n",
    "    \n",
    "    if save_numparents_dict:\n",
    "        # Optmized threshold dictionary: Save?\n",
    "        if not exists(save_numparents_dict):\n",
    "            print(f\"Create {save_numparents_dict} dictionary.\")\n",
    "            with open(save_numparents_dict, 'w') as save_numparents_dict:\n",
    "                yaml.dump(numparents_dict, save_numparents_dict, default_flow_style=False)\n",
    "        else:\n",
    "            print(f\"{save_numparents_dict} dictionary exists.\")\n",
    "    \n",
    "    return numparents, numparents_dict"
   ]
  },
  {
   "cell_type": "markdown",
   "metadata": {},
   "source": [
    "## Plots"
   ]
  },
  {
   "cell_type": "markdown",
   "metadata": {},
   "source": [
    "### Plot Outputs-Inputs metrics "
   ]
  },
  {
   "cell_type": "code",
   "execution_count": 9,
   "metadata": {},
   "outputs": [
    {
     "data": {
      "image/png": "[encoded data removed]",
      "text/plain": [
       "<Figure size 864x360 with 3 Axes>"
      ]
     },
     "metadata": {
      "needs_background": "light"
     },
     "output_type": "display_data"
    }
   ],
   "source": [
    "aggregation.plot_matrix_results(\n",
    "    var_names_parents, \n",
    "    aggregated_results, \n",
    "    setup, \n",
    "    values='percentage',\n",
    "    insets=insets,\n",
    "    threshold_dict=threshold_dict,\n",
    "    num_parents=num_parents,\n",
    "    save=save,\n",
    "    masking=masking,\n",
    "    cmap='Reds',\n",
    ")"
   ]
  },
  {
   "cell_type": "code",
   "execution_count": 10,
   "metadata": {},
   "outputs": [
    {
     "name": "stdout",
     "output_type": "stream",
     "text": [
      "Mean Num. of Parents is: 36.353846153846156 (38.67430441898527 %)\n",
      "\n"
     ]
    }
   ],
   "source": [
    "save_numparents_dict = False\n",
    "# save_numparents_dict = f\"./nn_config/quantile_dicts/001_quantile-{setup.thresholds[0]}_numparents.yml\"\n",
    "\n",
    "numparents, numparents_dict = calc_mean_num_parents(aggregated_results, save_numparents_dict=save_numparents_dict)"
   ]
  },
  {
   "cell_type": "code",
   "execution_count": null,
   "metadata": {},
   "outputs": [],
   "source": []
  }
 ],
 "metadata": {
  "kernelspec": {
   "display_name": "causalnncam",
   "language": "python",
   "name": "causalnncam"
  },
  "language_info": {
   "codemirror_mode": {
    "name": "ipython",
    "version": 3
   },
   "file_extension": ".py",
   "mimetype": "text/x-python",
   "name": "python",
   "nbconvert_exporter": "python",
   "pygments_lexer": "ipython3",
   "version": "3.8.13"
  }
 },
 "nbformat": 4,
 "nbformat_minor": 4
}
